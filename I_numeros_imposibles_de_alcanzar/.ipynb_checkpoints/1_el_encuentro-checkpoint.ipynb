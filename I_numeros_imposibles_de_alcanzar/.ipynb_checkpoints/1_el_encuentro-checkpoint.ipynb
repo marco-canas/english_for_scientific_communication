{
 "cells": [
  {
   "cell_type": "markdown",
   "id": "2a4bbfed",
   "metadata": {
    "slideshow": {
     "slide_type": "slide"
    }
   },
   "source": [
    "# I Números imposibles de alcanzar"
   ]
  },
  {
   "cell_type": "markdown",
   "id": "af641555",
   "metadata": {
    "slideshow": {
     "slide_type": "slide"
    }
   },
   "source": [
    "## El encuentro"
   ]
  },
  {
   "cell_type": "markdown",
   "id": "c3b61dec",
   "metadata": {
    "slideshow": {
     "slide_type": "slide"
    }
   },
   "source": [
    "Página 19 "
   ]
  },
  {
   "cell_type": "markdown",
   "id": "7ea70213",
   "metadata": {
    "slideshow": {
     "slide_type": "slide"
    }
   },
   "source": [
    "Lo importante ocurre siempre en un día cualquiera. "
   ]
  },
  {
   "cell_type": "markdown",
   "id": "d215e441",
   "metadata": {
    "slideshow": {
     "slide_type": "slide"
    }
   },
   "source": [
    "Era un 8 de octubre cuando Julio iba a casa de Ana a buscarla. "
   ]
  },
  {
   "cell_type": "markdown",
   "id": "a1d60d62",
   "metadata": {
    "slideshow": {
     "slide_type": "slide"
    }
   },
   "source": [
    "Al dar vuelta en una esquina se topó con otro niño más o menos de su edad, Sotero, montado en su bicicleta, una hermosa bici nuevecita, de un reluciente color rojo, con maravillosos reflejos del sol en el manurioy en los rines. "
   ]
  },
  {
   "cell_type": "markdown",
   "id": "24e44668",
   "metadata": {
    "slideshow": {
     "slide_type": "slide"
    }
   },
   "source": [
    "Inmediatamente hubo un entendimiento tácito entre Sotero y Julio. "
   ]
  },
  {
   "cell_type": "markdown",
   "id": "c5c2ff30",
   "metadata": {
    "slideshow": {
     "slide_type": "slide"
    }
   },
   "source": [
    "No obstante, Sotero no cedió a la primera a los deseos de Julio de probar la bici. "
   ]
  },
  {
   "cell_type": "markdown",
   "id": "07a3626d",
   "metadata": {
    "slideshow": {
     "slide_type": "slide"
    }
   },
   "source": [
    "-Seguro que no sabes andar en bici- dijo Sotero con cierta arrogancia. "
   ]
  },
  {
   "cell_type": "markdown",
   "id": "53d5647b",
   "metadata": {
    "slideshow": {
     "slide_type": "slide"
    }
   },
   "source": [
    "--¡Qué va!--insistió Julio--, como si tú fueras lo máximo. \n",
    "Claro que se andar en bici, ¿quieres verlo?"
   ]
  },
  {
   "cell_type": "markdown",
   "id": "e66b62df",
   "metadata": {
    "slideshow": {
     "slide_type": "slide"
    }
   },
   "source": [
    "Debatieron un rato sobre la capacidad de Julio para andar en bici, hasta que Sotero, quien era el mejor de su clase en todo lo que tiene que ver con números, decidió retar a Julio. "
   ]
  },
  {
   "cell_type": "markdown",
   "id": "88fc9a77",
   "metadata": {
    "slideshow": {
     "slide_type": "slide"
    }
   },
   "source": [
    "--A ver, tú, si eres tan bueno respóndeme una pregunta. Si me la contestas bien, te dejo dar una vuelta en mi bicicleta nueva.  "
   ]
  },
  {
   "cell_type": "markdown",
   "id": "25c3a8af",
   "metadata": {
    "slideshow": {
     "slide_type": "slide"
    }
   },
   "source": [
    "Julio aceptó el reto. "
   ]
  },
  {
   "cell_type": "markdown",
   "id": "5f2e9758",
   "metadata": {
    "slideshow": {
     "slide_type": "slide"
    }
   },
   "source": [
    "Sotero acaba de aprender a contar hasta 100 y era el único de su clase que lo había aprendido bien. Pensó que Julio no iba a poder resolver el desafío y así no tendría que prestarle la bicicleta. "
   ]
  },
  {
   "cell_type": "markdown",
   "id": "496ac65e",
   "metadata": {
    "slideshow": {
     "slide_type": "slide"
    }
   },
   "source": [
    "--A ver, ¿cómo te llamas?"
   ]
  },
  {
   "cell_type": "markdown",
   "id": "96b57127",
   "metadata": {
    "slideshow": {
     "slide_type": "slide"
    }
   },
   "source": [
    "--Julio, ¿y tú?"
   ]
  },
  {
   "cell_type": "markdown",
   "id": "d9c29130",
   "metadata": {
    "slideshow": {
     "slide_type": "slide"
    }
   },
   "source": [
    "--Yo soy Sotero, pero no cambies el tema y dime ¿Cuál es el número más grande?"
   ]
  },
  {
   "cell_type": "markdown",
   "id": "ba648a8a",
   "metadata": {
    "slideshow": {
     "slide_type": "slide"
    }
   },
   "source": [
    "--Veinte --dijo Julio con cierta candidez--. No--se autocorrigió de inmediato--, treinta --al ver la expresión burlona de Sotero, recordó 40, 50, y luego se acordó de $51, 52, 53, \\ldots$"
   ]
  },
  {
   "cell_type": "markdown",
   "id": "376f1c1f",
   "metadata": {
    "slideshow": {
     "slide_type": "slide"
    }
   },
   "source": [
    "Sotero, que iba una año adelante de Julio en la escuela le soltó el as que tenía escondido bajo la manga:  "
   ]
  },
  {
   "cell_type": "markdown",
   "id": "330d7c69",
   "metadata": {
    "slideshow": {
     "slide_type": "slide"
    }
   },
   "source": [
    "--Cien es el más grande --le dijo con cierta ironía. "
   ]
  },
  {
   "cell_type": "markdown",
   "id": "0043854b",
   "metadata": {
    "slideshow": {
     "slide_type": "slide"
    }
   },
   "source": [
    "Julio, aunque es más joven, también era muy bueno para los números y le dijo: "
   ]
  },
  {
   "cell_type": "markdown",
   "id": "c6f046d2",
   "metadata": {
    "slideshow": {
     "slide_type": "slide"
    }
   },
   "source": [
    "--No te creo, ¿qué te parece uno más cien?¡Eso es más grande que cien!"
   ]
  },
  {
   "cell_type": "markdown",
   "id": "a2f786ed",
   "metadata": {
    "slideshow": {
     "slide_type": "slide"
    }
   },
   "source": [
    "--Sí, ignorante --respondió Sotero--. Se dice \"ciento uno\"."
   ]
  },
  {
   "cell_type": "markdown",
   "id": "e4bd44c7",
   "metadata": {
    "slideshow": {
     "slide_type": "slide"
    }
   },
   "source": [
    "--Bueno, está bien --dijo Julio--. Pues luego viene ciento dos, ciento tres, ciento cuatro...¡Pero ya préstame tu bici!"
   ]
  },
  {
   "cell_type": "markdown",
   "id": "8ab44874",
   "metadata": {
    "slideshow": {
     "slide_type": "slide"
    }
   },
   "source": [
    "--No, el reto no ha terminado --dijo Sotero un tanto desconcertado--. Vamos a ver quién de los dos dice el número más grande. "
   ]
  },
  {
   "cell_type": "markdown",
   "id": "c7064c7d",
   "metadata": {
    "slideshow": {
     "slide_type": "slide"
    }
   },
   "source": [
    "--¡No. ahora déjame usar la bico!"
   ]
  },
  {
   "cell_type": "markdown",
   "id": "71f7e8bf",
   "metadata": {
    "slideshow": {
     "slide_type": "slide"
    }
   },
   "source": [
    "--Ya es muy tarde --arguyó Sotero. "
   ]
  },
  {
   "cell_type": "markdown",
   "id": "a44e5a6a",
   "metadata": {
    "slideshow": {
     "slide_type": "slide"
    }
   },
   "source": [
    "Julio, un tanto decepcionado, pero a la vez fascinado, quedó en verse con Sotero la tarde siguiente, ahí, en la misma esquina. "
   ]
  },
  {
   "cell_type": "markdown",
   "id": "986cfa3b",
   "metadata": {
    "slideshow": {
     "slide_type": "slide"
    }
   },
   "source": [
    "Todavía le gritó, como tratando ahora de ser él el que desafía a Sotero:   \n",
    "--¡Cien más cien, uno más que cien más cien, uno más que uno más que cien más cien!"
   ]
  },
  {
   "cell_type": "markdown",
   "id": "c95dea70",
   "metadata": {
    "slideshow": {
     "slide_type": "slide"
    }
   },
   "source": [
    "Y ya casi a una cuadra de distancia, Sotero, le gritó:  \n",
    "--¡Cien más cien más cien més cien... y eso cien veces!  \n",
    "\n",
    "Julio ya no lo oyó. "
   ]
  },
  {
   "cell_type": "markdown",
   "id": "f374b495",
   "metadata": {
    "slideshow": {
     "slide_type": "slide"
    }
   },
   "source": [
    "## EL número más grande"
   ]
  },
  {
   "cell_type": "markdown",
   "id": "bdacfbaf",
   "metadata": {
    "slideshow": {
     "slide_type": "slide"
    }
   },
   "source": [
    "La tarde siguiente, viernes, según lo acordado se volvieron a encontrar.  "
   ]
  },
  {
   "cell_type": "markdown",
   "id": "8c284daa",
   "metadata": {
    "slideshow": {
     "slide_type": "slide"
    }
   },
   "source": [
    "Ya había nacido una amistad que habría de perdurar. "
   ]
  },
  {
   "cell_type": "markdown",
   "id": "3e539f19",
   "metadata": {
    "slideshow": {
     "slide_type": "slide"
    }
   },
   "source": [
    "En el parque cercano a la casa de Sotero compartieron la hermosa bicicleta hasta que empezó a oscurecer. "
   ]
  },
  {
   "cell_type": "markdown",
   "id": "774420ed",
   "metadata": {
    "slideshow": {
     "slide_type": "slide"
    }
   },
   "source": [
    "--Ven, Julio, vamos a mi casa, mi mamá hizo agua de jamaica que es rica. ¿No quieres un vaso?"
   ]
  },
  {
   "cell_type": "markdown",
   "id": "116fea29",
   "metadata": {
    "slideshow": {
     "slide_type": "slide"
    }
   },
   "source": [
    "Julio aceptó. Isabel, hermana mayor de Sotero, estaba en la casa y leía un libro cuando Julio preguntó:  \n",
    "-- ¿Qué me gritaste ayer cuando te ibas?"
   ]
  },
  {
   "cell_type": "markdown",
   "id": "eeab7409",
   "metadata": {
    "slideshow": {
     "slide_type": "slide"
    }
   },
   "source": [
    "Sotero, que no había olvidado aquel juego del número más grande, no había dejado de pensar en ello. Recordó:\n",
    "--¡Cien más cien más cien, cien veces!"
   ]
  },
  {
   "cell_type": "code",
   "execution_count": 3,
   "id": "7d76e87b",
   "metadata": {
    "slideshow": {
     "slide_type": "slide"
    }
   },
   "outputs": [
    {
     "data": {
      "text/plain": [
       "10000"
      ]
     },
     "execution_count": 3,
     "metadata": {},
     "output_type": "execute_result"
    }
   ],
   "source": [
    "n = 100\n",
    "for i in range(99):\n",
    "    n = n + 100\n",
    "    \n",
    "n     "
   ]
  },
  {
   "cell_type": "markdown",
   "id": "bcff2338",
   "metadata": {
    "slideshow": {
     "slide_type": "slide"
    }
   },
   "source": [
    "Isabel, que escuchaba la discusión, agregó:  \n",
    "-- Eso es cien por cien y se llama diez mil. "
   ]
  },
  {
   "cell_type": "code",
   "execution_count": 4,
   "id": "e6213202",
   "metadata": {
    "slideshow": {
     "slide_type": "slide"
    }
   },
   "outputs": [
    {
     "data": {
      "text/plain": [
       "10000"
      ]
     },
     "execution_count": 4,
     "metadata": {},
     "output_type": "execute_result"
    }
   ],
   "source": [
    "100*100"
   ]
  },
  {
   "cell_type": "markdown",
   "id": "68615aed",
   "metadata": {
    "slideshow": {
     "slide_type": "slide"
    }
   },
   "source": [
    "-- Pues entonces tomemos cien por cien por cien, cien veces --reviró Julio. "
   ]
  },
  {
   "cell_type": "markdown",
   "id": "8900107c",
   "metadata": {
    "slideshow": {
     "slide_type": "slide"
    }
   },
   "source": [
    "Isabel no estaba segura de que ese número tiviese un nombre, ni siquiera de que fuera un número. Entre tanto llegó Raúl, el papá de Sotero, de buen humor, y saludó a los tres niños. "
   ]
  },
  {
   "cell_type": "markdown",
   "id": "9594bd36",
   "metadata": {
    "slideshow": {
     "slide_type": "subslide"
    }
   },
   "source": [
    "--¿Y quién es ese jovencito? --´preguntó refiriéndose al invitado. "
   ]
  },
  {
   "cell_type": "markdown",
   "id": "48fc001a",
   "metadata": {
    "slideshow": {
     "slide_type": "slide"
    }
   },
   "source": [
    "--Soy Julio --respondió éste--.Vivo aquí a dos cuadras. "
   ]
  },
  {
   "cell_type": "markdown",
   "id": "ec67b8bc",
   "metadata": {
    "slideshow": {
     "slide_type": "slide"
    }
   },
   "source": [
    "--¡Mucho gusto!--exclamó don Raúl--¿Y se puede saber a qué estaban jugando?"
   ]
  },
  {
   "cell_type": "markdown",
   "id": "2b829e80",
   "metadata": {
    "slideshow": {
     "slide_type": "slide"
    }
   },
   "source": [
    "--A ver quién dice el número más grande --respondió Sotero. "
   ]
  },
  {
   "cell_type": "markdown",
   "id": "de764fc3",
   "metadata": {
    "slideshow": {
     "slide_type": "slide"
    }
   },
   "source": [
    "--¿Y en qué número van ya? --cuestionó don Raúl con cierta sorna."
   ]
  },
  {
   "cell_type": "markdown",
   "id": "8e71f889",
   "metadata": {
    "slideshow": {
     "slide_type": "slide"
    }
   },
   "source": [
    "Isabel se apuró a decir:"
   ]
  },
  {
   "cell_type": "markdown",
   "id": "09f3e4ec",
   "metadata": {
    "slideshow": {
     "slide_type": "slide"
    }
   },
   "source": [
    "--Vamos en un numerote, pero no sabemos cómo se llama, ni siquiera sabemos si es un número. "
   ]
  },
  {
   "cell_type": "markdown",
   "id": "e8848c26",
   "metadata": {
    "slideshow": {
     "slide_type": "slide"
    }
   },
   "source": [
    "--¿Pues cuál es? --preguntó el papá."
   ]
  },
  {
   "cell_type": "markdown",
   "id": "c3eb281d",
   "metadata": {
    "slideshow": {
     "slide_type": "slide"
    }
   },
   "source": [
    "--Cien por cien por cien, cien veces --respondió Isabel muy ufana. "
   ]
  },
  {
   "cell_type": "markdown",
   "id": "5f8895ee",
   "metadata": {
    "slideshow": {
     "slide_type": "slide"
    }
   },
   "source": [
    "Don Raúl, matemático de profesión, les dijo:"
   ]
  },
  {
   "cell_type": "markdown",
   "id": "dc04552d",
   "metadata": {
    "slideshow": {
     "slide_type": "slide"
    }
   },
   "source": [
    "--Se dice \"cien a la cien\" y sí es un número. Se escribe como un uno seguido de doscientos ceros."
   ]
  },
  {
   "cell_type": "markdown",
   "id": "f1c7da3a",
   "metadata": {
    "slideshow": {
     "slide_type": "slide"
    }
   },
   "source": [
    "(Este número es el cuadrado de diéz a la cien, es decir, es un gúgol (googol) al cuadrado. Un 1 con 100 ceros es el llamado gúgol y un gúgol de ceros lo llaman gúgolplex(googoplex) Véase E. Kasner y J. Newman, Matemáticas e imaginación.) "
   ]
  },
  {
   "cell_type": "code",
   "execution_count": 1,
   "id": "ec5ff040",
   "metadata": {
    "slideshow": {
     "slide_type": "slide"
    }
   },
   "outputs": [
    {
     "data": {
      "text/plain": [
       "100000000000000000000000000000000000000000000000000000000000000000000000000000000000000000000000000000000000000000000000000000000000000000000000000000000000000000000000000000000000000000000000000000000"
      ]
     },
     "execution_count": 1,
     "metadata": {},
     "output_type": "execute_result"
    }
   ],
   "source": [
    "100**100"
   ]
  },
  {
   "cell_type": "code",
   "execution_count": 2,
   "id": "a8974195",
   "metadata": {
    "slideshow": {
     "slide_type": "slide"
    }
   },
   "outputs": [
    {
     "data": {
      "text/plain": [
       "201"
      ]
     },
     "execution_count": 2,
     "metadata": {},
     "output_type": "execute_result"
    }
   ],
   "source": [
    "len(str(100**100)) "
   ]
  },
  {
   "cell_type": "code",
   "execution_count": 4,
   "id": "b1d5c5ea",
   "metadata": {
    "slideshow": {
     "slide_type": "slide"
    }
   },
   "outputs": [
    {
     "data": {
      "text/plain": [
       "100000000000000000000000000000000000000000000000000000000000000000000000000000000000000000000000000000000000000000000000000000000000000000000000000000000000000000000000000000000000000000000000000000000"
      ]
     },
     "execution_count": 4,
     "metadata": {},
     "output_type": "execute_result"
    }
   ],
   "source": [
    "(10**2)**100"
   ]
  },
  {
   "cell_type": "code",
   "execution_count": 3,
   "id": "d1129f1e",
   "metadata": {
    "slideshow": {
     "slide_type": "slide"
    }
   },
   "outputs": [
    {
     "data": {
      "text/plain": [
       "100000000000000000000000000000000000000000000000000000000000000000000000000000000000000000000000000000000000000000000000000000000000000000000000000000000000000000000000000000000000000000000000000000000"
      ]
     },
     "execution_count": 3,
     "metadata": {},
     "output_type": "execute_result"
    }
   ],
   "source": [
    "10**200"
   ]
  },
  {
   "cell_type": "markdown",
   "id": "3b794c29",
   "metadata": {
    "slideshow": {
     "slide_type": "slide"
    }
   },
   "source": [
    "## Observación: $10^{n}$ es un número que tiene $n$ ceros. "
   ]
  },
  {
   "cell_type": "markdown",
   "id": "4420706c",
   "metadata": {
    "slideshow": {
     "slide_type": "slide"
    }
   },
   "source": [
    "--Eso no cabría en un renglón de mi cuaderno --masculló Sotero. "
   ]
  },
  {
   "cell_type": "markdown",
   "id": "1cd67ce0",
   "metadata": {
    "slideshow": {
     "slide_type": "slide"
    }
   },
   "source": [
    "\"Cien más cien, cien por cien, cien a la cien, ¡vaya números! --pensaba para sí Julio--. Cien más cien, doscientos; cien por cien, diez mil; cien a la cien...\" y ya no supo qué contestar. Además, cien por cien era *diez mil*, cosa que no le había convencido ni a Julio ni a Sotero, ¿dónde estaban los dos *cienes* que habían metido?"
   ]
  },
  {
   "cell_type": "markdown",
   "id": "70121e89",
   "metadata": {
    "slideshow": {
     "slide_type": "slide"
    }
   },
   "source": [
    "Entre tanto, ambos empezaron a intuir la desconcertante idea de que tal vez nunca encontrarían el número más grande de todos. "
   ]
  },
  {
   "cell_type": "markdown",
   "id": "81166a68",
   "metadata": {
    "slideshow": {
     "slide_type": "slide"
    }
   },
   "source": [
    "Siempre habría algien que iba a tener uno mayor. "
   ]
  },
  {
   "cell_type": "markdown",
   "id": "ec8dacb7",
   "metadata": {
    "slideshow": {
     "slide_type": "slide"
    }
   },
   "source": [
    "Aquel 8 de octubre, día del encuentro, fue importante porque Sotero y Julio se hicieron amigos inseparables, \"uña y mugre\", como suele decirse. "
   ]
  },
  {
   "cell_type": "markdown",
   "id": "58af28ac",
   "metadata": {
    "slideshow": {
     "slide_type": "slide"
    }
   },
   "source": [
    "**Las ideas, como las amistades, requieren de maduración**.  "
   ]
  },
  {
   "cell_type": "markdown",
   "id": "6be02770",
   "metadata": {
    "slideshow": {
     "slide_type": "slide"
    }
   },
   "source": [
    "Sotero y Julio tardaron más de dos meses en darse cuenta de que el hecho de que siempre hay alguien más con un número más grande equivale a que \"el número más grande\" era una cosa que no podía existir, era *imposible* encontrarlo. "
   ]
  },
  {
   "cell_type": "markdown",
   "id": "a9f4068e",
   "metadata": {
    "slideshow": {
     "slide_type": "slide"
    }
   },
   "source": [
    "Entretanto, Julio se convirtió en el orgulloso dueño de una bicicleta, azul y tan bonita como la de Sotero. "
   ]
  },
  {
   "cell_type": "markdown",
   "id": "0abe1274",
   "metadata": {
    "slideshow": {
     "slide_type": "slide"
    }
   },
   "source": [
    "Otro viernes, ya cada uno en su propia bici, paseaban por el parque recordando que se habían conocido con motivo de la bici roja y que se habían hecho amigos buscando \"el número más grande\". "
   ]
  },
  {
   "cell_type": "markdown",
   "id": "0847970b",
   "metadata": {
    "slideshow": {
     "slide_type": "slide"
    }
   },
   "source": [
    "--Y, finalmente, ¿qué? ¿Hay un número más grande que todos los demás o no?--preguntó Julio. "
   ]
  },
  {
   "cell_type": "markdown",
   "id": "66094327",
   "metadata": {
    "slideshow": {
     "slide_type": "slide"
    }
   },
   "source": [
    "--Yo creo que no --respondió Sotero--, pero por qué no vamos a mi casa y se lo preguntamos a mi papá. "
   ]
  },
  {
   "cell_type": "markdown",
   "id": "c7df8e1f",
   "metadata": {
    "slideshow": {
     "slide_type": "slide"
    }
   },
   "source": [
    "El otro día pareció saber muy bien la respuesta. "
   ]
  },
  {
   "cell_type": "markdown",
   "id": "5e3748f6",
   "metadata": {
    "slideshow": {
     "slide_type": "slide"
    }
   },
   "source": [
    "--Vamos; al fin que es viernes y no hay que hacer tarea para la escuela--accedió Julio. "
   ]
  },
  {
   "cell_type": "markdown",
   "id": "caab9c01",
   "metadata": {
    "slideshow": {
     "slide_type": "slide"
    }
   },
   "source": [
    "Hacía frío y doña Teresa, mamá de Sotero, había preparado ponche con guayaba y caña de azúcar. "
   ]
  },
  {
   "cell_type": "markdown",
   "id": "4ae9b500",
   "metadata": {
    "slideshow": {
     "slide_type": "slide"
    }
   },
   "source": [
    "Isabel y los dos niños disfrutaban el ponche que los hacía entrar en calor cuando llegó don Raúl. "
   ]
  },
  {
   "cell_type": "markdown",
   "id": "71683af2",
   "metadata": {
    "slideshow": {
     "slide_type": "slide"
    }
   },
   "source": [
    "--¡Vaya, qué bien! --exclamó--. Qué agradable ver a todos reunidos. ¿Qué hacen?"
   ]
  },
  {
   "cell_type": "markdown",
   "id": "99b76a0a",
   "metadata": {
    "slideshow": {
     "slide_type": "slide"
    }
   },
   "source": [
    "--Esperarte, papá. "
   ]
  },
  {
   "cell_type": "markdown",
   "id": "d697ed66",
   "metadata": {
    "slideshow": {
     "slide_type": "slide"
    }
   },
   "source": [
    "--Pues díganme para qué soy bueno --respondió con cierto orgullo don Raúl. "
   ]
  },
  {
   "cell_type": "markdown",
   "id": "20fff0f3",
   "metadata": {
    "slideshow": {
     "slide_type": "slide"
    }
   },
   "source": [
    "--Queremos que nos expliques si existe el número más grande que todos. "
   ]
  },
  {
   "cell_type": "markdown",
   "id": "f1ac4173",
   "metadata": {
    "slideshow": {
     "slide_type": "slide"
    }
   },
   "source": [
    "--¡Imposible!--exclamó don Raúl, y ante la cara de desconcierto de los tres niños, abundó--:Es imposible encontrar el número más grande--y con cierto aire de suficiencia empezó a contar. "
   ]
  },
  {
   "cell_type": "markdown",
   "id": "cd477d23",
   "metadata": {
    "slideshow": {
     "slide_type": "slide"
    }
   },
   "source": [
    "Para ese momento doña Teresa se había unido a la conversación y también se disponía a escuchar con atención. "
   ]
  },
  {
   "cell_type": "markdown",
   "id": "a51b6712",
   "metadata": {
    "slideshow": {
     "slide_type": "slide"
    }
   },
   "source": [
    "Don Raúl comenzó diciendo: "
   ]
  },
  {
   "cell_type": "markdown",
   "id": "6a3759ea",
   "metadata": {
    "slideshow": {
     "slide_type": "slide"
    }
   },
   "source": [
    "--En matemáticas es posible *definir* un objeto por ciertas propiedades, sin que este objeto necesariamente exista.  "
   ]
  },
  {
   "cell_type": "markdown",
   "id": "9138352a",
   "metadata": {
    "slideshow": {
     "slide_type": "slide"
    }
   },
   "source": [
    "Por ejemplo, los números que se usan para contar se pueden comparar según su tamaño. "
   ]
  },
  {
   "cell_type": "markdown",
   "id": "741b7a84",
   "metadata": {
    "slideshow": {
     "slide_type": "slide"
    }
   },
   "source": [
    "i tenemos dos números diferentes, alguno de ellos siempre será mayor que el otro --todos escuchaban con atención--."
   ]
  },
  {
   "cell_type": "markdown",
   "id": "cd18fc26",
   "metadata": {
    "slideshow": {
     "slide_type": "slide"
    }
   },
   "source": [
    "Así, que nos podemos preguntar ¿cuál de todos los números es el que tiene la propiedad de ser el mayor que todos los demás? "
   ]
  },
  {
   "cell_type": "markdown",
   "id": "9ba6ec08",
   "metadata": {
    "slideshow": {
     "slide_type": "slide"
    }
   },
   "source": [
    "Isabel respondió de inmediato: "
   ]
  },
  {
   "cell_type": "markdown",
   "id": "fbc95e4c",
   "metadata": {
    "slideshow": {
     "slide_type": "slide"
    }
   },
   "source": [
    "--¡Ese número no existe!"
   ]
  },
  {
   "cell_type": "markdown",
   "id": "46a76ad6",
   "metadata": {
    "slideshow": {
     "slide_type": "slide"
    }
   },
   "source": [
    "--Bien, Isabel, dinos por qué. "
   ]
  },
  {
   "cell_type": "markdown",
   "id": "f2b694e6",
   "metadata": {
    "slideshow": {
     "slide_type": "slide"
    }
   },
   "source": [
    "--Pues porque siempre podemos obtener uno más grande, por ejemplo al sumarle uno. "
   ]
  },
  {
   "cell_type": "markdown",
   "id": "f15772a3",
   "metadata": {
    "slideshow": {
     "slide_type": "slide"
    }
   },
   "source": [
    "--Muy bien, pequeña-- respondió halagado don Raúl, mientras Julio y Sotero se voltearon a ver, como aceptando el argumento--. "
   ]
  },
  {
   "cell_type": "markdown",
   "id": "ced8e439",
   "metadata": {
    "slideshow": {
     "slide_type": "slide"
    }
   },
   "source": [
    "Otro ejemplo de algo que se puede definir pero que no existe es \"la fracción más grande de todas las fracciones que son menores que uno\". "
   ]
  },
  {
   "cell_type": "markdown",
   "id": "b548c628",
   "metadata": {
    "slideshow": {
     "slide_type": "slide"
    }
   },
   "source": [
    "Los chicos voltearon a verse otra vez, pues ya los rebasaban estos conceptos. "
   ]
  },
  {
   "cell_type": "markdown",
   "id": "6aa4715b",
   "metadata": {
    "slideshow": {
     "slide_type": "slide"
    }
   },
   "source": [
    "Sin embargo, el gusto con el que don Raúl contaba estas cosas les resultaba atractivo a los chicos, quienes escuchaban con atención. "
   ]
  },
  {
   "cell_type": "markdown",
   "id": "a07af796",
   "metadata": {
    "slideshow": {
     "slide_type": "slide"
    }
   },
   "source": [
    "Don Raúl continuó:"
   ]
  },
  {
   "cell_type": "markdown",
   "id": "f6bdc336",
   "metadata": {
    "slideshow": {
     "slide_type": "slide"
    }
   },
   "source": [
    "--Podríamos pensar que esta fracción es 0.9. "
   ]
  },
  {
   "cell_type": "markdown",
   "id": "480bb673",
   "metadata": {
    "slideshow": {
     "slide_type": "slide"
    }
   },
   "source": [
    "--No, papá -- objetó inmediatamente Isabel--. Si tomamos $0.99$, ésta será una fracción menor que uno y mayor que $0.9$. "
   ]
  },
  {
   "cell_type": "markdown",
   "id": "738a41eb",
   "metadata": {
    "slideshow": {
     "slide_type": "slide"
    }
   },
   "source": [
    "--En efecto, cariño --reconoció don Raúl, y tomando una hoja de papel continuó--. Así que obtenemos una sucesión-- y escribió--:\n",
    "\n",
    "$$ 0.9 < 0.99 < 0.999 < 0.9999 < \\cdots < 1. $$\n"
   ]
  },
  {
   "cell_type": "markdown",
   "id": "3aa6c752",
   "metadata": {
    "slideshow": {
     "slide_type": "slide"
    }
   },
   "source": [
    "\"Por lo que sería natural suponer que entonces el número $x$ buscado es:\n",
    "\n",
    "$$ 0.999999999999999..., $$\n",
    "\n",
    "donde los puntos suspensivos indican que la cadena de nueves nunca acaba.\""
   ]
  },
  {
   "cell_type": "markdown",
   "id": "129a4c91",
   "metadata": {
    "slideshow": {
     "slide_type": "slide"
    }
   },
   "source": [
    "Es correcto afirmar que el número $x$ es mayor que cualquier otro número que es menor que uno. "
   ]
  },
  {
   "cell_type": "markdown",
   "id": "8866f206",
   "metadata": {
    "slideshow": {
     "slide_type": "slide"
    }
   },
   "source": []
  },
  {
   "cell_type": "code",
   "execution_count": null,
   "id": "f7f379f5",
   "metadata": {
    "slideshow": {
     "slide_type": "slide"
    }
   },
   "outputs": [],
   "source": []
  }
 ],
 "metadata": {
  "celltoolbar": "Slideshow",
  "kernelspec": {
   "display_name": "Python 3",
   "language": "python",
   "name": "python3"
  },
  "language_info": {
   "codemirror_mode": {
    "name": "ipython",
    "version": 3
   },
   "file_extension": ".py",
   "mimetype": "text/x-python",
   "name": "python",
   "nbconvert_exporter": "python",
   "pygments_lexer": "ipython3",
   "version": "3.8.8"
  },
  "latex_envs": {
   "LaTeX_envs_menu_present": true,
   "autoclose": false,
   "autocomplete": false,
   "bibliofile": "biblio.bib",
   "cite_by": "apalike",
   "current_citInitial": 1,
   "eqLabelWithNumbers": true,
   "eqNumInitial": 1,
   "hotkeys": {
    "equation": "Ctrl-E",
    "itemize": "Ctrl-I"
   },
   "labels_anchors": false,
   "latex_user_defs": false,
   "report_style_numbering": false,
   "user_envs_cfg": false
  },
  "rise": {
   "enable_chalkboard": true,
   "theme": "sky",
   "transition": "zoom"
  }
 },
 "nbformat": 4,
 "nbformat_minor": 5
}
