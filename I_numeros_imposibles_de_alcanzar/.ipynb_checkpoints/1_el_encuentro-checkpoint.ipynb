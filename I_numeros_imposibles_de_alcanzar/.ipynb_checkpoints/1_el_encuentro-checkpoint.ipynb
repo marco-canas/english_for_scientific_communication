{
 "cells": [
  {
   "cell_type": "markdown",
   "id": "2a4bbfed",
   "metadata": {
    "slideshow": {
     "slide_type": "slide"
    }
   },
   "source": [
    "# I Números imposibles de alcanzar"
   ]
  },
  {
   "cell_type": "markdown",
   "id": "af641555",
   "metadata": {
    "slideshow": {
     "slide_type": "slide"
    }
   },
   "source": [
    "## El encuentro"
   ]
  },
  {
   "cell_type": "markdown",
   "id": "c3b61dec",
   "metadata": {
    "slideshow": {
     "slide_type": "slide"
    }
   },
   "source": [
    "Página 19 "
   ]
  },
  {
   "cell_type": "markdown",
   "id": "7ea70213",
   "metadata": {
    "slideshow": {
     "slide_type": "slide"
    }
   },
   "source": [
    "Lo importante ocurre siempre en un día cualquiera. "
   ]
  },
  {
   "cell_type": "markdown",
   "id": "d215e441",
   "metadata": {
    "slideshow": {
     "slide_type": "slide"
    }
   },
   "source": [
    "Era un 8 de octubre cuando Julio iba a casa de Ana a buscarla. "
   ]
  },
  {
   "cell_type": "markdown",
   "id": "a1d60d62",
   "metadata": {
    "slideshow": {
     "slide_type": "slide"
    }
   },
   "source": [
    "Al dar vuelta en una esquina se topó con otro niño más o menos de su edad, Sotero, montado en su bicicleta, una hermosa bici nuevecita, de un reluciente color rojo, con maravillosos reflejos del sol en el manurioy en los rines. "
   ]
  },
  {
   "cell_type": "markdown",
   "id": "24e44668",
   "metadata": {
    "slideshow": {
     "slide_type": "slide"
    }
   },
   "source": [
    "Inmediatamente hubo un entendimiento tácito entre Sotero y Julio. "
   ]
  },
  {
   "cell_type": "markdown",
   "id": "c5c2ff30",
   "metadata": {
    "slideshow": {
     "slide_type": "slide"
    }
   },
   "source": [
    "No obstante, Sotero no cedió a la primera a los deseos de Julio de probar la bici. "
   ]
  },
  {
   "cell_type": "markdown",
   "id": "07a3626d",
   "metadata": {
    "slideshow": {
     "slide_type": "slide"
    }
   },
   "source": [
    "-Seguro que no sabes andar en bici- dijo Sotero con cierta arrogancia. "
   ]
  },
  {
   "cell_type": "markdown",
   "id": "53d5647b",
   "metadata": {
    "slideshow": {
     "slide_type": "slide"
    }
   },
   "source": [
    "--¡Qué va!--insistió Julio--, como si tú fueras lo máximo. \n",
    "Claro que se andar en bici, ¿quieres verlo?"
   ]
  },
  {
   "cell_type": "markdown",
   "id": "e66b62df",
   "metadata": {
    "slideshow": {
     "slide_type": "slide"
    }
   },
   "source": [
    "Debatieron un rato sobre la capacidad de Julio para andar en bici, hasta que Sotero, quien era el mejor de su clase en todo lo que tiene que ver con números, decidió retar a Julio. "
   ]
  },
  {
   "cell_type": "markdown",
   "id": "88fc9a77",
   "metadata": {
    "slideshow": {
     "slide_type": "slide"
    }
   },
   "source": [
    "--A ver, tú, si eres tan bueno respóndeme una pregunta. Si me la contestas bien, te dejo dar una vuelta en mi bicicleta nueva.  "
   ]
  },
  {
   "cell_type": "markdown",
   "id": "25c3a8af",
   "metadata": {
    "slideshow": {
     "slide_type": "slide"
    }
   },
   "source": [
    "Julio aceptó el reto. "
   ]
  },
  {
   "cell_type": "markdown",
   "id": "5f2e9758",
   "metadata": {
    "slideshow": {
     "slide_type": "slide"
    }
   },
   "source": [
    "Sotero acaba de aprender a contar hasta 100 y era el único de su clase que lo había aprendido bien. Pensó que Julio no iba a poder resolver el desafío y así no tendría que prestarle la bicicleta. "
   ]
  },
  {
   "cell_type": "markdown",
   "id": "496ac65e",
   "metadata": {
    "slideshow": {
     "slide_type": "slide"
    }
   },
   "source": [
    "--A ver, ¿cómo te llamas?"
   ]
  },
  {
   "cell_type": "markdown",
   "id": "96b57127",
   "metadata": {
    "slideshow": {
     "slide_type": "slide"
    }
   },
   "source": [
    "--Julio, ¿y tú?"
   ]
  },
  {
   "cell_type": "markdown",
   "id": "d9c29130",
   "metadata": {
    "slideshow": {
     "slide_type": "slide"
    }
   },
   "source": [
    "--Yo soy Sotero, pero no cambies el tema y dime ¿Cuál es el número más grande?"
   ]
  },
  {
   "cell_type": "markdown",
   "id": "ba648a8a",
   "metadata": {
    "slideshow": {
     "slide_type": "slide"
    }
   },
   "source": [
    "--Veinte --dijo Julio con cierta candidez--. No--se autocorrigió de inmediato--, treinta --al ver la expresión burlona de Sotero, recordó 40, 50, y luego se acordó de $51, 52, 53, \\ldots$"
   ]
  },
  {
   "cell_type": "markdown",
   "id": "376f1c1f",
   "metadata": {
    "slideshow": {
     "slide_type": "slide"
    }
   },
   "source": [
    "Sotero, que iba una año adelante de Julio en la escuela le soltó el as que tenía escondido bajo la manga:  "
   ]
  },
  {
   "cell_type": "markdown",
   "id": "330d7c69",
   "metadata": {
    "slideshow": {
     "slide_type": "slide"
    }
   },
   "source": [
    "--Cien es el más grande --le dijo con cierta ironía. "
   ]
  },
  {
   "cell_type": "markdown",
   "id": "0043854b",
   "metadata": {
    "slideshow": {
     "slide_type": "slide"
    }
   },
   "source": [
    "Julio, aunque es más joven, también era muy bueno para los números y le dijo: "
   ]
  },
  {
   "cell_type": "markdown",
   "id": "c6f046d2",
   "metadata": {
    "slideshow": {
     "slide_type": "slide"
    }
   },
   "source": [
    "--No te creo, ¿qué te parece uno más cien?¡Eso es más grande que cien!"
   ]
  },
  {
   "cell_type": "markdown",
   "id": "a2f786ed",
   "metadata": {
    "slideshow": {
     "slide_type": "slide"
    }
   },
   "source": [
    "--Sí, ignorante --respondió Sotero--. Se dice \"ciento uno\"."
   ]
  },
  {
   "cell_type": "markdown",
   "id": "e4bd44c7",
   "metadata": {
    "slideshow": {
     "slide_type": "slide"
    }
   },
   "source": [
    "--Bueno, está bien --dijo Julio--. Pues luego viene ciento dos, ciento tres, ciento cuatro...¡Pero ya préstame tu bici!"
   ]
  },
  {
   "cell_type": "markdown",
   "id": "8ab44874",
   "metadata": {
    "slideshow": {
     "slide_type": "slide"
    }
   },
   "source": [
    "--No, el reto no ha terminado --dijo Sotero un tanto desconcertado--. Vamos a ver quién de los dos dice el número más grande. "
   ]
  },
  {
   "cell_type": "markdown",
   "id": "c7064c7d",
   "metadata": {
    "slideshow": {
     "slide_type": "slide"
    }
   },
   "source": [
    "--¡No. ahora déjame usar la bico!"
   ]
  },
  {
   "cell_type": "markdown",
   "id": "71f7e8bf",
   "metadata": {
    "slideshow": {
     "slide_type": "slide"
    }
   },
   "source": [
    "--Ya es muy tarde --arguyó Sotero. "
   ]
  },
  {
   "cell_type": "markdown",
   "id": "a44e5a6a",
   "metadata": {
    "slideshow": {
     "slide_type": "slide"
    }
   },
   "source": [
    "Julio, un tanto decepcionado, pero a la vez fascinado, quedó en verse con Sotero la tarde siguiente, ahí, en la misma esquina. "
   ]
  },
  {
   "cell_type": "markdown",
   "id": "986cfa3b",
   "metadata": {
    "slideshow": {
     "slide_type": "slide"
    }
   },
   "source": [
    "Todavía le gritó, como tratando ahora de ser él el que desafía a Sotero:   \n",
    "--¡Cien más cien, uno más que cien más cien, uno más que uno más que cien más cien!"
   ]
  },
  {
   "cell_type": "markdown",
   "id": "c95dea70",
   "metadata": {
    "slideshow": {
     "slide_type": "slide"
    }
   },
   "source": [
    "Y ya casi a una cuadra de distancia, Sotero, le gritó:  \n",
    "--¡Cien más cien más cien més cien... y eso cien veces!  \n",
    "\n",
    "Julio ya no lo oyó. "
   ]
  },
  {
   "cell_type": "markdown",
   "id": "f374b495",
   "metadata": {
    "slideshow": {
     "slide_type": "slide"
    }
   },
   "source": [
    "## EL número más grande"
   ]
  },
  {
   "cell_type": "markdown",
   "id": "bdacfbaf",
   "metadata": {
    "slideshow": {
     "slide_type": "slide"
    }
   },
   "source": [
    "La tarde siguiente, viernes, según lo acordado se volvieron a encontrar.  "
   ]
  },
  {
   "cell_type": "markdown",
   "id": "8c284daa",
   "metadata": {
    "slideshow": {
     "slide_type": "slide"
    }
   },
   "source": [
    "Ya había nacido una amistad que habría de perdurar. "
   ]
  },
  {
   "cell_type": "markdown",
   "id": "3e539f19",
   "metadata": {
    "slideshow": {
     "slide_type": "slide"
    }
   },
   "source": [
    "En el parque cercano a la casa de Sotero compartieron la hermosa bicicleta hasta que empezó a oscurecer. "
   ]
  },
  {
   "cell_type": "markdown",
   "id": "774420ed",
   "metadata": {
    "slideshow": {
     "slide_type": "slide"
    }
   },
   "source": [
    "--Ven, Julio, vamos a mi casa, mi mamá hizo agua de jamaica que es rica. ¿No quieres un vaso?"
   ]
  },
  {
   "cell_type": "markdown",
   "id": "116fea29",
   "metadata": {
    "slideshow": {
     "slide_type": "slide"
    }
   },
   "source": [
    "Julio aceptó. Isabel, hermana mayor de Sotero, estaba en la casa y leía un libro cuando Julio preguntó:  \n",
    "-- ¿Qué me gritaste ayer cuando te ibas?"
   ]
  },
  {
   "cell_type": "markdown",
   "id": "eeab7409",
   "metadata": {
    "slideshow": {
     "slide_type": "slide"
    }
   },
   "source": [
    "Sotero, que no había olvidado aquel juego del número más grande, no había dejado de pensar en ello. Recordó:\n",
    "--¡Cien más cien más cien, cien veces!"
   ]
  },
  {
   "cell_type": "code",
   "execution_count": 3,
   "id": "7d76e87b",
   "metadata": {
    "slideshow": {
     "slide_type": "slide"
    }
   },
   "outputs": [
    {
     "data": {
      "text/plain": [
       "10000"
      ]
     },
     "execution_count": 3,
     "metadata": {},
     "output_type": "execute_result"
    }
   ],
   "source": [
    "n = 100\n",
    "for i in range(99):\n",
    "    n = n + 100\n",
    "    \n",
    "n     "
   ]
  },
  {
   "cell_type": "markdown",
   "id": "bcff2338",
   "metadata": {
    "slideshow": {
     "slide_type": "slide"
    }
   },
   "source": [
    "Isabel, que escuchaba la discusión, agregó:  \n",
    "-- Eso es cien por cien y se llama diez mil. "
   ]
  },
  {
   "cell_type": "code",
   "execution_count": 4,
   "id": "e6213202",
   "metadata": {
    "slideshow": {
     "slide_type": "slide"
    }
   },
   "outputs": [
    {
     "data": {
      "text/plain": [
       "10000"
      ]
     },
     "execution_count": 4,
     "metadata": {},
     "output_type": "execute_result"
    }
   ],
   "source": [
    "100*100"
   ]
  },
  {
   "cell_type": "markdown",
   "id": "68615aed",
   "metadata": {
    "slideshow": {
     "slide_type": "slide"
    }
   },
   "source": [
    "-- Pues entonces tomemos cien por cien por cien, cien veces --reviró Julio. "
   ]
  },
  {
   "cell_type": "markdown",
   "id": "8900107c",
   "metadata": {
    "slideshow": {
     "slide_type": "slide"
    }
   },
   "source": [
    "Isabel no estaba segura de que ese número tiviese un nombre, ni siquiera de que fuera un número. Entre tanto llegó Raúl, el papá de Sotero, de buen humor, y saludó a los tres niños. "
   ]
  },
  {
   "cell_type": "markdown",
   "id": "9594bd36",
   "metadata": {
    "slideshow": {
     "slide_type": "subslide"
    }
   },
   "source": [
    "--¿Y quién es ese jovencito? --´preguntó refiriéndose al invitado. "
   ]
  },
  {
   "cell_type": "markdown",
   "id": "48fc001a",
   "metadata": {
    "slideshow": {
     "slide_type": "slide"
    }
   },
   "source": [
    "--Soy Julio --respondió éste--.Vivo aquí a dos cuadras. "
   ]
  },
  {
   "cell_type": "markdown",
   "id": "b1d64111",
   "metadata": {
    "slideshow": {
     "slide_type": "slide"
    }
   },
   "source": [
    "--¡Mucho gusto!--exclamó don Raúl--¿Y se puede saber a qué estaban jugando?"
   ]
  },
  {
   "cell_type": "markdown",
   "id": "89580775",
   "metadata": {
    "slideshow": {
     "slide_type": "slide"
    }
   },
   "source": [
    "--A ver quién dice el número más grande --respondió Sotero. "
   ]
  },
  {
   "cell_type": "markdown",
   "id": "15aa6d61",
   "metadata": {
    "slideshow": {
     "slide_type": "slide"
    }
   },
   "source": [
    "--¿Y en qué número van ya? --cuestionó don Raúl con cierta sorna."
   ]
  },
  {
   "cell_type": "code",
   "execution_count": null,
   "id": "8fc28512",
   "metadata": {
    "slideshow": {
     "slide_type": "slide"
    }
   },
   "outputs": [],
   "source": []
  },
  {
   "cell_type": "code",
   "execution_count": null,
   "id": "7f8aa08c",
   "metadata": {
    "slideshow": {
     "slide_type": "slide"
    }
   },
   "outputs": [],
   "source": []
  },
  {
   "cell_type": "code",
   "execution_count": null,
   "id": "e3156c66",
   "metadata": {
    "slideshow": {
     "slide_type": "slide"
    }
   },
   "outputs": [],
   "source": []
  },
  {
   "cell_type": "code",
   "execution_count": null,
   "id": "ec5ff040",
   "metadata": {},
   "outputs": [],
   "source": []
  }
 ],
 "metadata": {
  "celltoolbar": "Slideshow",
  "kernelspec": {
   "display_name": "Python 3",
   "language": "python",
   "name": "python3"
  },
  "language_info": {
   "codemirror_mode": {
    "name": "ipython",
    "version": 3
   },
   "file_extension": ".py",
   "mimetype": "text/x-python",
   "name": "python",
   "nbconvert_exporter": "python",
   "pygments_lexer": "ipython3",
   "version": "3.8.8"
  },
  "latex_envs": {
   "LaTeX_envs_menu_present": true,
   "autoclose": false,
   "autocomplete": false,
   "bibliofile": "biblio.bib",
   "cite_by": "apalike",
   "current_citInitial": 1,
   "eqLabelWithNumbers": true,
   "eqNumInitial": 1,
   "hotkeys": {
    "equation": "Ctrl-E",
    "itemize": "Ctrl-I"
   },
   "labels_anchors": false,
   "latex_user_defs": false,
   "report_style_numbering": false,
   "user_envs_cfg": false
  },
  "rise": {
   "enable_chalkboard": true,
   "theme": "sky",
   "transition": "zoom"
  }
 },
 "nbformat": 4,
 "nbformat_minor": 5
}
