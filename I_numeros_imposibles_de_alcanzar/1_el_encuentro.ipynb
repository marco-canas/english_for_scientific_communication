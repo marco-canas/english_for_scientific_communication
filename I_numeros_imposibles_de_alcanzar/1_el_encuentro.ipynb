{
 "cells": [
  {
   "cell_type": "markdown",
   "id": "2a4bbfed",
   "metadata": {
    "slideshow": {
     "slide_type": "slide"
    }
   },
   "source": [
    "# I Números imposibles de alcanzar"
   ]
  },
  {
   "cell_type": "markdown",
   "id": "af641555",
   "metadata": {
    "slideshow": {
     "slide_type": "slide"
    }
   },
   "source": [
    "## El encuentro"
   ]
  },
  {
   "cell_type": "markdown",
   "id": "c3b61dec",
   "metadata": {
    "slideshow": {
     "slide_type": "slide"
    }
   },
   "source": [
    "Página 19 "
   ]
  },
  {
   "cell_type": "markdown",
   "id": "7ea70213",
   "metadata": {
    "slideshow": {
     "slide_type": "slide"
    }
   },
   "source": [
    "Lo importante ocurre siempre en un día cualquiera. "
   ]
  },
  {
   "cell_type": "markdown",
   "id": "d215e441",
   "metadata": {
    "slideshow": {
     "slide_type": "slide"
    }
   },
   "source": [
    "Era un 8 de octubre cuando Julio iba a casa de Ana a buscarla. "
   ]
  },
  {
   "cell_type": "markdown",
   "id": "a1d60d62",
   "metadata": {
    "slideshow": {
     "slide_type": "slide"
    }
   },
   "source": [
    "Al dar vuelta en una esquina se topó con otro niño más o menos de su edad, Sotero, montado en su bicicleta, una hermosa bici nuevecita, de un reluciente color rojo, con maravillosos reflejos del sol en el manurioy en los rines. "
   ]
  },
  {
   "cell_type": "markdown",
   "id": "24e44668",
   "metadata": {
    "slideshow": {
     "slide_type": "slide"
    }
   },
   "source": [
    "Inmediatamente hubo un entendimiento tácito entre Sotero y Julio. "
   ]
  },
  {
   "cell_type": "markdown",
   "id": "c5c2ff30",
   "metadata": {
    "slideshow": {
     "slide_type": "slide"
    }
   },
   "source": [
    "No obstante, Sotero no cedió a la primera a los deseos de Julio de probar la bici. "
   ]
  },
  {
   "cell_type": "markdown",
   "id": "07a3626d",
   "metadata": {
    "slideshow": {
     "slide_type": "slide"
    }
   },
   "source": [
    "-Seguro que no sabes andar en bici- dijo Sotero con cierta arrogancia. "
   ]
  },
  {
   "cell_type": "markdown",
   "id": "53d5647b",
   "metadata": {
    "slideshow": {
     "slide_type": "slide"
    }
   },
   "source": [
    "--¡Qué va!--insistió Julio--, como si tú fueras lo máximo. \n",
    "Claro que se andar en bici, ¿quieres verlo?"
   ]
  },
  {
   "cell_type": "markdown",
   "id": "e66b62df",
   "metadata": {
    "slideshow": {
     "slide_type": "slide"
    }
   },
   "source": [
    "Debatieron un rato sobre la capacidad de Julio para andar en bici, hasta que Sotero, quien era el mejor de su clase en todo lo que tiene que ver con números, decidió retar a Julio. "
   ]
  },
  {
   "cell_type": "markdown",
   "id": "88fc9a77",
   "metadata": {
    "slideshow": {
     "slide_type": "slide"
    }
   },
   "source": [
    "--A ver, tú, si eres tan bueno respóndeme una pregunta. Si me la contestas bien, te dejo dar una vuelta en mi bicicleta nueva.  "
   ]
  },
  {
   "cell_type": "markdown",
   "id": "25c3a8af",
   "metadata": {
    "slideshow": {
     "slide_type": "slide"
    }
   },
   "source": [
    "Julio aceptó el reto. "
   ]
  },
  {
   "cell_type": "markdown",
   "id": "5f2e9758",
   "metadata": {
    "slideshow": {
     "slide_type": "slide"
    }
   },
   "source": [
    "Sotero acaba de aprender a contar hasta 100 y era el único de su clase que lo había aprendido bien. Pensó que Julio no iba a poder resolver el desafío y así no tendría que prestarle la bicicleta. "
   ]
  },
  {
   "cell_type": "markdown",
   "id": "496ac65e",
   "metadata": {
    "slideshow": {
     "slide_type": "slide"
    }
   },
   "source": [
    "--A ver, ¿cómo te llamas?"
   ]
  },
  {
   "cell_type": "markdown",
   "id": "96b57127",
   "metadata": {
    "slideshow": {
     "slide_type": "slide"
    }
   },
   "source": [
    "--Julio, ¿y tú?"
   ]
  },
  {
   "cell_type": "markdown",
   "id": "d9c29130",
   "metadata": {
    "slideshow": {
     "slide_type": "slide"
    }
   },
   "source": [
    "--Yo soy Sotero, pero no cambies el tema y dime ¿Cuál es el número más grande?"
   ]
  },
  {
   "cell_type": "markdown",
   "id": "ba648a8a",
   "metadata": {
    "slideshow": {
     "slide_type": "slide"
    }
   },
   "source": [
    "--Veinte --dijo Julio con cierta candidez--. No--se autocorrigió de inmediato--, treinta --al ver la expresión burlona de Sotero, recordó 40, 50, y luego se acordó de $51, 52, 53, \\ldots$"
   ]
  },
  {
   "cell_type": "markdown",
   "id": "376f1c1f",
   "metadata": {
    "slideshow": {
     "slide_type": "slide"
    }
   },
   "source": [
    "Sotero, que iba una año adelante de Julio en la escuela le soltó el as que tenía escondido bajo la manga:  "
   ]
  },
  {
   "cell_type": "markdown",
   "id": "330d7c69",
   "metadata": {
    "slideshow": {
     "slide_type": "slide"
    }
   },
   "source": [
    "--Cien es el más grande --le dijo con cierta ironía. "
   ]
  },
  {
   "cell_type": "markdown",
   "id": "0043854b",
   "metadata": {
    "slideshow": {
     "slide_type": "slide"
    }
   },
   "source": [
    "Julio, aunque es más joven, también era muy bueno para los números y le dijo: "
   ]
  },
  {
   "cell_type": "markdown",
   "id": "c6f046d2",
   "metadata": {
    "slideshow": {
     "slide_type": "slide"
    }
   },
   "source": [
    "--No te creo, ¿qué te parece uno más cien?¡Eso es más grande que cien!"
   ]
  },
  {
   "cell_type": "markdown",
   "id": "a2f786ed",
   "metadata": {
    "slideshow": {
     "slide_type": "slide"
    }
   },
   "source": [
    "--Sí, ignorante --respondió Sotero--. Se dice \"ciento uno\"."
   ]
  },
  {
   "cell_type": "markdown",
   "id": "e4bd44c7",
   "metadata": {
    "slideshow": {
     "slide_type": "slide"
    }
   },
   "source": [
    "--Bueno, está bien --dijo Julio--. Pues luego viene ciento dos, ciento tres, ciento cuatro...¡Pero ya préstame tu bici!"
   ]
  },
  {
   "cell_type": "markdown",
   "id": "8ab44874",
   "metadata": {
    "slideshow": {
     "slide_type": "slide"
    }
   },
   "source": [
    "--No, el reto no ha terminado --dijo Sotero un tanto desconcertado--. Vamos a ver quién de los dos dice el número más grande. "
   ]
  },
  {
   "cell_type": "markdown",
   "id": "c7064c7d",
   "metadata": {
    "slideshow": {
     "slide_type": "slide"
    }
   },
   "source": [
    "--¡No. ahora déjame usar la bico!"
   ]
  },
  {
   "cell_type": "markdown",
   "id": "71f7e8bf",
   "metadata": {
    "slideshow": {
     "slide_type": "slide"
    }
   },
   "source": [
    "--Ya es muy tarde --arguyó Sotero. "
   ]
  },
  {
   "cell_type": "markdown",
   "id": "a44e5a6a",
   "metadata": {
    "slideshow": {
     "slide_type": "slide"
    }
   },
   "source": [
    "Julio, un tanto decepcionado, pero a la vez fascinado, quedó en verse con Sotero la tarde siguiente, ahí, en la misma esquina. "
   ]
  },
  {
   "cell_type": "markdown",
   "id": "986cfa3b",
   "metadata": {
    "slideshow": {
     "slide_type": "slide"
    }
   },
   "source": [
    "Todavía le gritó, como tratando ahora de ser él el que desafía a Sotero:   \n",
    "--¡Cien más cien, uno más que cien más cien, uno más que uno más que cien más cien!"
   ]
  },
  {
   "cell_type": "markdown",
   "id": "c95dea70",
   "metadata": {
    "slideshow": {
     "slide_type": "slide"
    }
   },
   "source": [
    "Y ya casi a una cuadra de distancia, Sotero, le gritó:  \n",
    "--¡Cien más cien más cien més cien... y eso cien veces!  \n",
    "\n",
    "Julio ya no lo oyó. "
   ]
  },
  {
   "cell_type": "markdown",
   "id": "f374b495",
   "metadata": {
    "slideshow": {
     "slide_type": "slide"
    }
   },
   "source": [
    "## EL número más grande"
   ]
  },
  {
   "cell_type": "markdown",
   "id": "bdacfbaf",
   "metadata": {
    "slideshow": {
     "slide_type": "slide"
    }
   },
   "source": [
    "La tarde siguiente, viernes, según lo acordado se volvieron a encontrar.  "
   ]
  },
  {
   "cell_type": "markdown",
   "id": "8c284daa",
   "metadata": {
    "slideshow": {
     "slide_type": "slide"
    }
   },
   "source": [
    "Ya había nacido una amistad que habría de perdurar. "
   ]
  },
  {
   "cell_type": "markdown",
   "id": "3e539f19",
   "metadata": {
    "slideshow": {
     "slide_type": "slide"
    }
   },
   "source": [
    "En el parque cercano a la casa de Sotero compartieron la hermosa bicicleta hasta que empezó a oscurecer. "
   ]
  },
  {
   "cell_type": "markdown",
   "id": "774420ed",
   "metadata": {
    "slideshow": {
     "slide_type": "slide"
    }
   },
   "source": [
    "--Ven, Julio, vamos a mi casa, mi mamá hizo agua de jamaica que es rica. ¿No quieres un vaso?"
   ]
  },
  {
   "cell_type": "markdown",
   "id": "116fea29",
   "metadata": {
    "slideshow": {
     "slide_type": "slide"
    }
   },
   "source": [
    "Julio aceptó. Isabel, hermana mayor de Sotero, estaba en la casa y leía un libro cuando Julio preguntó:  \n",
    "-- ¿Qué me gritaste ayer cuando te ibas?"
   ]
  },
  {
   "cell_type": "markdown",
   "id": "eeab7409",
   "metadata": {
    "slideshow": {
     "slide_type": "slide"
    }
   },
   "source": [
    "Sotero, que no había olvidado aquel juego del número más grande, no había dejado de pensar en ello. Recordó:\n",
    "--¡Cien más cien más cien, cien veces!"
   ]
  },
  {
   "cell_type": "code",
   "execution_count": 3,
   "id": "7d76e87b",
   "metadata": {
    "slideshow": {
     "slide_type": "slide"
    }
   },
   "outputs": [
    {
     "data": {
      "text/plain": [
       "10000"
      ]
     },
     "execution_count": 3,
     "metadata": {},
     "output_type": "execute_result"
    }
   ],
   "source": [
    "n = 100\n",
    "for i in range(99):\n",
    "    n = n + 100\n",
    "    \n",
    "n     "
   ]
  },
  {
   "cell_type": "markdown",
   "id": "bcff2338",
   "metadata": {
    "slideshow": {
     "slide_type": "slide"
    }
   },
   "source": [
    "Isabel, que escuchaba la discusión, agregó:  \n",
    "-- Eso es cien por cien y se llama diez mil. "
   ]
  },
  {
   "cell_type": "code",
   "execution_count": 4,
   "id": "e6213202",
   "metadata": {
    "slideshow": {
     "slide_type": "slide"
    }
   },
   "outputs": [
    {
     "data": {
      "text/plain": [
       "10000"
      ]
     },
     "execution_count": 4,
     "metadata": {},
     "output_type": "execute_result"
    }
   ],
   "source": [
    "100*100"
   ]
  },
  {
   "cell_type": "markdown",
   "id": "68615aed",
   "metadata": {
    "slideshow": {
     "slide_type": "slide"
    }
   },
   "source": [
    "-- Pues entonces tomemos cien por cien por cien, cien veces --reviró Julio. "
   ]
  },
  {
   "cell_type": "markdown",
   "id": "8900107c",
   "metadata": {
    "slideshow": {
     "slide_type": "slide"
    }
   },
   "source": [
    "Isabel no estaba segura de que ese número tiviese un nombre, ni siquiera de que fuera un número. Entre tanto llegó Raúl, el papá de Sotero, de buen humor, y saludó a los tres niños. "
   ]
  },
  {
   "cell_type": "markdown",
   "id": "9594bd36",
   "metadata": {
    "slideshow": {
     "slide_type": "subslide"
    }
   },
   "source": [
    "--¿Y quién es ese jovencito? --´preguntó refiriéndose al invitado. "
   ]
  },
  {
   "cell_type": "markdown",
   "id": "48fc001a",
   "metadata": {
    "slideshow": {
     "slide_type": "slide"
    }
   },
   "source": [
    "--Soy Julio --respondió éste--.Vivo aquí a dos cuadras. "
   ]
  },
  {
   "cell_type": "markdown",
   "id": "d7209f9d",
   "metadata": {
    "slideshow": {
     "slide_type": "slide"
    }
   },
   "source": [
    "--¡Mucho gusto!--exclamó don Raúl--¿Y se puede saber a qué estaban jugando?"
   ]
  },
  {
   "cell_type": "markdown",
   "id": "3d9fcd91",
   "metadata": {
    "slideshow": {
     "slide_type": "slide"
    }
   },
   "source": [
    "--A ver quién dice el número más grande --respondió Sotero. "
   ]
  },
  {
   "cell_type": "markdown",
   "id": "10151172",
   "metadata": {
    "slideshow": {
     "slide_type": "slide"
    }
   },
   "source": [
    "--¿Y en qué número van ya? --cuestionó don Raúl con cierta sorna."
   ]
  },
  {
   "cell_type": "markdown",
   "id": "72bf8eca",
   "metadata": {
    "slideshow": {
     "slide_type": "slide"
    }
   },
   "source": [
    "Isabel se apuró a decir:"
   ]
  },
  {
   "cell_type": "markdown",
   "id": "dd3da521",
   "metadata": {
    "slideshow": {
     "slide_type": "slide"
    }
   },
   "source": [
    "--Vamos en un numerote, pero no sabemos cómo se llama, ni siquiera sabemos si es un número. "
   ]
  },
  {
   "cell_type": "markdown",
   "id": "084ff251",
   "metadata": {
    "slideshow": {
     "slide_type": "slide"
    }
   },
   "source": [
    "--¿Pues cuál es? --preguntó el papá."
   ]
  },
  {
   "cell_type": "markdown",
   "id": "70b9b004",
   "metadata": {
    "slideshow": {
     "slide_type": "slide"
    }
   },
   "source": [
    "--Cien por cien por cien, cien veces --respondió Isabel muy ufana. "
   ]
  },
  {
   "cell_type": "markdown",
   "id": "3598c269",
   "metadata": {
    "slideshow": {
     "slide_type": "slide"
    }
   },
   "source": [
    "Don Raúl, matemático de profesión, les dijo:"
   ]
  },
  {
   "cell_type": "markdown",
   "id": "19c402e0",
   "metadata": {
    "slideshow": {
     "slide_type": "slide"
    }
   },
   "source": [
    "--Se dice \"cien a la cien\" y sí es un número. Se escribe como un uno seguido de doscientos ceros."
   ]
  },
  {
   "cell_type": "markdown",
   "id": "458f61b7",
   "metadata": {
    "slideshow": {
     "slide_type": "slide"
    }
   },
   "source": [
    "(Este número es el cuadrado de diéz a la cien, es decir, es un gúgol (googol) al cuadrado. Un 1 con 100 ceros es el llamado gúgol y un gúgol de ceros lo llaman gúgolplex(googoplex) Véase E. Kasner y J. Newman, Matemáticas e imaginación.) "
   ]
  },
  {
   "cell_type": "code",
   "execution_count": 1,
   "id": "ec5ff040",
   "metadata": {
    "slideshow": {
     "slide_type": "slide"
    }
   },
   "outputs": [
    {
     "data": {
      "text/plain": [
       "100000000000000000000000000000000000000000000000000000000000000000000000000000000000000000000000000000000000000000000000000000000000000000000000000000000000000000000000000000000000000000000000000000000"
      ]
     },
     "execution_count": 1,
     "metadata": {},
     "output_type": "execute_result"
    }
   ],
   "source": [
    "100**100"
   ]
  },
  {
   "cell_type": "code",
   "execution_count": 2,
   "id": "f3387542",
   "metadata": {
    "slideshow": {
     "slide_type": "slide"
    }
   },
   "outputs": [
    {
     "data": {
      "text/plain": [
       "201"
      ]
     },
     "execution_count": 2,
     "metadata": {},
     "output_type": "execute_result"
    }
   ],
   "source": [
    "len(str(100**100)) "
   ]
  },
  {
   "cell_type": "code",
   "execution_count": 4,
   "id": "0e96eaea",
   "metadata": {
    "slideshow": {
     "slide_type": "slide"
    }
   },
   "outputs": [
    {
     "data": {
      "text/plain": [
       "100000000000000000000000000000000000000000000000000000000000000000000000000000000000000000000000000000000000000000000000000000000000000000000000000000000000000000000000000000000000000000000000000000000"
      ]
     },
     "execution_count": 4,
     "metadata": {},
     "output_type": "execute_result"
    }
   ],
   "source": [
    "(10**2)**100"
   ]
  },
  {
   "cell_type": "code",
   "execution_count": 3,
   "id": "38c164b7",
   "metadata": {
    "slideshow": {
     "slide_type": "slide"
    }
   },
   "outputs": [
    {
     "data": {
      "text/plain": [
       "100000000000000000000000000000000000000000000000000000000000000000000000000000000000000000000000000000000000000000000000000000000000000000000000000000000000000000000000000000000000000000000000000000000"
      ]
     },
     "execution_count": 3,
     "metadata": {},
     "output_type": "execute_result"
    }
   ],
   "source": [
    "10**200"
   ]
  },
  {
   "cell_type": "markdown",
   "id": "15f96656",
   "metadata": {
    "slideshow": {
     "slide_type": "slide"
    }
   },
   "source": [
    "## Observación: $10^{n}$ es un número que tiene $n$ ceros. "
   ]
  },
  {
   "cell_type": "markdown",
   "id": "bfc36d31",
   "metadata": {
    "slideshow": {
     "slide_type": "slide"
    }
   },
   "source": [
    "--Eso no cabría en un renglón de mi cuaderno --masculló Sotero. "
   ]
  },
  {
   "cell_type": "markdown",
   "id": "f3bcfc52",
   "metadata": {
    "slideshow": {
     "slide_type": "slide"
    }
   },
   "source": [
    "\"Cien más cien, cien por cien, cien a la cien, ¡vaya números! --pensaba para sí Julio--. Cien más cien, doscientos; cien por cien, diez mil; cien a la cien...\" y ya no supo qué contestar. Además, cien por cien era *diez mil*, cosa que no le había convencido ni a Julio ni a Sotero, ¿dónde estaban los dos *cienes* que habían metido?"
   ]
  },
  {
   "cell_type": "markdown",
   "id": "15913af1",
   "metadata": {
    "slideshow": {
     "slide_type": "slide"
    }
   },
   "source": [
    "Entre tanto, "
   ]
  },
  {
   "cell_type": "code",
   "execution_count": null,
   "id": "cde5de1e",
   "metadata": {
    "slideshow": {
     "slide_type": "slide"
    }
   },
   "outputs": [],
   "source": []
  },
  {
   "cell_type": "code",
   "execution_count": null,
   "id": "98623e9f",
   "metadata": {
    "slideshow": {
     "slide_type": "slide"
    }
   },
   "outputs": [],
   "source": []
  },
  {
   "cell_type": "code",
   "execution_count": null,
   "id": "aae6e8b5",
   "metadata": {
    "slideshow": {
     "slide_type": "slide"
    }
   },
   "outputs": [],
   "source": []
  },
  {
   "cell_type": "code",
   "execution_count": null,
   "id": "f013f21f",
   "metadata": {
    "slideshow": {
     "slide_type": "slide"
    }
   },
   "outputs": [],
   "source": []
  },
  {
   "cell_type": "code",
   "execution_count": null,
   "id": "f6484fde",
   "metadata": {
    "slideshow": {
     "slide_type": "slide"
    }
   },
   "outputs": [],
   "source": []
  },
  {
   "cell_type": "code",
   "execution_count": null,
   "id": "17c45818",
   "metadata": {
    "slideshow": {
     "slide_type": "slide"
    }
   },
   "outputs": [],
   "source": []
  },
  {
   "cell_type": "code",
   "execution_count": null,
   "id": "6667852e",
   "metadata": {
    "slideshow": {
     "slide_type": "slide"
    }
   },
   "outputs": [],
   "source": []
  },
  {
   "cell_type": "code",
   "execution_count": null,
   "id": "189540c1",
   "metadata": {},
   "outputs": [],
   "source": []
  }
 ],
 "metadata": {
  "celltoolbar": "Slideshow",
  "kernelspec": {
   "display_name": "Python 3",
   "language": "python",
   "name": "python3"
  },
  "language_info": {
   "codemirror_mode": {
    "name": "ipython",
    "version": 3
   },
   "file_extension": ".py",
   "mimetype": "text/x-python",
   "name": "python",
   "nbconvert_exporter": "python",
   "pygments_lexer": "ipython3",
   "version": "3.8.8"
  },
  "latex_envs": {
   "LaTeX_envs_menu_present": true,
   "autoclose": false,
   "autocomplete": false,
   "bibliofile": "biblio.bib",
   "cite_by": "apalike",
   "current_citInitial": 1,
   "eqLabelWithNumbers": true,
   "eqNumInitial": 1,
   "hotkeys": {
    "equation": "Ctrl-E",
    "itemize": "Ctrl-I"
   },
   "labels_anchors": false,
   "latex_user_defs": false,
   "report_style_numbering": false,
   "user_envs_cfg": false
  },
  "rise": {
   "enable_chalkboard": true,
   "theme": "sky",
   "transition": "zoom"
  }
 },
 "nbformat": 4,
 "nbformat_minor": 5
}
