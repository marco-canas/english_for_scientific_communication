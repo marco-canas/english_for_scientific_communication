{
 "cells": [
  {
   "cell_type": "markdown",
   "id": "dc06dec7",
   "metadata": {
    "slideshow": {
     "slide_type": "slide"
    }
   },
   "source": [
    "<table align=\"left\">\n",
    "  <td>\n",
    "    <a href=\"https://colab.research.google.com/github/marco-canas/didactica_ciencia_datos/blob/main/1_curso_machine_learning/7_models/1_modelo_general_clase_aula_invertida.ipynb\" target=\"_parent\"><img src=\"https://colab.research.google.com/assets/colab-badge.svg\" alt=\"Open In Colab\"/></a>\n",
    "  </td>\n",
    "</table>"
   ]
  },
  {
   "cell_type": "markdown",
   "id": "e0c5b198",
   "metadata": {
    "slideshow": {
     "slide_type": "slide"
    }
   },
   "source": [
    "### [Video de apoyo a la lectura interactiva y experimental de este cuaderno]()"
   ]
  },
  {
   "cell_type": "markdown",
   "id": "41e82203",
   "metadata": {
    "slideshow": {
     "slide_type": "slide"
    }
   },
   "source": [
    "## [Vínculo al programa del curso:  ]()\n",
    "\n"
   ]
  },
  {
   "cell_type": "markdown",
   "id": "d11ab06d",
   "metadata": {
    "slideshow": {
     "slide_type": "slide"
    }
   },
   "source": [
    "Un reconocimiento a mis estudiantes que han construido conmigo este saber pedagógico:\n",
    "\n",
    "<img src = ''> \n",
    "\n"
   ]
  },
  {
   "cell_type": "markdown",
   "id": "5e3936d8",
   "metadata": {
    "slideshow": {
     "slide_type": "slide"
    }
   },
   "source": [
    "# Llamar a lista o tomar asistencia con python o llamar el equipo para la tarea con video y cuaderno Jupyter sobre medición indirecta de grandes alturas con imágenes"
   ]
  },
  {
   "cell_type": "code",
   "execution_count": 2,
   "id": "7604880f",
   "metadata": {
    "slideshow": {
     "slide_type": "slide"
    }
   },
   "outputs": [
    {
     "name": "stdout",
     "output_type": "stream",
     "text": [
      "Llamando a BOHORQUEZ NAVARRO DINA ESTELA...\n"
     ]
    }
   ],
   "source": [
    "import pandas as pd\n",
    "import random\n",
    "\n",
    "# Cargar la lista de estudiantes desde la URL\n",
    "url = 'https://raw.githubusercontent.com/marco-canas/groups_list/main/seminario_didactica_aritmetica.csv'\n",
    "estudiantes = pd.read_csv(url)\n",
    "\n",
    "# Función para llamar a un estudiante aleatoriamente y registrar su nota de seguimiento\n",
    "def llamar_estudiante():\n",
    "    estudiante_aleatorio = random.choice(estudiantes['Nombre'])\n",
    "    print(f\"Llamando a {estudiante_aleatorio}...\")\n",
    "    \n",
    "    \n",
    "# Llamar a la función para realizar el proceso\n",
    "llamar_estudiante()\n"
   ]
  },
  {
   "cell_type": "markdown",
   "id": "4f9d8cf9",
   "metadata": {
    "slideshow": {
     "slide_type": "slide"
    }
   },
   "source": [
    "# Modelo general de clase: [aula invertida](https://www3.gobiernodecanarias.org/medusa/ecoescuela/pedagotic/aprendizaje-invertido-flipped-classroom/)"
   ]
  },
  {
   "cell_type": "markdown",
   "id": "eb6ed03a",
   "metadata": {},
   "source": [
    "![Definamos flipped learning de manera gráfica](https://resources.maneuveringthemiddle.com/wp-content/uploads/2020/07/04212706/1-5.png)"
   ]
  },
  {
   "cell_type": "markdown",
   "id": "8d97dc80",
   "metadata": {
    "slideshow": {
     "slide_type": "slide"
    }
   },
   "source": [
    "## Fomento de la lectura literaria asociada a Ingeniería agropecuaria y licenciatura en Matemáticas\n",
    "\n"
   ]
  },
  {
   "cell_type": "markdown",
   "id": "96775931",
   "metadata": {
    "slideshow": {
     "slide_type": "slide"
    }
   },
   "source": [
    "## Título de la clase: Lugares, fechas y horas  \n",
    "\n",
    "\n",
    "\n"
   ]
  },
  {
   "cell_type": "markdown",
   "id": "1d38dd4e",
   "metadata": {
    "slideshow": {
     "slide_type": "slide"
    }
   },
   "source": [
    "### Objetivo de aprendizaje (Enunciar, de manera corta sencilla y clara para todos los asistentes)\n"
   ]
  },
  {
   "cell_type": "markdown",
   "id": "9f2f0c84",
   "metadata": {},
   "source": [
    "\n",
    "Aquí tienes algunos objetivos de aprendizaje apropiados para una clase de inglés sobre \"lugares, fechas y horas\", con el objetivo adicional de desarrollar competencias de comunicación científica y habilidades para convertirse en científico de datos utilizando Python:\n"
   ]
  },
  {
   "cell_type": "markdown",
   "id": "db62098d",
   "metadata": {},
   "source": [
    "\n",
    "1. **Expresión de Fechas y Horas:**\n",
    "   - Ser capaz de expresar fechas y horas en inglés de manera clara y precisa, utilizando tanto el formato de 12 horas como el de 24 horas.\n",
    "   - Ejemplo: \"Today is March 15th, 2024. The meeting starts at 2:30 PM.\"\n",
    "\n",
    "2. **Uso de Expresiones Temporales en Contextos Científicos:**\n",
    "   - Aprender vocabulario específico relacionado con la medición del tiempo en contextos científicos y de análisis de datos.\n",
    "   - Ejemplo: \"The experiment was conducted on January 20th, 2023, at 9:00 AM, UTC.\"\n"
   ]
  },
  {
   "cell_type": "markdown",
   "id": "c697448b",
   "metadata": {},
   "source": [
    "\n",
    "3. **Descripción de Lugares y Eventos:**\n",
    "   - Desarrollar la capacidad de describir lugares y eventos relevantes para la ciencia de datos y la investigación científica en inglés.\n",
    "   - Ejemplo: \"The conference will take place at the convention center downtown next Monday.\"\n"
   ]
  },
  {
   "cell_type": "markdown",
   "id": "093f707b",
   "metadata": {},
   "source": [
    "\n",
    "4. **Comprensión de Textos Científicos:**\n",
    "   - Ser capaz de leer y comprender textos científicos en inglés que contengan información sobre fechas, horas y lugares.\n",
    "   - Ejemplo: Leer artículos científicos sobre investigaciones en ciencia de datos y extraer información sobre fechas, horas y lugares mencionados.\n"
   ]
  },
  {
   "cell_type": "markdown",
   "id": "fe31d66c",
   "metadata": {},
   "source": [
    "\n",
    "5. **Interacción en Entornos Profesionales:**\n",
    "   - Practicar la interacción en entornos profesionales relacionados con la ciencia de datos, como reuniones, conferencias y presentaciones.\n",
    "   - Ejemplo: Participar en discusiones sobre fechas de entrega de proyectos, horarios de reuniones y ubicaciones de eventos profesionales.\n"
   ]
  },
  {
   "cell_type": "markdown",
   "id": "ad6738c6",
   "metadata": {},
   "source": [
    "\n",
    "6. **Uso de Herramientas Tecnológicas para la Gestión del Tiempo:**\n",
    "   - Aprender a utilizar herramientas tecnológicas para la gestión del tiempo, como calendarios en línea y aplicaciones de planificación.\n",
    "   - Ejemplo: Organizar horarios de trabajo y reuniones utilizando herramientas como Google Calendar o Microsoft Outlook.\n"
   ]
  },
  {
   "cell_type": "markdown",
   "id": "0850ab55",
   "metadata": {},
   "source": [
    "\n",
    "7. **Comunicación de Resultados y Hallazgos en Inglés:**\n",
    "   - Desarrollar la capacidad de comunicar resultados y hallazgos de análisis de datos en inglés de manera clara y efectiva.\n",
    "   - Ejemplo: Presentar los resultados de un análisis de datos durante una reunión de equipo utilizando términos específicos de fechas, horas y lugares en inglés.\n",
    "\n",
    "Estos objetivos de aprendizaje están diseñados para ayudar a los estudiantes a desarrollar habilidades lingüísticas específicas relacionadas con fechas, horas y lugares, al tiempo que los preparan para aplicar estas habilidades en contextos científicos y profesionales, como la ciencia de datos."
   ]
  },
  {
   "cell_type": "markdown",
   "id": "540f0ec1",
   "metadata": {
    "slideshow": {
     "slide_type": "slide"
    }
   },
   "source": [
    "## Cuestionario para realizar labores de memorización, observación y síntesis de la información (Además de diagnóstico)\n",
    "\n",
    "1. ¿?\n",
    "2. ¿?\n",
    "3. ¿?\n",
    "4. ¿?\n",
    "5. ¿?"
   ]
  },
  {
   "cell_type": "markdown",
   "id": "ca7261b1",
   "metadata": {
    "slideshow": {
     "slide_type": "slide"
    }
   },
   "source": [
    "## Establecimiento de prerrequisitos conceptuales para alcanzar el objetivo de aprendizaje trazado.   \n",
    "\n",
    "(Elabore una lista de preguntas al rededor de los conceptos que consideres necesarios para empezar la clase).  \n",
    "\n",
    "1. \n",
    "2. \n",
    "3. "
   ]
  },
  {
   "cell_type": "markdown",
   "id": "2298e976",
   "metadata": {
    "slideshow": {
     "slide_type": "slide"
    }
   },
   "source": [
    "# Para el diseño de la clase tenga en cuenta algunos problemas de aprendizaje"
   ]
  },
  {
   "cell_type": "markdown",
   "id": "523d3acf",
   "metadata": {
    "slideshow": {
     "slide_type": "slide"
    }
   },
   "source": []
  },
  {
   "cell_type": "markdown",
   "id": "a40a4704",
   "metadata": {
    "slideshow": {
     "slide_type": "slide"
    }
   },
   "source": [
    "## Secuencia conceptual introductoria a la clase"
   ]
  },
  {
   "cell_type": "markdown",
   "id": "8853d874",
   "metadata": {},
   "source": [
    "## El componente histórico y epistemológico"
   ]
  },
  {
   "cell_type": "markdown",
   "id": "c89d577f",
   "metadata": {},
   "source": [
    "Aquí tienes un diseño de clase para abordar los objetivos de aprendizaje que mencionaste sobre \"lugares, fechas y horas\", con el fin de desarrollar competencias de comunicación científica y habilidades para convertirse en científico de datos utilizando Python:\n",
    "\n",
    "**Tema de la Clase:** Lugares, Fechas y Horas en Contextos Científicos y de Ciencia de Datos\n",
    "\n",
    "**Objetivos de Aprendizaje:**\n",
    "1. Expresar fechas y horas en inglés de manera clara y precisa.\n",
    "2. Utilizar expresiones temporales en contextos científicos y de análisis de datos.\n",
    "3. Describir lugares y eventos relevantes para la ciencia de datos y la investigación científica en inglés.\n",
    "4. Leer y comprender textos científicos en inglés que contengan información sobre fechas, horas y lugares.\n",
    "5. Practicar la interacción en entornos profesionales relacionados con la ciencia de datos.\n",
    "6. Aprender a utilizar herramientas tecnológicas para la gestión del tiempo.\n",
    "7. Comunicar resultados y hallazgos de análisis de datos en inglés de manera clara y efectiva.\n",
    "\n",
    "**Duración:** 1 hora\n",
    "\n",
    "**Estructura de la Clase:**\n",
    "\n",
    "1. **Introducción (5 minutos)**\n",
    "   - Bienvenida a los estudiantes y presentación del tema de la clase.\n",
    "   - Breve explicación sobre la importancia de comprender lugares, fechas y horas en contextos científicos y de ciencia de datos.\n",
    "\n",
    "2. **Expresión de Fechas y Horas (10 minutos)**\n",
    "   - Presentación de las formas de expresar fechas y horas en inglés.\n",
    "   - Ejemplos prácticos y ejercicios de práctica para los estudiantes.\n",
    "\n",
    "3. **Vocabulario Científico y de Ciencia de Datos (10 minutos)**\n",
    "   - Introducción al vocabulario específico relacionado con el tiempo en contextos científicos y de análisis de datos.\n",
    "   - Discusión sobre la importancia de utilizar términos precisos y claros en comunicación científica.\n",
    "\n",
    "4. **Descripción de Lugares y Eventos (15 minutos)**\n",
    "   - Actividad práctica: los estudiantes describen lugares y eventos relacionados con la ciencia de datos y la investigación científica.\n",
    "   - Retroalimentación y corrección de errores por parte del profesor.\n",
    "\n",
    "5. **Lectura y Comprensión de Textos Científicos (15 minutos)**\n",
    "   - Lectura de un texto científico corto que contenga información sobre fechas, horas y lugares.\n",
    "   - Discusión en grupos pequeños sobre la información presentada en el texto.\n",
    "   - Comentarios y explicaciones adicionales por parte del profesor.\n",
    "\n",
    "6. **Simulación de Entornos Profesionales (10 minutos)**\n",
    "   - Actividad de role-play: los estudiantes participan en una reunión ficticia relacionada con proyectos de ciencia de datos.\n",
    "   - Práctica de interacción y comunicación en inglés en un entorno profesional simulado.\n",
    "\n",
    "7. **Uso de Herramientas Tecnológicas (10 minutos)**\n",
    "   - Demostración de herramientas tecnológicas para la gestión del tiempo, como Google Calendar o Microsoft Outlook.\n",
    "   - Ejercicio práctico: los estudiantes utilizan una herramienta tecnológica para organizar su horario.\n"
   ]
  },
  {
   "cell_type": "markdown",
   "id": "d21bd659",
   "metadata": {},
   "source": [
    "\n",
    "8. **Comunicación de Resultados (10 minutos)**\n",
    "   - Actividad final: los estudiantes presentan brevemente los resultados de un análisis de datos utilizando términos de fechas, horas y lugares en inglés.\n",
    "   - Retroalimentación y comentarios finales por parte del profesor.\n",
    "\n",
    "**Cierre (5 minutos)**\n",
    "   - Recapitulación de los objetivos de aprendizaje y resumen de lo aprendido en la clase.\n",
    "   - Anuncio de tareas para la próxima clase, si corresponde.\n",
    "   - Agradecimiento a los estudiantes y despedida.\n"
   ]
  },
  {
   "cell_type": "markdown",
   "id": "f0f4d351",
   "metadata": {},
   "source": [
    "\n",
    "Este diseño de clase proporciona una variedad de actividades prácticas y experiencias de aprendizaje que ayudarán a los estudiantes a alcanzar los objetivos de aprendizaje establecidos, al tiempo que fomenta la participación activa y la práctica efectiva de habilidades lingüísticas y científicas."
   ]
  },
  {
   "cell_type": "markdown",
   "id": "b79c56f0",
   "metadata": {},
   "source": [
    "**Introducción:**\n",
    "\n",
    "[Inicio de la clase con una sonrisa y saludo cordial]\n"
   ]
  },
  {
   "cell_type": "markdown",
   "id": "5b7b2d0f",
   "metadata": {},
   "source": [
    "\n",
    "Buenos días/tardes a todos, ¡y bienvenidos a nuestra clase sobre \"Lugares, Fechas y Horas en Contextos Científicos y de Ciencia de Datos\"! Estoy emocionado/a de tener la oportunidad de explorar este tema importante con ustedes hoy.\n",
    "\n",
    "Hoy nos sumergiremos en el fascinante mundo de la comunicación científica en inglés, centrándonos en cómo expresar lugares, fechas y horas de manera clara y precisa. Como científicos de datos en formación, entender la importancia de estos conceptos no solo nos ayudará en nuestra comunicación diaria, sino que también sentará las bases para nuestra futura carrera profesional.\n",
    "\n",
    "[Establecer conexión con la vida cotidiana o experiencias previas de los estudiantes]\n",
    "\n",
    "¿Alguna vez se han encontrado en una situación en la que necesitaban explicar cuándo y dónde ocurrió un evento importante, ya sea en el ámbito académico o profesional? ¿Han sentido alguna vez la necesidad de comprender y utilizar términos específicos relacionados con el tiempo en el contexto de la ciencia de datos? Hoy, vamos a profundizar en estas habilidades lingüísticas y científicas para que puedan enfrentar estos desafíos con confianza.\n",
    "\n",
    "[Presentación de los objetivos de la clase]\n",
    "\n",
    "Durante nuestra clase de hoy, exploraremos diversas formas de expresar fechas y horas en inglés, aprenderemos vocabulario científico y de ciencia de datos relacionado con el tiempo, practicaremos la descripción de lugares y eventos relevantes para nuestra disciplina, y analizaremos textos científicos para extraer información sobre tiempo y ubicación. Además, tendremos la oportunidad de simular entornos profesionales y utilizar herramientas tecnológicas para gestionar nuestro tiempo de manera eficaz.\n",
    "\n",
    "[Invitación a la participación y preguntas]\n",
    "\n",
    "Estoy aquí para guiarlos a lo largo de este viaje de aprendizaje, pero también quiero animarlos a participar activamente, hacer preguntas y compartir sus propias experiencias. ¡El aprendizaje es un proceso colaborativo y todos tenemos mucho que aprender unos de otros!\n",
    "\n",
    "Sin más preámbulos, ¡vamos a sumergirnos en el maravilloso mundo de los lugares, fechas y horas en la ciencia de datos! ¿Están listos? ¡Comencemos!"
   ]
  },
  {
   "cell_type": "markdown",
   "id": "000e794f",
   "metadata": {},
   "source": [
    "**Desarrollo: Expresión de Fechas y Horas**\n",
    "\n",
    "1. **Presentación de Conceptos Básicos (3 minutos):**\n",
    "   - Comenzaremos nuestra clase explorando cómo expresar fechas y horas en inglés. Para empezar, repasaremos algunos conceptos básicos:\n",
    "     - Las fechas se suelen expresar en el formato \"mes/día/año\" en inglés americano y \"día/mes/año\" en inglés británico.\n",
    "     - Las horas se pueden expresar en el formato de 12 horas (AM/PM) o en el formato de 24 horas (militar).\n",
    "   - Les mostraré algunos ejemplos y les explicaré cómo distinguir entre los dos formatos de hora.\n"
   ]
  },
  {
   "cell_type": "markdown",
   "id": "05de3298",
   "metadata": {},
   "source": [
    "Aquí tienes una lista de vocabulario específico relacionado con fechas y horas en inglés:\n",
    "\n",
    "**Días de la Semana (Days of the Week):**\n",
    "1. Monday (lunes)\n",
    "2. Tuesday (martes)\n",
    "3. Wednesday (miércoles)\n",
    "4. Thursday (jueves)\n",
    "5. Friday (viernes)\n",
    "6. Saturday (sábado)\n",
    "7. Sunday (domingo)\n"
   ]
  },
  {
   "cell_type": "markdown",
   "id": "a9c016c7",
   "metadata": {},
   "source": [
    "\n",
    "**Meses del Año (Months of the Year):**\n",
    "1. January (enero)\n",
    "2. February (febrero)\n",
    "3. March (marzo)\n",
    "4. April (abril)\n",
    "5. May (mayo)\n",
    "6. June (junio)\n",
    "7. July (julio)\n",
    "8. August (agosto)\n",
    "9. September (septiembre)\n",
    "10. October (octubre)\n",
    "11. November (noviembre)\n",
    "12. December (diciembre)\n",
    "\n",
    "**Nombres de Eventos (Event Names):**\n",
    "1. Conference (conferencia)\n",
    "2. Meeting (reunión)\n",
    "3. Seminar (seminario)\n",
    "4. Workshop (taller)\n",
    "5. Presentation (presentación)\n",
    "6. Webinar (webinario)\n",
    "7. Training Session (sesión de entrenamiento)\n",
    "8. Symposium (simposio)\n",
    "9. Exhibition (exhibición)\n",
    "10. Exhibition (exposición)\n",
    "11. Summit (cumbre)\n",
    "\n",
    "**Términos Temporales Comunes (Common Temporal Terms):**\n",
    "1. Today (hoy)\n",
    "2. Tomorrow (mañana)\n",
    "3. Yesterday (ayer)\n",
    "4. Next Week (la próxima semana)\n",
    "5. Last Week (la semana pasada)\n",
    "6. Morning (mañana/tarde)\n",
    "7. Afternoon (tarde)\n",
    "8. Evening (tarde/noche)\n",
    "9. Night (noche)\n",
    "10. Noon (mediodía)\n",
    "11. Midnight (medianoche)\n",
    "12. Weekday (día de la semana)\n",
    "13. Weekend (fin de semana)\n",
    "14. Monthly (mensualmente)\n",
    "15. Yearly (anualmente)\n",
    "\n",
    "Este vocabulario te será útil para expresar fechas y horas con precisión en inglés en una variedad de contextos, desde programar reuniones hasta hablar sobre eventos y actividades."
   ]
  },
  {
   "cell_type": "markdown",
   "id": "ac12494d",
   "metadata": {},
   "source": [
    "\n",
    "2. **Ejemplos Prácticos (5 minutos):**\n",
    "   - Ahora, vamos a practicar la expresión de fechas y horas con algunos ejemplos:\n",
    "     - \"Today is March 15th, 2024.\"\n",
    "     - \"The meeting starts at 2:30 PM.\"\n",
    "     - \"Her birthday is on July 10th.\"\n",
    "   - Les daré a los estudiantes la oportunidad de practicar decir estas frases en voz alta y de crear sus propios ejemplos utilizando fechas y horas.\n"
   ]
  },
  {
   "cell_type": "markdown",
   "id": "f2a9197f",
   "metadata": {},
   "source": [
    "\n",
    "3. **Comparación de Formatos de Hora (2 minutos):**\n",
    "   - Explicaré las diferencias entre el formato de 12 horas y el formato de 24 horas, y discutiremos cuándo es apropiado usar cada uno.\n",
    "   - Destacaré la importancia de ser claro y preciso al expresar el tiempo, especialmente en contextos científicos y profesionales.\n",
    "\n",
    "4. **Preguntas y Respuestas (si hay tiempo restante):**\n",
    "   - Invitaré a los estudiantes a plantear preguntas sobre la expresión de fechas y horas en inglés, y responderé a cualquier duda que puedan tener.\n",
    "   - Fomentaré la participación y la interacción, animándoles a compartir sus propias experiencias y desafíos al expresar fechas y horas en inglés.\n",
    "\n",
    "**Cierre de la Parte:**\n",
    "   - Recapitularé los conceptos principales que hemos cubierto en esta sección y destacaré la importancia de ser claro y preciso al expresar fechas y horas en inglés, especialmente en contextos científicos y profesionales.\n",
    "   - Anunciaré la siguiente sección de la clase y les recordaré a los estudiantes que sigan participando activamente y haciendo preguntas a medida que continuamos explorando el tema."
   ]
  },
  {
   "cell_type": "markdown",
   "id": "8b4b1b6b",
   "metadata": {},
   "source": [
    "**Desarrollo: Vocabulario Científico y de Ciencia de Datos**\n",
    "\n",
    "1. **Introducción al Vocabulario Específico (3 minutos):**\n",
    "   - En esta sección de la clase, exploraremos el vocabulario científico y de ciencia de datos relacionado con el tiempo. Este vocabulario es fundamental para comunicarse de manera efectiva en contextos científicos y profesionales.\n",
    "   - Les proporcionaré ejemplos de términos específicos relacionados con el tiempo que podrían encontrar en textos científicos y de análisis de datos.\n",
    "\n",
    "2. **Actividad de Identificación de Términos (5 minutos):**\n",
    "   - Proporcionaré a los estudiantes una lista de términos relacionados con el tiempo en inglés y les pediré que identifiquen aquellos que consideren relevantes para la ciencia de datos.\n",
    "   - Los estudiantes trabajarán en parejas o en grupos pequeños para revisar la lista y discutir qué términos podrían encontrarse en artículos científicos, informes de investigación o conjuntos de datos.\n",
    "\n",
    "3. **Discusión y Explicación (2 minutos):**\n",
    "   - Después de completar la actividad, facilitaré una discusión en clase donde los estudiantes compartirán los términos que identificaron y discutirán su significado y relevancia en contextos científicos y de ciencia de datos.\n",
    "   - Animaré a los estudiantes a explicar el significado de los términos y a proporcionar ejemplos de cómo podrían utilizarse en el análisis de datos.\n",
    "\n",
    "4. **Creación de Frases (si hay tiempo restante):**\n",
    "   - Para consolidar el vocabulario aprendido, les pediré a los estudiantes que utilicen los términos identificados para crear frases o párrafos cortos que describan situaciones o conceptos relacionados con la ciencia de datos y el tiempo.\n",
    "   - Fomentaré la creatividad y la originalidad, alentándolos a pensar en situaciones reales en las que se podrían aplicar los términos aprendidos.\n",
    "\n",
    "**Cierre de la Parte:**\n",
    "   - Recapitularé los términos y conceptos clave que hemos explorado en esta sección de la clase y destacaré su importancia para la comunicación efectiva en contextos científicos y de ciencia de datos.\n",
    "   - Anunciaré la próxima actividad y les recordaré a los estudiantes que continúen participando activamente y aprovechando al máximo la clase."
   ]
  },
  {
   "cell_type": "markdown",
   "id": "dbe3989c",
   "metadata": {},
   "source": [
    "**Desarrollo: Descripción de Lugares y Eventos**\n",
    "\n",
    "1. **Introducción a la Descripción de Lugares y Eventos (3 minutos):**\n",
    "   - En esta sección de la clase, nos enfocaremos en cómo describir lugares y eventos relevantes para la ciencia de datos y la investigación científica en inglés.\n",
    "   - Explicaré la importancia de ser claro y preciso al describir lugares y eventos en contextos científicos y profesionales.\n",
    "\n",
    "2. **Ejemplos de Descripciones (5 minutos):**\n",
    "   - Presentaré ejemplos de descripciones de lugares y eventos relacionados con la ciencia de datos, como conferencias, laboratorios de investigación y reuniones profesionales.\n",
    "   - Analizaré los ejemplos con los estudiantes, resaltando el vocabulario y las estructuras gramaticales utilizadas para describir lugares y eventos.\n",
    "\n",
    "3. **Actividad de Descripción (5 minutos):**\n",
    "   - Dividiré a los estudiantes en parejas o grupos pequeños y les asignaré un lugar o evento relacionado con la ciencia de datos.\n",
    "   - Los estudiantes tendrán que trabajar juntos para crear una descripción detallada y precisa del lugar o evento asignado, prestando especial atención al uso del vocabulario relevante y las estructuras gramaticales adecuadas.\n",
    "\n",
    "4. **Presentación de Descripciones (2 minutos por grupo):**\n",
    "   - Invitaré a cada grupo a compartir su descripción con el resto de la clase.\n",
    "   - Después de cada presentación, facilitaré una breve discusión donde los estudiantes podrán hacer preguntas y ofrecer comentarios sobre las descripciones presentadas.\n",
    "\n",
    "5. **Tarea para los Estudiantes (si hay tiempo restante):**\n",
    "   - Como tarea, les pediré a los estudiantes que elijan un lugar o evento de su interés relacionado con la ciencia de datos y escriban una descripción detallada en inglés.\n",
    "   - Les proporcionaré una lista de posibles lugares y eventos para elegir, o podrán seleccionar uno por su cuenta.\n",
    "   - Les recordaré que presten atención al uso del vocabulario específico y las estructuras gramaticales adecuadas al escribir su descripción.\n",
    "\n",
    "**Cierre de la Parte:**\n",
    "   - Recapitularé los conceptos principales que hemos cubierto en esta sección de la clase y resaltaré la importancia de ser capaz de describir lugares y eventos de manera clara y precisa en contextos científicos y de ciencia de datos.\n",
    "   - Anunciaré la siguiente sección de la clase y les recordaré a los estudiantes que continúen participando activamente y aprovechando al máximo la clase."
   ]
  },
  {
   "cell_type": "markdown",
   "id": "cc2fc252",
   "metadata": {},
   "source": [
    "**Desarrollo: Lectura y Comprensión de Textos Científicos**\n",
    "\n",
    "1. **Introducción a la Lectura y Comprensión de Textos Científicos (3 minutos):**\n",
    "   - En esta sección de la clase, nos enfocaremos en la habilidad de leer y comprender textos científicos en inglés que contengan información sobre fechas, horas y lugares.\n",
    "   - Explicaré la importancia de esta habilidad para los científicos de datos y profesionales en el campo de la ciencia.\n",
    "\n",
    "2. **Ejemplo de Texto Científico (5 minutos):**\n",
    "   - Presentaré un breve extracto de un artículo científico relacionado con la ciencia de datos o la investigación científica.\n",
    "   - Analizaré el texto con los estudiantes, resaltando las fechas, horas y lugares mencionados, así como el vocabulario y las estructuras gramaticales utilizadas.\n",
    "\n",
    "3. **Actividad de Comprensión (7 minutos):**\n",
    "   - Distribuiré a los estudiantes el extracto del artículo científico y les pediré que lo lean individualmente.\n",
    "   - Después de la lectura, los estudiantes deberán responder preguntas de comprensión relacionadas con las fechas, horas y lugares mencionados en el texto.\n",
    "   - Las preguntas pueden incluir la identificación de la fecha de un evento, la descripción de un lugar específico o la explicación de la relación entre diferentes eventos mencionados en el texto.\n",
    "\n",
    "4. **Discusión y Análisis (si hay tiempo restante):**\n",
    "   - Facilitaré una discusión en clase donde los estudiantes compartirán sus respuestas y explicarán cómo llegaron a ellas.\n",
    "   - Fomentaré el intercambio de ideas y la colaboración entre los estudiantes, animándolos a trabajar juntos para resolver las preguntas de comprensión.\n",
    "\n",
    "5. **Tarea para los Estudiantes:**\n",
    "   - Como tarea, les pediré a los estudiantes que seleccionen un artículo científico relacionado con la ciencia de datos o la investigación científica y lo lean en su tiempo libre.\n",
    "   - Les pediré que identifiquen y anoten las fechas, horas y lugares mencionados en el artículo, así como cualquier vocabulario relevante que encuentren.\n",
    "   - Les recordaré que presten atención a la comprensión del texto en su conjunto y que intenten extraer información significativa de él.\n",
    "\n",
    "**Cierre de la Parte:**\n",
    "   - Recapitularé los conceptos principales que hemos cubierto en esta sección de la clase y resaltaré la importancia de la lectura y comprensión de textos científicos en inglés para los científicos de datos.\n",
    "   - Anunciaré la siguiente sección de la clase y les recordaré a los estudiantes que continúen participando activamente y aprovechando al máximo la clase."
   ]
  },
  {
   "cell_type": "markdown",
   "id": "ca5edd59",
   "metadata": {},
   "source": [
    "**Desarrollo: Simulación de Entornos Profesionales**\n",
    "\n",
    "1. **Introducción a la Simulación de Entornos Profesionales (3 minutos):**\n",
    "   - En esta sección de la clase, nos sumergiremos en una actividad práctica que simulará entornos profesionales relacionados con la ciencia de datos.\n",
    "   - Explicaré la importancia de adquirir habilidades comunicativas en inglés para desenvolverse con éxito en el ámbito laboral.\n",
    "\n",
    "2. **Ejemplo de Escenario Profesional (3 minutos):**\n",
    "   - Presentaré a los estudiantes un escenario profesional común en el campo de la ciencia de datos, como una reunión de equipo para discutir los resultados de un proyecto de análisis de datos.\n",
    "   - Les proporcionaré ejemplos de situaciones y diálogos que podrían ocurrir durante la reunión, incluyendo la expresión de fechas, horas y lugares.\n",
    "\n",
    "3. **Actividad de Role-Play (4 minutos por pareja):**\n",
    "   - Dividiré a los estudiantes en parejas y les asignaré roles específicos para la simulación de la reunión de equipo.\n",
    "   - Cada pareja realizará una breve conversación en inglés basada en el escenario proporcionado, donde practicarán la expresión de fechas, horas y lugares, así como la comunicación de resultados y hallazgos de análisis de datos.\n",
    "\n",
    "4. **Feedback y Reflexión (si hay tiempo restante):**\n",
    "   - Después de la actividad, facilitaré una breve sesión de feedback donde cada pareja compartirá sus experiencias y recibirán comentarios constructivos de parte de sus compañeros y del profesor.\n",
    "   - Animaré a los estudiantes a reflexionar sobre los desafíos enfrentados durante la simulación y a identificar áreas de mejora en su comunicación en inglés.\n",
    "\n",
    "**Cierre de la Parte:**\n",
    "   - Recapitularé los objetivos de la actividad y resaltaré la importancia de practicar habilidades comunicativas en entornos profesionales simulados.\n",
    "   - Anunciaré la próxima sección de la clase y les recordaré a los estudiantes que continúen participando activamente y aprovechando al máximo la clase."
   ]
  },
  {
   "cell_type": "markdown",
   "id": "3d69e01b",
   "metadata": {},
   "source": [
    "**Desarrollo: Uso de Herramientas Tecnológicas**\n",
    "\n",
    "1. **Introducción al Uso de Herramientas Tecnológicas (3 minutos):**\n",
    "   - En esta sección de la clase, exploraremos cómo utilizar herramientas tecnológicas para gestionar el tiempo y mejorar la productividad en contextos científicos y de ciencia de datos.\n",
    "   - Destacaré la importancia de aprovechar las herramientas tecnológicas disponibles para optimizar el trabajo y la colaboración en equipo.\n",
    "\n",
    "2. **Demostración de Herramientas (5 minutos):**\n",
    "   - Presentaré a los estudiantes varias herramientas tecnológicas útiles para la gestión del tiempo y la colaboración en proyectos científicos, como Google Calendar, Trello y Slack.\n",
    "   - Realizaré una demostración rápida de cada herramienta, mostrando cómo pueden utilizarse para organizar tareas, programar eventos y comunicarse eficazmente con el equipo.\n",
    "\n",
    "3. **Actividad de Práctica (5 minutos por herramienta):**\n",
    "   - Dividiré a los estudiantes en grupos pequeños y les asignaré una herramienta tecnológica para que exploren.\n",
    "   - Cada grupo trabajará en equipo para familiarizarse con la herramienta asignada y experimentar con sus diferentes funciones y características.\n",
    "   - Les pediré a los grupos que identifiquen cómo podrían utilizar la herramienta en un contexto científico o de ciencia de datos para mejorar la colaboración y la gestión del tiempo.\n",
    "\n",
    "4. **Presentación de Resultados (3 minutos por grupo):**\n",
    "   - Invitaré a cada grupo a compartir brevemente sus hallazgos y conclusiones sobre la herramienta que exploraron.\n",
    "   - Fomentaré la discusión y el intercambio de ideas entre los grupos, animándolos a aprender unos de otros y a considerar nuevas formas de utilizar las herramientas tecnológicas en su trabajo diario.\n",
    "\n",
    "**Tarea para los Estudiantes:**\n",
    "   - Como tarea, les pediré a los estudiantes que elijan una de las herramientas tecnológicas presentadas en clase y la utilicen para organizar sus tareas y proyectos durante la semana.\n",
    "   - Les animaré a reflexionar sobre su experiencia y a compartir sus observaciones en la siguiente clase, destacando los beneficios y desafíos encontrados al utilizar la herramienta.\n",
    "\n",
    "**Cierre de la Parte:**\n",
    "   - Recapitularé los conceptos principales que hemos cubierto en esta sección de la clase y resaltaré la importancia de utilizar herramientas tecnológicas para mejorar la productividad y la colaboración en contextos científicos y de ciencia de datos.\n",
    "   - Anunciaré la próxima actividad de la clase y les recordaré a los estudiantes que continúen participando activamente y aprovechando al máximo la clase."
   ]
  },
  {
   "cell_type": "markdown",
   "id": "e85eb60f",
   "metadata": {},
   "source": [
    "**Desarrollo: Práctica y Aplicación de Conceptos (15 minutos)**\n",
    "\n",
    "1. **Introducción a la Práctica y Aplicación de Conceptos (3 minutos):**\n",
    "   - En esta sección de la clase, pondremos en práctica los conceptos y habilidades que hemos aprendido hasta ahora en situaciones de la vida real relacionadas con la ciencia de datos.\n",
    "   - Destacaré la importancia de aplicar los conocimientos adquiridos para reforzar el aprendizaje y desarrollar habilidades prácticas.\n",
    "\n",
    "2. **Actividad de Resolución de Problemas (10 minutos):**\n",
    "   - Presentaré a los estudiantes una serie de problemas o casos prácticos relacionados con el uso de fechas, horas, lugares y vocabulario científico en contextos de ciencia de datos.\n",
    "   - Los estudiantes trabajarán individualmente o en grupos pequeños para resolver los problemas, aplicando los conceptos y habilidades aprendidos en la clase.\n",
    "   - Los problemas pueden incluir la interpretación de datos temporales, la programación de eventos o reuniones, la descripción de resultados de análisis de datos, entre otros.\n",
    "\n",
    "3. **Discusión y Análisis (5 minutos):**\n",
    "   - Facilitaré una discusión en clase donde los estudiantes compartirán sus soluciones y explicarán sus enfoques para resolver los problemas.\n",
    "   - Fomentaré el intercambio de ideas y la colaboración entre los estudiantes, animándolos a aprender unos de otros y a explorar diferentes enfoques para abordar los problemas.\n",
    "\n",
    "**Cierre de la Parte:**\n",
    "   - Recapitularé los conceptos y habilidades que hemos aplicado en esta sección de la clase y resaltaré la importancia de la práctica para fortalecer el aprendizaje.\n",
    "   - Anunciaré el cierre de la clase y les recordaré a los estudiantes que continúen practicando y aplicando los conceptos aprendidos en su trabajo diario.\n"
   ]
  },
  {
   "cell_type": "code",
   "execution_count": null,
   "id": "2009957e",
   "metadata": {},
   "outputs": [],
   "source": []
  },
  {
   "cell_type": "code",
   "execution_count": null,
   "id": "e2bb0842",
   "metadata": {},
   "outputs": [],
   "source": []
  },
  {
   "cell_type": "code",
   "execution_count": null,
   "id": "9699e63c",
   "metadata": {},
   "outputs": [],
   "source": []
  },
  {
   "cell_type": "code",
   "execution_count": null,
   "id": "9b0e0293",
   "metadata": {},
   "outputs": [],
   "source": []
  },
  {
   "cell_type": "markdown",
   "id": "2f0141c3",
   "metadata": {},
   "source": [
    "## Tareas para realizar antes de la clase  \n",
    "\n",
    "1. Ver los videos respectivos []()\n",
    "2. Memorizar las definiciones []()\n",
    "3. Sintetizar o resumir la información en mapas conceptuales. []()\n",
    "4. Tareas para incentivar el uso de la calculadora Casio Para ingenieros y licenciados. \n",
    "5. Leer los ejemplos resueltos y repricar la manera de hacerlos"
   ]
  },
  {
   "cell_type": "code",
   "execution_count": 2,
   "id": "3db51219",
   "metadata": {},
   "outputs": [
    {
     "data": {
      "text/plain": [
       "'mapa_conceptual.pdf'"
      ]
     },
     "execution_count": 2,
     "metadata": {},
     "output_type": "execute_result"
    },
    {
     "name": "stderr",
     "output_type": "stream",
     "text": [
      "/snap/core20/current/lib/x86_64-linux-gnu/libstdc++.so.6: version `GLIBCXX_3.4.29' not found (required by /lib/x86_64-linux-gnu/libproxy.so.1)\n",
      "Failed to load module: /home/marco/snap/code/common/.cache/gio-modules/libgiolibproxy.so\n",
      "\n",
      "(process:30223): Gtk-WARNING **: 15:15:27.677: Locale not supported by C library.\n",
      "\tUsing the fallback 'C' locale.\n",
      "/home/marco/snap/code/common/.cache/gio-modules/libgiolibproxy.so: cannot open shared object file: Permission denied\n",
      "Failed to load module: /home/marco/snap/code/common/.cache/gio-modules/libgiolibproxy.so\n",
      "\n",
      "(evince:30223): Gtk-WARNING **: 15:15:27.726: Theme parsing error: gtk-keys.css:1:0: Failed to import: Error opening file /snap/code/152/usr/share/themes/Default/gtk-3.0/gtk-keys.css: Permission denied\n",
      "Gtk-Message: 15:15:27.727: Failed to load module \"canberra-gtk-module\"\n",
      "Gtk-Message: 15:15:27.728: Failed to load module \"canberra-gtk-module\"\n"
     ]
    }
   ],
   "source": [
    "from graphviz import Digraph\n",
    "\n",
    "# Crear un nuevo grafo dirigido\n",
    "dot = Digraph()\n",
    "\n",
    "# Añadir nodos y relaciones al grafo\n",
    "dot.node('A', 'Ecuación de variable real')\n",
    "dot.node('B', 'Ecuación lineal')\n",
    "dot.node('C', 'Ecuación cuadrática')\n",
    "dot.node('D', '')\n",
    "dot.node('E', '')\n",
    "dot.node('F', '')\n",
    "dot.node('G', '')\n",
    "dot.node('H', '')\n",
    "dot.node('I', '')\n",
    "dot.node('J', '')\n",
    "\n",
    "dot.edges(['AB'])\n",
    "dot.edges(['AC'])\n",
    "dot.edges(['CD'])\n",
    "dot.edges(['DJ'])\n",
    "dot.edges(['EF'])\n",
    "dot.edges(['FG'])\n",
    "dot.edges(['GH'])\n",
    "dot.edges(['HI'])\n",
    "dot.edges(['IJ'])\n",
    "\n",
    "# Guardar el grafo como un archivo de imagen\n",
    "dot.render(filename='ecuaciones', format='png', cleanup=True, \\\n",
    "           directory='/home/marco/Documentos/docencia/calculo/images/0_reales/')\n",
    "\n",
    "dot.view()\n"
   ]
  },
  {
   "cell_type": "code",
   "execution_count": null,
   "metadata": {},
   "outputs": [],
   "source": [
    "# asignación de ejercicios de un seccion del texto guía\n",
    "\n",
    "# numpy.random.choice() obten la documentación de esta función en: \n",
    "# https://numpy.org/doc/stable/reference/random/generated/numpy.random.choice.html\n",
    "\n",
    "import pandas as pd\n",
    "import numpy as np\n",
    "import requests\n",
    "np.random.seed(42)  # establecer semilla aleatoria para hacer los resultados reproducibles\n",
    "\n",
    "\n",
    "\n",
    "grupo_estudiantes = 'calculo_integral'\n",
    "nombre_texto_guia = 'Purcell'\n",
    "pagina_y_seccion = 'Página_202_Sección_3.8'\n",
    "numero_ejercicios_taller = 54\n",
    "numero_de_ejercicios_asignados = 3\n",
    "\n",
    "\n",
    "# Descargar la lista de  estudiantes\n",
    "students_url = \"https://raw.githubusercontent.com/marco-canas/groups_list/main/\" + grupo_estudiantes + \".csv\"\n",
    "exercises = list(range(1, numero_ejercicios_taller))  \n",
    "\n",
    "students_data = pd.read_csv(students_url)\n",
    "\n",
    "# Crear una lista para almacenar las asignaciones\n",
    "assignments = []\n",
    "\n",
    "# Asignar ejercicios aleatorios a cada estudiante\n",
    "for index, student in students_data.iterrows():\n",
    "    # Seleccionar 5 ejercicios aleatorios sin repetición\n",
    "    random_exercises = np.random.choice(exercises, numero_de_ejercicios_asignados, replace = False)+ 1 \n",
    "    assignments.append([students_data[\"Nombre\"][index], *random_exercises])  # Agregar asignación a la lista\n",
    "\n",
    "# Crear un DataFrame con las asignaciones\n",
    "columns = [\"Student\"] + [ \"Exer\" + str(i+1) for i in range(numero_de_ejercicios_asignados)]\n",
    "assignment_df = pd.DataFrame(assignments, columns=columns)\n",
    "\n",
    "# Guardar el DataFrame en un archivo CSV\n",
    "assignment_csv = \"tarea\" + \"_\" + nombre_texto_guia + \"_\"+ pagina_y_seccion + \".csv\"\n",
    "assignment_df.to_csv(assignment_csv, index=False)\n",
    "\n",
    "print(\"Tarea asignada: \", assignment_csv)\n",
    "assignment_df"
   ]
  },
  {
   "cell_type": "code",
   "execution_count": null,
   "id": "4202d12e",
   "metadata": {},
   "outputs": [],
   "source": []
  },
  {
   "cell_type": "code",
   "execution_count": null,
   "id": "85fd62ad",
   "metadata": {},
   "outputs": [],
   "source": []
  },
  {
   "cell_type": "code",
   "execution_count": null,
   "id": "6425d2f9",
   "metadata": {},
   "outputs": [],
   "source": []
  },
  {
   "cell_type": "markdown",
   "id": "3ce0557f",
   "metadata": {},
   "source": [
    " [Secuencia metodológica que seguiremos en cada modelación fundamentada en Borromeo citado por Carlos Ledezma](https://www.researchgate.net/profile/Carlos-Ledezma-4/publication/376076920_Modelizacion_matematica_desde_una_articulacion_teorica_entre_los_enfoques_cognitivo_y_onto-semiotico/links/6568cb363fa26f66f43b292a/Modelizacion-matematica-desde-una-articulacion-teorica-entre-los-enfoques-cognitivo-y-onto-semiotico.pdf)\n",
    "\n",
    "1. Entender la tarea\n",
    "2. Simplificar y estructurar la tarea\n",
    "3. Matemátizar\n",
    "4. Trabajar matemáticamente utilizando las competencias matemáticas del estudiante.\n",
    "5. Interpretar y \n",
    "6. validar"
   ]
  },
  {
   "cell_type": "markdown",
   "id": "7dbbd46e",
   "metadata": {},
   "source": []
  },
  {
   "cell_type": "markdown",
   "id": "1ccfb67e",
   "metadata": {
    "slideshow": {
     "slide_type": "slide"
    }
   },
   "source": [
    "# Visualizaciones tabulares y gráficas"
   ]
  },
  {
   "cell_type": "markdown",
   "id": "0631fb05",
   "metadata": {
    "slideshow": {
     "slide_type": "slide"
    }
   },
   "source": [
    "## Visualización gráfica con plotly"
   ]
  },
  {
   "cell_type": "code",
   "execution_count": 4,
   "id": "6009af5a",
   "metadata": {
    "slideshow": {
     "slide_type": "slide"
    }
   },
   "outputs": [
    {
     "data": {
      "application/vnd.plotly.v1+json": {
       "config": {
        "plotlyServerURL": "https://plot.ly"
       },
       "data": [
        {
         "hovertemplate": "x=%{x}<br>y=%{y}<extra></extra>",
         "legendgroup": "",
         "marker": {
          "color": "#636efa",
          "symbol": "circle"
         },
         "mode": "markers",
         "name": "",
         "orientation": "v",
         "showlegend": false,
         "type": "scatter",
         "x": [],
         "xaxis": "x",
         "y": [],
         "yaxis": "y"
        }
       ],
       "layout": {
        "legend": {
         "tracegroupgap": 0
        },
        "template": {
         "data": {
          "bar": [
           {
            "error_x": {
             "color": "#2a3f5f"
            },
            "error_y": {
             "color": "#2a3f5f"
            },
            "marker": {
             "line": {
              "color": "#E5ECF6",
              "width": 0.5
             },
             "pattern": {
              "fillmode": "overlay",
              "size": 10,
              "solidity": 0.2
             }
            },
            "type": "bar"
           }
          ],
          "barpolar": [
           {
            "marker": {
             "line": {
              "color": "#E5ECF6",
              "width": 0.5
             },
             "pattern": {
              "fillmode": "overlay",
              "size": 10,
              "solidity": 0.2
             }
            },
            "type": "barpolar"
           }
          ],
          "carpet": [
           {
            "aaxis": {
             "endlinecolor": "#2a3f5f",
             "gridcolor": "white",
             "linecolor": "white",
             "minorgridcolor": "white",
             "startlinecolor": "#2a3f5f"
            },
            "baxis": {
             "endlinecolor": "#2a3f5f",
             "gridcolor": "white",
             "linecolor": "white",
             "minorgridcolor": "white",
             "startlinecolor": "#2a3f5f"
            },
            "type": "carpet"
           }
          ],
          "choropleth": [
           {
            "colorbar": {
             "outlinewidth": 0,
             "ticks": ""
            },
            "type": "choropleth"
           }
          ],
          "contour": [
           {
            "colorbar": {
             "outlinewidth": 0,
             "ticks": ""
            },
            "colorscale": [
             [
              0,
              "#0d0887"
             ],
             [
              0.1111111111111111,
              "#46039f"
             ],
             [
              0.2222222222222222,
              "#7201a8"
             ],
             [
              0.3333333333333333,
              "#9c179e"
             ],
             [
              0.4444444444444444,
              "#bd3786"
             ],
             [
              0.5555555555555556,
              "#d8576b"
             ],
             [
              0.6666666666666666,
              "#ed7953"
             ],
             [
              0.7777777777777778,
              "#fb9f3a"
             ],
             [
              0.8888888888888888,
              "#fdca26"
             ],
             [
              1,
              "#f0f921"
             ]
            ],
            "type": "contour"
           }
          ],
          "contourcarpet": [
           {
            "colorbar": {
             "outlinewidth": 0,
             "ticks": ""
            },
            "type": "contourcarpet"
           }
          ],
          "heatmap": [
           {
            "colorbar": {
             "outlinewidth": 0,
             "ticks": ""
            },
            "colorscale": [
             [
              0,
              "#0d0887"
             ],
             [
              0.1111111111111111,
              "#46039f"
             ],
             [
              0.2222222222222222,
              "#7201a8"
             ],
             [
              0.3333333333333333,
              "#9c179e"
             ],
             [
              0.4444444444444444,
              "#bd3786"
             ],
             [
              0.5555555555555556,
              "#d8576b"
             ],
             [
              0.6666666666666666,
              "#ed7953"
             ],
             [
              0.7777777777777778,
              "#fb9f3a"
             ],
             [
              0.8888888888888888,
              "#fdca26"
             ],
             [
              1,
              "#f0f921"
             ]
            ],
            "type": "heatmap"
           }
          ],
          "heatmapgl": [
           {
            "colorbar": {
             "outlinewidth": 0,
             "ticks": ""
            },
            "colorscale": [
             [
              0,
              "#0d0887"
             ],
             [
              0.1111111111111111,
              "#46039f"
             ],
             [
              0.2222222222222222,
              "#7201a8"
             ],
             [
              0.3333333333333333,
              "#9c179e"
             ],
             [
              0.4444444444444444,
              "#bd3786"
             ],
             [
              0.5555555555555556,
              "#d8576b"
             ],
             [
              0.6666666666666666,
              "#ed7953"
             ],
             [
              0.7777777777777778,
              "#fb9f3a"
             ],
             [
              0.8888888888888888,
              "#fdca26"
             ],
             [
              1,
              "#f0f921"
             ]
            ],
            "type": "heatmapgl"
           }
          ],
          "histogram": [
           {
            "marker": {
             "pattern": {
              "fillmode": "overlay",
              "size": 10,
              "solidity": 0.2
             }
            },
            "type": "histogram"
           }
          ],
          "histogram2d": [
           {
            "colorbar": {
             "outlinewidth": 0,
             "ticks": ""
            },
            "colorscale": [
             [
              0,
              "#0d0887"
             ],
             [
              0.1111111111111111,
              "#46039f"
             ],
             [
              0.2222222222222222,
              "#7201a8"
             ],
             [
              0.3333333333333333,
              "#9c179e"
             ],
             [
              0.4444444444444444,
              "#bd3786"
             ],
             [
              0.5555555555555556,
              "#d8576b"
             ],
             [
              0.6666666666666666,
              "#ed7953"
             ],
             [
              0.7777777777777778,
              "#fb9f3a"
             ],
             [
              0.8888888888888888,
              "#fdca26"
             ],
             [
              1,
              "#f0f921"
             ]
            ],
            "type": "histogram2d"
           }
          ],
          "histogram2dcontour": [
           {
            "colorbar": {
             "outlinewidth": 0,
             "ticks": ""
            },
            "colorscale": [
             [
              0,
              "#0d0887"
             ],
             [
              0.1111111111111111,
              "#46039f"
             ],
             [
              0.2222222222222222,
              "#7201a8"
             ],
             [
              0.3333333333333333,
              "#9c179e"
             ],
             [
              0.4444444444444444,
              "#bd3786"
             ],
             [
              0.5555555555555556,
              "#d8576b"
             ],
             [
              0.6666666666666666,
              "#ed7953"
             ],
             [
              0.7777777777777778,
              "#fb9f3a"
             ],
             [
              0.8888888888888888,
              "#fdca26"
             ],
             [
              1,
              "#f0f921"
             ]
            ],
            "type": "histogram2dcontour"
           }
          ],
          "mesh3d": [
           {
            "colorbar": {
             "outlinewidth": 0,
             "ticks": ""
            },
            "type": "mesh3d"
           }
          ],
          "parcoords": [
           {
            "line": {
             "colorbar": {
              "outlinewidth": 0,
              "ticks": ""
             }
            },
            "type": "parcoords"
           }
          ],
          "pie": [
           {
            "automargin": true,
            "type": "pie"
           }
          ],
          "scatter": [
           {
            "fillpattern": {
             "fillmode": "overlay",
             "size": 10,
             "solidity": 0.2
            },
            "type": "scatter"
           }
          ],
          "scatter3d": [
           {
            "line": {
             "colorbar": {
              "outlinewidth": 0,
              "ticks": ""
             }
            },
            "marker": {
             "colorbar": {
              "outlinewidth": 0,
              "ticks": ""
             }
            },
            "type": "scatter3d"
           }
          ],
          "scattercarpet": [
           {
            "marker": {
             "colorbar": {
              "outlinewidth": 0,
              "ticks": ""
             }
            },
            "type": "scattercarpet"
           }
          ],
          "scattergeo": [
           {
            "marker": {
             "colorbar": {
              "outlinewidth": 0,
              "ticks": ""
             }
            },
            "type": "scattergeo"
           }
          ],
          "scattergl": [
           {
            "marker": {
             "colorbar": {
              "outlinewidth": 0,
              "ticks": ""
             }
            },
            "type": "scattergl"
           }
          ],
          "scattermapbox": [
           {
            "marker": {
             "colorbar": {
              "outlinewidth": 0,
              "ticks": ""
             }
            },
            "type": "scattermapbox"
           }
          ],
          "scatterpolar": [
           {
            "marker": {
             "colorbar": {
              "outlinewidth": 0,
              "ticks": ""
             }
            },
            "type": "scatterpolar"
           }
          ],
          "scatterpolargl": [
           {
            "marker": {
             "colorbar": {
              "outlinewidth": 0,
              "ticks": ""
             }
            },
            "type": "scatterpolargl"
           }
          ],
          "scatterternary": [
           {
            "marker": {
             "colorbar": {
              "outlinewidth": 0,
              "ticks": ""
             }
            },
            "type": "scatterternary"
           }
          ],
          "surface": [
           {
            "colorbar": {
             "outlinewidth": 0,
             "ticks": ""
            },
            "colorscale": [
             [
              0,
              "#0d0887"
             ],
             [
              0.1111111111111111,
              "#46039f"
             ],
             [
              0.2222222222222222,
              "#7201a8"
             ],
             [
              0.3333333333333333,
              "#9c179e"
             ],
             [
              0.4444444444444444,
              "#bd3786"
             ],
             [
              0.5555555555555556,
              "#d8576b"
             ],
             [
              0.6666666666666666,
              "#ed7953"
             ],
             [
              0.7777777777777778,
              "#fb9f3a"
             ],
             [
              0.8888888888888888,
              "#fdca26"
             ],
             [
              1,
              "#f0f921"
             ]
            ],
            "type": "surface"
           }
          ],
          "table": [
           {
            "cells": {
             "fill": {
              "color": "#EBF0F8"
             },
             "line": {
              "color": "white"
             }
            },
            "header": {
             "fill": {
              "color": "#C8D4E3"
             },
             "line": {
              "color": "white"
             }
            },
            "type": "table"
           }
          ]
         },
         "layout": {
          "annotationdefaults": {
           "arrowcolor": "#2a3f5f",
           "arrowhead": 0,
           "arrowwidth": 1
          },
          "autotypenumbers": "strict",
          "coloraxis": {
           "colorbar": {
            "outlinewidth": 0,
            "ticks": ""
           }
          },
          "colorscale": {
           "diverging": [
            [
             0,
             "#8e0152"
            ],
            [
             0.1,
             "#c51b7d"
            ],
            [
             0.2,
             "#de77ae"
            ],
            [
             0.3,
             "#f1b6da"
            ],
            [
             0.4,
             "#fde0ef"
            ],
            [
             0.5,
             "#f7f7f7"
            ],
            [
             0.6,
             "#e6f5d0"
            ],
            [
             0.7,
             "#b8e186"
            ],
            [
             0.8,
             "#7fbc41"
            ],
            [
             0.9,
             "#4d9221"
            ],
            [
             1,
             "#276419"
            ]
           ],
           "sequential": [
            [
             0,
             "#0d0887"
            ],
            [
             0.1111111111111111,
             "#46039f"
            ],
            [
             0.2222222222222222,
             "#7201a8"
            ],
            [
             0.3333333333333333,
             "#9c179e"
            ],
            [
             0.4444444444444444,
             "#bd3786"
            ],
            [
             0.5555555555555556,
             "#d8576b"
            ],
            [
             0.6666666666666666,
             "#ed7953"
            ],
            [
             0.7777777777777778,
             "#fb9f3a"
            ],
            [
             0.8888888888888888,
             "#fdca26"
            ],
            [
             1,
             "#f0f921"
            ]
           ],
           "sequentialminus": [
            [
             0,
             "#0d0887"
            ],
            [
             0.1111111111111111,
             "#46039f"
            ],
            [
             0.2222222222222222,
             "#7201a8"
            ],
            [
             0.3333333333333333,
             "#9c179e"
            ],
            [
             0.4444444444444444,
             "#bd3786"
            ],
            [
             0.5555555555555556,
             "#d8576b"
            ],
            [
             0.6666666666666666,
             "#ed7953"
            ],
            [
             0.7777777777777778,
             "#fb9f3a"
            ],
            [
             0.8888888888888888,
             "#fdca26"
            ],
            [
             1,
             "#f0f921"
            ]
           ]
          },
          "colorway": [
           "#636efa",
           "#EF553B",
           "#00cc96",
           "#ab63fa",
           "#FFA15A",
           "#19d3f3",
           "#FF6692",
           "#B6E880",
           "#FF97FF",
           "#FECB52"
          ],
          "font": {
           "color": "#2a3f5f"
          },
          "geo": {
           "bgcolor": "white",
           "lakecolor": "white",
           "landcolor": "#E5ECF6",
           "showlakes": true,
           "showland": true,
           "subunitcolor": "white"
          },
          "hoverlabel": {
           "align": "left"
          },
          "hovermode": "closest",
          "mapbox": {
           "style": "light"
          },
          "paper_bgcolor": "white",
          "plot_bgcolor": "#E5ECF6",
          "polar": {
           "angularaxis": {
            "gridcolor": "white",
            "linecolor": "white",
            "ticks": ""
           },
           "bgcolor": "#E5ECF6",
           "radialaxis": {
            "gridcolor": "white",
            "linecolor": "white",
            "ticks": ""
           }
          },
          "scene": {
           "xaxis": {
            "backgroundcolor": "#E5ECF6",
            "gridcolor": "white",
            "gridwidth": 2,
            "linecolor": "white",
            "showbackground": true,
            "ticks": "",
            "zerolinecolor": "white"
           },
           "yaxis": {
            "backgroundcolor": "#E5ECF6",
            "gridcolor": "white",
            "gridwidth": 2,
            "linecolor": "white",
            "showbackground": true,
            "ticks": "",
            "zerolinecolor": "white"
           },
           "zaxis": {
            "backgroundcolor": "#E5ECF6",
            "gridcolor": "white",
            "gridwidth": 2,
            "linecolor": "white",
            "showbackground": true,
            "ticks": "",
            "zerolinecolor": "white"
           }
          },
          "shapedefaults": {
           "line": {
            "color": "#2a3f5f"
           }
          },
          "ternary": {
           "aaxis": {
            "gridcolor": "white",
            "linecolor": "white",
            "ticks": ""
           },
           "baxis": {
            "gridcolor": "white",
            "linecolor": "white",
            "ticks": ""
           },
           "bgcolor": "#E5ECF6",
           "caxis": {
            "gridcolor": "white",
            "linecolor": "white",
            "ticks": ""
           }
          },
          "title": {
           "x": 0.05
          },
          "xaxis": {
           "automargin": true,
           "gridcolor": "white",
           "linecolor": "white",
           "ticks": "",
           "title": {
            "standoff": 15
           },
           "zerolinecolor": "white",
           "zerolinewidth": 2
          },
          "yaxis": {
           "automargin": true,
           "gridcolor": "white",
           "linecolor": "white",
           "ticks": "",
           "title": {
            "standoff": 15
           },
           "zerolinecolor": "white",
           "zerolinewidth": 2
          }
         }
        },
        "title": {
         "text": "Relación entre x e y"
        },
        "xaxis": {
         "anchor": "y",
         "domain": [
          0,
          1
         ],
         "title": {
          "text": "x"
         }
        },
        "yaxis": {
         "anchor": "x",
         "domain": [
          0,
          1
         ],
         "title": {
          "text": "y"
         }
        }
       }
      }
     },
     "metadata": {},
     "output_type": "display_data"
    }
   ],
   "source": [
    "import numpy as np \n",
    "import pandas as pd \n",
    "import plotly.express as px\n",
    "# datos\n",
    "X = np.array([])\n",
    "\n",
    "Y = np.array([])\n",
    "\n",
    "# tabla de datos\n",
    "tabla = pd.DataFrame({'x':X, 'y':Y})\n",
    "#trazo de diagrama de dispersión o scatter\n",
    "fig = px.scatter(tabla,x = tabla.keys()[0], y = tabla.keys()[1], title='Relación entre x e y')\n",
    "\n",
    "fig.show()\n",
    "\n",
    "#fig.write_html('relacion_entre_x_e_y.html', auto_open=True)"
   ]
  },
  {
   "cell_type": "markdown",
   "id": "740f3401",
   "metadata": {
    "slideshow": {
     "slide_type": "slide"
    }
   },
   "source": [
    "# Componente de manejo de calculadora Casio asociado al objetivo de aprendizaje de esta clase"
   ]
  },
  {
   "cell_type": "markdown",
   "id": "8eecb2d9",
   "metadata": {
    "slideshow": {
     "slide_type": "slide"
    }
   },
   "source": [
    "## Descripción de la calculadora Casio  \n",
    "\n"
   ]
  },
  {
   "cell_type": "code",
   "execution_count": null,
   "id": "3cd72835",
   "metadata": {
    "slideshow": {
     "slide_type": "slide"
    }
   },
   "outputs": [],
   "source": []
  },
  {
   "cell_type": "code",
   "execution_count": null,
   "id": "d8a111c4",
   "metadata": {
    "slideshow": {
     "slide_type": "slide"
    }
   },
   "outputs": [],
   "source": []
  },
  {
   "cell_type": "markdown",
   "id": "fccb447c",
   "metadata": {
    "slideshow": {
     "slide_type": "slide"
    }
   },
   "source": [
    "# Tareas para realizar en clase"
   ]
  },
  {
   "cell_type": "markdown",
   "id": "e5c48edf",
   "metadata": {
    "slideshow": {
     "slide_type": "slide"
    }
   },
   "source": [
    "* Modelación matemática \n",
    "* Trabajo en equipos"
   ]
  },
  {
   "cell_type": "code",
   "execution_count": 5,
   "metadata": {},
   "outputs": [
    {
     "name": "stdout",
     "output_type": "stream",
     "text": [
      "Tarea asignada:  tarea_Purcell_Página_202_Sección_3.8.csv\n"
     ]
    },
    {
     "data": {
      "text/html": [
       "<div>\n",
       "<style scoped>\n",
       "    .dataframe tbody tr th:only-of-type {\n",
       "        vertical-align: middle;\n",
       "    }\n",
       "\n",
       "    .dataframe tbody tr th {\n",
       "        vertical-align: top;\n",
       "    }\n",
       "\n",
       "    .dataframe thead th {\n",
       "        text-align: right;\n",
       "    }\n",
       "</style>\n",
       "<table border=\"1\" class=\"dataframe\">\n",
       "  <thead>\n",
       "    <tr style=\"text-align: right;\">\n",
       "      <th></th>\n",
       "      <th>Student</th>\n",
       "      <th>Exer1</th>\n",
       "    </tr>\n",
       "  </thead>\n",
       "  <tbody>\n",
       "    <tr>\n",
       "      <th>0</th>\n",
       "      <td>AGUDELO MORENO RENATO DIRNEY</td>\n",
       "      <td>21</td>\n",
       "    </tr>\n",
       "    <tr>\n",
       "      <th>1</th>\n",
       "      <td>AMARIS FERNANDEZ SEBASTIAN CAMILO</td>\n",
       "      <td>40</td>\n",
       "    </tr>\n",
       "    <tr>\n",
       "      <th>2</th>\n",
       "      <td>ARENAS HERAZO GABRIEL ENRIQUE</td>\n",
       "      <td>26</td>\n",
       "    </tr>\n",
       "    <tr>\n",
       "      <th>3</th>\n",
       "      <td>AYALA MENDOZA MARISOL YACIRA</td>\n",
       "      <td>30</td>\n",
       "    </tr>\n",
       "    <tr>\n",
       "      <th>4</th>\n",
       "      <td>BERTEL RODELO MICHELL SMIT</td>\n",
       "      <td>13</td>\n",
       "    </tr>\n",
       "    <tr>\n",
       "      <th>5</th>\n",
       "      <td>BULA VERGARA MARIA PAULA</td>\n",
       "      <td>28</td>\n",
       "    </tr>\n",
       "    <tr>\n",
       "      <th>6</th>\n",
       "      <td>CANTILLO ENSUCHO DANIEL</td>\n",
       "      <td>19</td>\n",
       "    </tr>\n",
       "    <tr>\n",
       "      <th>7</th>\n",
       "      <td>CERVANTES DURAN ANGELICA</td>\n",
       "      <td>4</td>\n",
       "    </tr>\n",
       "    <tr>\n",
       "      <th>8</th>\n",
       "      <td>GALLEGO TEJADA JUAN ESTEBAN</td>\n",
       "      <td>7</td>\n",
       "    </tr>\n",
       "    <tr>\n",
       "      <th>9</th>\n",
       "      <td>GUERRA NORIEGA YONATHAN</td>\n",
       "      <td>19</td>\n",
       "    </tr>\n",
       "    <tr>\n",
       "      <th>10</th>\n",
       "      <td>HINCAPIE CASTRO JOHAN SEBASTIAN</td>\n",
       "      <td>49</td>\n",
       "    </tr>\n",
       "    <tr>\n",
       "      <th>11</th>\n",
       "      <td>HUMANEZ SANCHEZ CAMILO</td>\n",
       "      <td>38</td>\n",
       "    </tr>\n",
       "    <tr>\n",
       "      <th>12</th>\n",
       "      <td>IBAnEZ MORENO FRANCISCO LUIS</td>\n",
       "      <td>53</td>\n",
       "    </tr>\n",
       "    <tr>\n",
       "      <th>13</th>\n",
       "      <td>LONDONO CUADRADO CRISTIAN ALBERTO</td>\n",
       "      <td>23</td>\n",
       "    </tr>\n",
       "    <tr>\n",
       "      <th>14</th>\n",
       "      <td>LOZANO HOLGUIN LIZETH JOHANA</td>\n",
       "      <td>13</td>\n",
       "    </tr>\n",
       "    <tr>\n",
       "      <th>15</th>\n",
       "      <td>MASS MIRANDA RIVALDO JOSE</td>\n",
       "      <td>23</td>\n",
       "    </tr>\n",
       "    <tr>\n",
       "      <th>16</th>\n",
       "      <td>MIRANDA MARTINEZ CARLOS ANDRES</td>\n",
       "      <td>38</td>\n",
       "    </tr>\n",
       "    <tr>\n",
       "      <th>17</th>\n",
       "      <td>MONTERROSA SOTO ABRIL</td>\n",
       "      <td>37</td>\n",
       "    </tr>\n",
       "    <tr>\n",
       "      <th>18</th>\n",
       "      <td>NORIEGA JIMENEZ GABRIELA</td>\n",
       "      <td>17</td>\n",
       "    </tr>\n",
       "    <tr>\n",
       "      <th>19</th>\n",
       "      <td>PEREZ REYES IVAN DARIO</td>\n",
       "      <td>29</td>\n",
       "    </tr>\n",
       "    <tr>\n",
       "      <th>20</th>\n",
       "      <td>PEREZ THERAN ERLINDA</td>\n",
       "      <td>29</td>\n",
       "    </tr>\n",
       "    <tr>\n",
       "      <th>21</th>\n",
       "      <td>PINEDA ROMERO YOSMERI</td>\n",
       "      <td>42</td>\n",
       "    </tr>\n",
       "    <tr>\n",
       "      <th>22</th>\n",
       "      <td>QUINONEZ CERVANTES MARIANA</td>\n",
       "      <td>46</td>\n",
       "    </tr>\n",
       "    <tr>\n",
       "      <th>23</th>\n",
       "      <td>QUIROZ DURAN JUAN MANUEL</td>\n",
       "      <td>12</td>\n",
       "    </tr>\n",
       "    <tr>\n",
       "      <th>24</th>\n",
       "      <td>RAMOS PEREZ YANINE</td>\n",
       "      <td>7</td>\n",
       "    </tr>\n",
       "    <tr>\n",
       "      <th>25</th>\n",
       "      <td>RIVAS HOYOS ESTEFANIA</td>\n",
       "      <td>51</td>\n",
       "    </tr>\n",
       "    <tr>\n",
       "      <th>26</th>\n",
       "      <td>ROSILLO TEJADA VANESA</td>\n",
       "      <td>45</td>\n",
       "    </tr>\n",
       "    <tr>\n",
       "      <th>27</th>\n",
       "      <td>SANCHEZ PADILLA SILVESTRE</td>\n",
       "      <td>29</td>\n",
       "    </tr>\n",
       "    <tr>\n",
       "      <th>28</th>\n",
       "      <td>SILVA ROYERO MAILY CRISTINA</td>\n",
       "      <td>7</td>\n",
       "    </tr>\n",
       "    <tr>\n",
       "      <th>29</th>\n",
       "      <td>USUGA GEORGE JHON ESTIVEN</td>\n",
       "      <td>49</td>\n",
       "    </tr>\n",
       "    <tr>\n",
       "      <th>30</th>\n",
       "      <td>JUAN FELIPE HERNANDEZ ARDILA</td>\n",
       "      <td>8</td>\n",
       "    </tr>\n",
       "    <tr>\n",
       "      <th>31</th>\n",
       "      <td>NaN</td>\n",
       "      <td>13</td>\n",
       "    </tr>\n",
       "  </tbody>\n",
       "</table>\n",
       "</div>"
      ],
      "text/plain": [
       "                              Student  Exer1\n",
       "0        AGUDELO MORENO RENATO DIRNEY     21\n",
       "1   AMARIS FERNANDEZ SEBASTIAN CAMILO     40\n",
       "2       ARENAS HERAZO GABRIEL ENRIQUE     26\n",
       "3        AYALA MENDOZA MARISOL YACIRA     30\n",
       "4          BERTEL RODELO MICHELL SMIT     13\n",
       "5            BULA VERGARA MARIA PAULA     28\n",
       "6             CANTILLO ENSUCHO DANIEL     19\n",
       "7            CERVANTES DURAN ANGELICA      4\n",
       "8         GALLEGO TEJADA JUAN ESTEBAN      7\n",
       "9             GUERRA NORIEGA YONATHAN     19\n",
       "10    HINCAPIE CASTRO JOHAN SEBASTIAN     49\n",
       "11             HUMANEZ SANCHEZ CAMILO     38\n",
       "12       IBAnEZ MORENO FRANCISCO LUIS     53\n",
       "13  LONDONO CUADRADO CRISTIAN ALBERTO     23\n",
       "14       LOZANO HOLGUIN LIZETH JOHANA     13\n",
       "15          MASS MIRANDA RIVALDO JOSE     23\n",
       "16     MIRANDA MARTINEZ CARLOS ANDRES     38\n",
       "17              MONTERROSA SOTO ABRIL     37\n",
       "18           NORIEGA JIMENEZ GABRIELA     17\n",
       "19             PEREZ REYES IVAN DARIO     29\n",
       "20               PEREZ THERAN ERLINDA     29\n",
       "21              PINEDA ROMERO YOSMERI     42\n",
       "22         QUINONEZ CERVANTES MARIANA     46\n",
       "23           QUIROZ DURAN JUAN MANUEL     12\n",
       "24                 RAMOS PEREZ YANINE      7\n",
       "25              RIVAS HOYOS ESTEFANIA     51\n",
       "26              ROSILLO TEJADA VANESA     45\n",
       "27          SANCHEZ PADILLA SILVESTRE     29\n",
       "28        SILVA ROYERO MAILY CRISTINA      7\n",
       "29          USUGA GEORGE JHON ESTIVEN     49\n",
       "30       JUAN FELIPE HERNANDEZ ARDILA      8\n",
       "31                                NaN     13"
      ]
     },
     "execution_count": 5,
     "metadata": {},
     "output_type": "execute_result"
    }
   ],
   "source": [
    "# asignación de ejercicios de un seccion del texto guía\n",
    "\n",
    "# numpy.random.choice() obten la documentación de esta función en: \n",
    "# https://numpy.org/doc/stable/reference/random/generated/numpy.random.choice.html\n",
    "\n",
    "import pandas as pd\n",
    "import numpy as np\n",
    "import requests\n",
    "np.random.seed(42)  # establecer semilla aleatoria para hacer los resultados reproducibles\n",
    "\n",
    "\n",
    "\n",
    "grupo_estudiantes = 'calculo_integral'\n",
    "nombre_texto_guia = 'Purcell'\n",
    "pagina_y_seccion = 'Página_202_Sección_3.8'\n",
    "numero_ejercicios_taller = 54\n",
    "numero_de_ejercicios_asignados = 1\n",
    "\n",
    "\n",
    "# Descargar la lista de  estudiantes\n",
    "students_url = \"https://raw.githubusercontent.com/marco-canas/groups_list/main/\" + grupo_estudiantes + \".csv\"\n",
    "exercises = list(range(1, numero_ejercicios_taller))  \n",
    "\n",
    "students_data = pd.read_csv(students_url)\n",
    "\n",
    "# Crear una lista para almacenar las asignaciones\n",
    "assignments = []\n",
    "\n",
    "# Asignar ejercicios aleatorios a cada estudiante\n",
    "for index, student in students_data.iterrows():\n",
    "    # Seleccionar 5 ejercicios aleatorios sin repetición\n",
    "    random_exercises = np.random.choice(exercises, numero_de_ejercicios_asignados, replace = False)+ 1 \n",
    "    assignments.append([students_data[\"Nombre\"][index], *random_exercises])  # Agregar asignación a la lista\n",
    "\n",
    "# Crear un DataFrame con las asignaciones\n",
    "columns = [\"Student\"] + [ \"Exer\" + str(i+1) for i in range(numero_de_ejercicios_asignados)]\n",
    "assignment_df = pd.DataFrame(assignments, columns=columns)\n",
    "\n",
    "# Guardar el DataFrame en un archivo CSV\n",
    "assignment_csv = \"tarea\" + \"_\" + nombre_texto_guia + \"_\"+ pagina_y_seccion + \".csv\"\n",
    "assignment_df.to_csv(assignment_csv, index=False)\n",
    "\n",
    "print(\"Tarea asignada: \", assignment_csv)\n",
    "assignment_df"
   ]
  },
  {
   "cell_type": "markdown",
   "id": "8b6b0112",
   "metadata": {
    "slideshow": {
     "slide_type": "slide"
    }
   },
   "source": [
    "# Tareas para realizar después de la realización de la clase"
   ]
  },
  {
   "cell_type": "markdown",
   "id": "947460e3",
   "metadata": {
    "slideshow": {
     "slide_type": "slide"
    }
   },
   "source": [
    "* Actividades de memorización: \n",
    "  - escucha reiterada de grabaciones de formulas y resultados científicos. \n",
    "  - relectura de notas. \n",
    "  - ejercicios de mayor complejidad.\n",
    "\n",
    "\n",
    "### No olvide asignar las tareas a los estudiantes a través de Google Colab y compartiendole el cuaderno de asignación a su correo institucional con fecha de entrega. [Google Colab](https://colab.research.google.com/?hl=es)   \n",
    "  "
   ]
  },
  {
   "cell_type": "markdown",
   "id": "d34defb9",
   "metadata": {
    "slideshow": {
     "slide_type": "slide"
    }
   },
   "source": [
    "## Asignación individual de tareas semanales "
   ]
  },
  {
   "cell_type": "code",
   "execution_count": 4,
   "id": "0406f442",
   "metadata": {
    "slideshow": {
     "slide_type": "slide"
    }
   },
   "outputs": [
    {
     "name": "stdout",
     "output_type": "stream",
     "text": [
      "Tarea asignada:  tarea_Purcell_Página_202_Sección_3.8.csv\n"
     ]
    },
    {
     "data": {
      "text/html": [
       "<div>\n",
       "<style scoped>\n",
       "    .dataframe tbody tr th:only-of-type {\n",
       "        vertical-align: middle;\n",
       "    }\n",
       "\n",
       "    .dataframe tbody tr th {\n",
       "        vertical-align: top;\n",
       "    }\n",
       "\n",
       "    .dataframe thead th {\n",
       "        text-align: right;\n",
       "    }\n",
       "</style>\n",
       "<table border=\"1\" class=\"dataframe\">\n",
       "  <thead>\n",
       "    <tr style=\"text-align: right;\">\n",
       "      <th></th>\n",
       "      <th>Student</th>\n",
       "      <th>Exer1</th>\n",
       "      <th>Exer2</th>\n",
       "      <th>Exer3</th>\n",
       "    </tr>\n",
       "  </thead>\n",
       "  <tbody>\n",
       "    <tr>\n",
       "      <th>0</th>\n",
       "      <td>AGUDELO MORENO RENATO DIRNEY</td>\n",
       "      <td>21</td>\n",
       "      <td>43</td>\n",
       "      <td>49</td>\n",
       "    </tr>\n",
       "    <tr>\n",
       "      <th>1</th>\n",
       "      <td>AMARIS FERNANDEZ SEBASTIAN CAMILO</td>\n",
       "      <td>40</td>\n",
       "      <td>12</td>\n",
       "      <td>6</td>\n",
       "    </tr>\n",
       "    <tr>\n",
       "      <th>2</th>\n",
       "      <td>ARENAS HERAZO GABRIEL ENRIQUE</td>\n",
       "      <td>26</td>\n",
       "      <td>51</td>\n",
       "      <td>49</td>\n",
       "    </tr>\n",
       "    <tr>\n",
       "      <th>3</th>\n",
       "      <td>AYALA MENDOZA MARISOL YACIRA</td>\n",
       "      <td>30</td>\n",
       "      <td>17</td>\n",
       "      <td>49</td>\n",
       "    </tr>\n",
       "    <tr>\n",
       "      <th>4</th>\n",
       "      <td>BERTEL RODELO MICHELL SMIT</td>\n",
       "      <td>13</td>\n",
       "      <td>42</td>\n",
       "      <td>51</td>\n",
       "    </tr>\n",
       "    <tr>\n",
       "      <th>5</th>\n",
       "      <td>BULA VERGARA MARIA PAULA</td>\n",
       "      <td>28</td>\n",
       "      <td>48</td>\n",
       "      <td>45</td>\n",
       "    </tr>\n",
       "    <tr>\n",
       "      <th>6</th>\n",
       "      <td>CANTILLO ENSUCHO DANIEL</td>\n",
       "      <td>19</td>\n",
       "      <td>26</td>\n",
       "      <td>36</td>\n",
       "    </tr>\n",
       "    <tr>\n",
       "      <th>7</th>\n",
       "      <td>CERVANTES DURAN ANGELICA</td>\n",
       "      <td>4</td>\n",
       "      <td>33</td>\n",
       "      <td>48</td>\n",
       "    </tr>\n",
       "    <tr>\n",
       "      <th>8</th>\n",
       "      <td>GALLEGO TEJADA JUAN ESTEBAN</td>\n",
       "      <td>7</td>\n",
       "      <td>54</td>\n",
       "      <td>3</td>\n",
       "    </tr>\n",
       "    <tr>\n",
       "      <th>9</th>\n",
       "      <td>GUERRA NORIEGA YONATHAN</td>\n",
       "      <td>19</td>\n",
       "      <td>23</td>\n",
       "      <td>45</td>\n",
       "    </tr>\n",
       "    <tr>\n",
       "      <th>10</th>\n",
       "      <td>HINCAPIE CASTRO JOHAN SEBASTIAN</td>\n",
       "      <td>49</td>\n",
       "      <td>43</td>\n",
       "      <td>2</td>\n",
       "    </tr>\n",
       "    <tr>\n",
       "      <th>11</th>\n",
       "      <td>HUMANEZ SANCHEZ CAMILO</td>\n",
       "      <td>38</td>\n",
       "      <td>33</td>\n",
       "      <td>26</td>\n",
       "    </tr>\n",
       "    <tr>\n",
       "      <th>12</th>\n",
       "      <td>IBAnEZ MORENO FRANCISCO LUIS</td>\n",
       "      <td>53</td>\n",
       "      <td>32</td>\n",
       "      <td>3</td>\n",
       "    </tr>\n",
       "    <tr>\n",
       "      <th>13</th>\n",
       "      <td>LONDONO CUADRADO CRISTIAN ALBERTO</td>\n",
       "      <td>23</td>\n",
       "      <td>5</td>\n",
       "      <td>50</td>\n",
       "    </tr>\n",
       "    <tr>\n",
       "      <th>14</th>\n",
       "      <td>LOZANO HOLGUIN LIZETH JOHANA</td>\n",
       "      <td>13</td>\n",
       "      <td>25</td>\n",
       "      <td>19</td>\n",
       "    </tr>\n",
       "    <tr>\n",
       "      <th>15</th>\n",
       "      <td>MASS MIRANDA RIVALDO JOSE</td>\n",
       "      <td>23</td>\n",
       "      <td>42</td>\n",
       "      <td>2</td>\n",
       "    </tr>\n",
       "    <tr>\n",
       "      <th>16</th>\n",
       "      <td>MIRANDA MARTINEZ CARLOS ANDRES</td>\n",
       "      <td>38</td>\n",
       "      <td>49</td>\n",
       "      <td>24</td>\n",
       "    </tr>\n",
       "    <tr>\n",
       "      <th>17</th>\n",
       "      <td>MONTERROSA SOTO ABRIL</td>\n",
       "      <td>37</td>\n",
       "      <td>8</td>\n",
       "      <td>15</td>\n",
       "    </tr>\n",
       "    <tr>\n",
       "      <th>18</th>\n",
       "      <td>NORIEGA JIMENEZ GABRIELA</td>\n",
       "      <td>17</td>\n",
       "      <td>34</td>\n",
       "      <td>19</td>\n",
       "    </tr>\n",
       "    <tr>\n",
       "      <th>19</th>\n",
       "      <td>PEREZ REYES IVAN DARIO</td>\n",
       "      <td>29</td>\n",
       "      <td>42</td>\n",
       "      <td>8</td>\n",
       "    </tr>\n",
       "    <tr>\n",
       "      <th>20</th>\n",
       "      <td>PEREZ THERAN ERLINDA</td>\n",
       "      <td>29</td>\n",
       "      <td>17</td>\n",
       "      <td>10</td>\n",
       "    </tr>\n",
       "    <tr>\n",
       "      <th>21</th>\n",
       "      <td>PINEDA ROMERO YOSMERI</td>\n",
       "      <td>42</td>\n",
       "      <td>10</td>\n",
       "      <td>17</td>\n",
       "    </tr>\n",
       "    <tr>\n",
       "      <th>22</th>\n",
       "      <td>QUINONEZ CERVANTES MARIANA</td>\n",
       "      <td>46</td>\n",
       "      <td>28</td>\n",
       "      <td>18</td>\n",
       "    </tr>\n",
       "    <tr>\n",
       "      <th>23</th>\n",
       "      <td>QUIROZ DURAN JUAN MANUEL</td>\n",
       "      <td>12</td>\n",
       "      <td>13</td>\n",
       "      <td>6</td>\n",
       "    </tr>\n",
       "    <tr>\n",
       "      <th>24</th>\n",
       "      <td>RAMOS PEREZ YANINE</td>\n",
       "      <td>7</td>\n",
       "      <td>42</td>\n",
       "      <td>10</td>\n",
       "    </tr>\n",
       "    <tr>\n",
       "      <th>25</th>\n",
       "      <td>RIVAS HOYOS ESTEFANIA</td>\n",
       "      <td>51</td>\n",
       "      <td>53</td>\n",
       "      <td>17</td>\n",
       "    </tr>\n",
       "    <tr>\n",
       "      <th>26</th>\n",
       "      <td>ROSILLO TEJADA VANESA</td>\n",
       "      <td>45</td>\n",
       "      <td>15</td>\n",
       "      <td>14</td>\n",
       "    </tr>\n",
       "    <tr>\n",
       "      <th>27</th>\n",
       "      <td>SANCHEZ PADILLA SILVESTRE</td>\n",
       "      <td>29</td>\n",
       "      <td>5</td>\n",
       "      <td>27</td>\n",
       "    </tr>\n",
       "    <tr>\n",
       "      <th>28</th>\n",
       "      <td>SILVA ROYERO MAILY CRISTINA</td>\n",
       "      <td>7</td>\n",
       "      <td>6</td>\n",
       "      <td>10</td>\n",
       "    </tr>\n",
       "    <tr>\n",
       "      <th>29</th>\n",
       "      <td>USUGA GEORGE JHON ESTIVEN</td>\n",
       "      <td>49</td>\n",
       "      <td>35</td>\n",
       "      <td>52</td>\n",
       "    </tr>\n",
       "    <tr>\n",
       "      <th>30</th>\n",
       "      <td>JUAN FELIPE HERNANDEZ ARDILA</td>\n",
       "      <td>8</td>\n",
       "      <td>2</td>\n",
       "      <td>32</td>\n",
       "    </tr>\n",
       "    <tr>\n",
       "      <th>31</th>\n",
       "      <td>NaN</td>\n",
       "      <td>13</td>\n",
       "      <td>31</td>\n",
       "      <td>16</td>\n",
       "    </tr>\n",
       "  </tbody>\n",
       "</table>\n",
       "</div>"
      ],
      "text/plain": [
       "                              Student  Exer1  Exer2  Exer3\n",
       "0        AGUDELO MORENO RENATO DIRNEY     21     43     49\n",
       "1   AMARIS FERNANDEZ SEBASTIAN CAMILO     40     12      6\n",
       "2       ARENAS HERAZO GABRIEL ENRIQUE     26     51     49\n",
       "3        AYALA MENDOZA MARISOL YACIRA     30     17     49\n",
       "4          BERTEL RODELO MICHELL SMIT     13     42     51\n",
       "5            BULA VERGARA MARIA PAULA     28     48     45\n",
       "6             CANTILLO ENSUCHO DANIEL     19     26     36\n",
       "7            CERVANTES DURAN ANGELICA      4     33     48\n",
       "8         GALLEGO TEJADA JUAN ESTEBAN      7     54      3\n",
       "9             GUERRA NORIEGA YONATHAN     19     23     45\n",
       "10    HINCAPIE CASTRO JOHAN SEBASTIAN     49     43      2\n",
       "11             HUMANEZ SANCHEZ CAMILO     38     33     26\n",
       "12       IBAnEZ MORENO FRANCISCO LUIS     53     32      3\n",
       "13  LONDONO CUADRADO CRISTIAN ALBERTO     23      5     50\n",
       "14       LOZANO HOLGUIN LIZETH JOHANA     13     25     19\n",
       "15          MASS MIRANDA RIVALDO JOSE     23     42      2\n",
       "16     MIRANDA MARTINEZ CARLOS ANDRES     38     49     24\n",
       "17              MONTERROSA SOTO ABRIL     37      8     15\n",
       "18           NORIEGA JIMENEZ GABRIELA     17     34     19\n",
       "19             PEREZ REYES IVAN DARIO     29     42      8\n",
       "20               PEREZ THERAN ERLINDA     29     17     10\n",
       "21              PINEDA ROMERO YOSMERI     42     10     17\n",
       "22         QUINONEZ CERVANTES MARIANA     46     28     18\n",
       "23           QUIROZ DURAN JUAN MANUEL     12     13      6\n",
       "24                 RAMOS PEREZ YANINE      7     42     10\n",
       "25              RIVAS HOYOS ESTEFANIA     51     53     17\n",
       "26              ROSILLO TEJADA VANESA     45     15     14\n",
       "27          SANCHEZ PADILLA SILVESTRE     29      5     27\n",
       "28        SILVA ROYERO MAILY CRISTINA      7      6     10\n",
       "29          USUGA GEORGE JHON ESTIVEN     49     35     52\n",
       "30       JUAN FELIPE HERNANDEZ ARDILA      8      2     32\n",
       "31                                NaN     13     31     16"
      ]
     },
     "execution_count": 4,
     "metadata": {},
     "output_type": "execute_result"
    }
   ],
   "source": [
    "# asignación de ejercicios de un seccion del texto guía\n",
    "\n",
    "# numpy.random.choice() obten la documentación de esta función en: \n",
    "# https://numpy.org/doc/stable/reference/random/generated/numpy.random.choice.html\n",
    "\n",
    "import pandas as pd\n",
    "import numpy as np\n",
    "import requests\n",
    "np.random.seed(42)  # establecer semilla aleatoria para hacer los resultados reproducibles\n",
    "\n",
    "\n",
    "\n",
    "grupo_estudiantes = 'calculo_integral'\n",
    "nombre_texto_guia = 'Purcell'\n",
    "pagina_y_seccion = 'Página_202_Sección_3.8'\n",
    "numero_ejercicios_taller = 54\n",
    "numero_de_ejercicios_asignados = 3\n",
    "\n",
    "\n",
    "# Descargar la lista de  estudiantes\n",
    "students_url = \"https://raw.githubusercontent.com/marco-canas/groups_list/main/\" + grupo_estudiantes + \".csv\"\n",
    "exercises = list(range(1, numero_ejercicios_taller))  \n",
    "\n",
    "students_data = pd.read_csv(students_url)\n",
    "\n",
    "# Crear una lista para almacenar las asignaciones\n",
    "assignments = []\n",
    "\n",
    "# Asignar ejercicios aleatorios a cada estudiante\n",
    "for index, student in students_data.iterrows():\n",
    "    # Seleccionar 5 ejercicios aleatorios sin repetición\n",
    "    random_exercises = np.random.choice(exercises, numero_de_ejercicios_asignados, replace = False)+ 1 \n",
    "    assignments.append([students_data[\"Nombre\"][index], *random_exercises])  # Agregar asignación a la lista\n",
    "\n",
    "# Crear un DataFrame con las asignaciones\n",
    "columns = [\"Student\"] + [ \"Exer\" + str(i+1) for i in range(numero_de_ejercicios_asignados)]\n",
    "assignment_df = pd.DataFrame(assignments, columns=columns)\n",
    "\n",
    "# Guardar el DataFrame en un archivo CSV\n",
    "assignment_csv = \"tarea\" + \"_\" + nombre_texto_guia + \"_\"+ pagina_y_seccion + \".csv\"\n",
    "assignment_df.to_csv(assignment_csv, index=False)\n",
    "\n",
    "print(\"Tarea asignada: \", assignment_csv)\n",
    "assignment_df"
   ]
  },
  {
   "cell_type": "markdown",
   "id": "742281f4",
   "metadata": {},
   "source": [
    "# No olvide la tarea de realizar la foda para autoevaluarse\n",
    "\n",
    "Fortalezas: F  \n",
    "Oportuniudades O:  \n",
    "Debilidades: D:   \n",
    "Amenazas: A:     "
   ]
  },
  {
   "cell_type": "markdown",
   "id": "8d41fe58",
   "metadata": {
    "slideshow": {
     "slide_type": "slide"
    }
   },
   "source": [
    "# Horario de clases del profesor Marco\n",
    "\n",
    "* Martes y jueves de 10 a 12: Fundamentos de las matemáticas\n",
    "* Martes y jueves de 2 a 4 PM: Fundamentos de la aritmética\n",
    "\n",
    "* Didáctica de la aritmética: Miércoles de 8 - 12\n",
    "\n"
   ]
  },
  {
   "cell_type": "markdown",
   "id": "ae114e14",
   "metadata": {
    "slideshow": {
     "slide_type": "slide"
    }
   },
   "source": [
    "# Horarios de monitoría y asesoría"
   ]
  },
  {
   "cell_type": "markdown",
   "id": "b1db4b6c",
   "metadata": {
    "slideshow": {
     "slide_type": "slide"
    }
   },
   "source": [
    "## Monitor Manuel"
   ]
  },
  {
   "cell_type": "markdown",
   "id": "39559692",
   "metadata": {
    "slideshow": {
     "slide_type": "slide"
    }
   },
   "source": [
    "Martes y jueves de 8 - 12  \n",
    "Miércoles 10 - 12 y de 2 a 4 PM  \n",
    "Sábado: 8 - 12"
   ]
  },
  {
   "cell_type": "markdown",
   "id": "935a5567",
   "metadata": {
    "slideshow": {
     "slide_type": "slide"
    }
   },
   "source": [
    "## Dificultades de aprendizaje detectados durante la clase"
   ]
  },
  {
   "cell_type": "markdown",
   "id": "3bd7500d",
   "metadata": {
    "slideshow": {
     "slide_type": "slide"
    }
   },
   "source": []
  },
  {
   "cell_type": "markdown",
   "id": "fb9402bb",
   "metadata": {
    "slideshow": {
     "slide_type": "slide"
    }
   },
   "source": [
    "## Estrategias propuestas para la solución de las dificultades de aprendizaje detectadas"
   ]
  },
  {
   "cell_type": "markdown",
   "id": "d437294b",
   "metadata": {
    "slideshow": {
     "slide_type": "slide"
    }
   },
   "source": []
  },
  {
   "cell_type": "markdown",
   "id": "d11570a2",
   "metadata": {
    "slideshow": {
     "slide_type": "slide"
    }
   },
   "source": []
  },
  {
   "cell_type": "markdown",
   "id": "319f2ffa",
   "metadata": {
    "slideshow": {
     "slide_type": "slide"
    }
   },
   "source": [
    "## Grabaciones en audio para fomentar la capacidad de memorizar enunciados de teoremas y resultados científicos y la capacidad de parafrasear estos resultados. Y así desarrollar memoria muscular para los comandos comunes. \n",
    "Se dispondrá de un lugar en Vocaroo para albergar archivos de audio de fomento a la memorización, enunciación y parafraseo de los resultados científicos, propiedades, reglas, etc. \n",
    "\n",
    "[Vocaroo](https://vocaroo.com/)\n",
    "\n"
   ]
  },
  {
   "cell_type": "markdown",
   "id": "564fa59d",
   "metadata": {
    "slideshow": {
     "slide_type": "slide"
    }
   },
   "source": [
    "### Comparta sus cuadernos y videos, evidencias de su aprendizaje [aquí](https://forms.office.com/Pages/ResponsePage.aspx?id=IefhmYRxjkmK_7KtTlPBwkanXIs1i1FEujpsZgO6dXpUMEMwTEZVMzEwVVBPTElWNVg5OVEyWUhMUy4u)"
   ]
  },
  {
   "cell_type": "markdown",
   "id": "1a1a3e41",
   "metadata": {
    "slideshow": {
     "slide_type": "slide"
    }
   },
   "source": []
  },
  {
   "cell_type": "markdown",
   "id": "44be6d93",
   "metadata": {
    "slideshow": {
     "slide_type": "slide"
    }
   },
   "source": [
    "# Vocabulary "
   ]
  },
  {
   "cell_type": "markdown",
   "id": "35e2484a",
   "metadata": {
    "slideshow": {
     "slide_type": "slide"
    }
   },
   "source": [
    "1. \n",
    "2.  \n",
    "3.  \n",
    "4.  \n",
    "5.  "
   ]
  },
  {
   "cell_type": "markdown",
   "id": "94187562",
   "metadata": {},
   "source": [
    "# Colección de verbos irregulares aprendidos\n",
    "\n",
    "|Verbo irregular en presente|en español|Pasado|\n",
    "|---------------------------|----------|------|  \n",
    "|choose|elegir|chose|"
   ]
  },
  {
   "cell_type": "markdown",
   "id": "0266e3c5",
   "metadata": {
    "slideshow": {
     "slide_type": "slide"
    }
   },
   "source": [
    "## Quiz de 20 minutos para ejercitación y adquisición de habilidades "
   ]
  },
  {
   "cell_type": "markdown",
   "id": "3a1b127f",
   "metadata": {
    "slideshow": {
     "slide_type": "slide"
    }
   },
   "source": [
    "* Pregunta 1: \n",
    "* Pregunta 2: \n",
    "* Pregunta 3: "
   ]
  },
  {
   "cell_type": "markdown",
   "id": "10bce0d0",
   "metadata": {
    "slideshow": {
     "slide_type": "slide"
    }
   },
   "source": [
    "## Referentes "
   ]
  },
  {
   "cell_type": "markdown",
   "id": "1db3c468",
   "metadata": {
    "slideshow": {
     "slide_type": "slide"
    }
   },
   "source": [
    "* [stewart precálculo](https://udeaeduco-my.sharepoint.com/:b:/g/personal/marco_canas_udea_edu_co/ERHIq62I6qFNrmxy6LZb8ZMBci7kUsyNME1nIh9yCBMJ_w?e=0zMSla)  \n",
    "\n",
    "* [stewart cálculo](https://udeaeduco-my.sharepoint.com/:b:/g/personal/marco_canas_udea_edu_co/EZgXZjAp8QxPqOAim2hs6LcBNPLGjSHf-xwYnUVYkwa04w?e=RZdTCy)  \n",
    "\n",
    "* [larson](https://udeaeduco-my.sharepoint.com/:b:/g/personal/marco_canas_udea_edu_co/ES71ChFeO9ZDhW3TwC5Ijk8BjxUK3Pdqz_fjHxTTFAfIAg?e=VDEjfu)\n",
    "\n",
    "* [uzcategui](https://udeaeduco-my.sharepoint.com/:b:/g/personal/marco_canas_udea_edu_co/ETDikm-lVl1Or8XoEo9oyh0BEti9Zs8le-f0D-dBdtZmbA?e=bBsoyQ)\n",
    "\n",
    "* [Cálculo de Purcell](https://udeaeduco-my.sharepoint.com/:b:/g/personal/marco_canas_udea_edu_co/ES60UB4h-QFFqqRQUFmkpWcBIgoLBJeqTfZjNajWNWSeJA?e=9NxjKJ)\n",
    "\n",
    "* [Recomendación de la UNESCO sobre ciencia abierta](https://unesdoc.unesco.org/ark:/48223/pf0000379949_spa)\n",
    "\n",
    "* [Fórmulas más comunes en latex](https://wiki.geogebra.org/es/C%C3%B3digo_LaTeX_para_las_f%C3%B3rmulas_m%C3%A1s_comunes) \n",
    "\n",
    "* [chatGPT](https://openai.com/blog/chatgpt)  \n",
    "\n",
    "* Géron, A. (2017). Hands-on machine learning with scikit-learn and tensorflow: Concepts. Tools, and Techniques to build intelligent systems.[Geron, Aurelien. Hands on Machine Learning](https://udeaeduco-my.sharepoint.com/:b:/g/personal/marco_canas_udea_edu_co/Ecet27yjQzZIlT1Y_Bc2erkBUhbeYuIe6HG8i1FYZRlZww?e=dlvZ4v)  \n",
    "\n",
    "* McKinney, W. (2012). Python for data analysis: Data wrangling with Pandas, NumPy, and IPython. \" O'Reilly Media, Inc.\".[Wes Mackinney. ](https://udeaeduco-my.sharepoint.com/:b:/g/personal/marco_canas_udea_edu_co/EVbi5JIeBl9ErbiUnZfGe8YBhNTnZ8sxTK5hjIOPK4UpGw?e=fFclah)  \n",
    "\n",
    "* [Ledezma, C., Font, V., & Sala-Sebastià, G. MODELIZACIÓN MATEMÁTICA DESDE UNA ARTICULACIÓN TEÓRICA ENTRE LOS ENFOQUES COGNITIVO Y ONTO-SEMIÓTICO.](https://www.researchgate.net/profile/Carlos-Ledezma-4/publication/376076920_Modelizacion_matematica_desde_una_articulacion_teorica_entre_los_enfoques_cognitivo_y_onto-semiotico/links/6568cb363fa26f66f43b292a/Modelizacion-matematica-desde-una-articulacion-teorica-entre-los-enfoques-cognitivo-y-onto-semiotico.pdf)"
   ]
  },
  {
   "cell_type": "markdown",
   "id": "45c59aa9",
   "metadata": {},
   "source": [
    "[Autoevaluemonos para hacernos concientes de nuestro aprendizaje y en lo que debemos enfocarnos en mejorar]()  \n",
    "\n",
    "Aquí tienes una lista de preguntas de selección múltiple para una autoevaluación en un curso de cálculo con un enfoque pedagógico de aula invertida. Estas preguntas abarcan los objetivos de desarrollo del pensamiento variacional, pensamiento computacional a través de Python, capacidad de comunicación científica con LaTeX, Git y el uso de cuadernos Jupyter, así como la promoción de políticas de ciencia libre. \n",
    "\n",
    "1. **Pensamiento Variacional:**\n",
    "   a. ¿Qué significa el término \"variación\" en el contexto del pensamiento variacional?\n",
    "   b. ¿Cómo se relaciona el cálculo con el pensamiento variacional?\n",
    "   c. ¿Puede proporcionar un ejemplo práctico que ilustre el concepto de variación en un problema de cálculo?\n",
    "\n",
    "2. **Pensamiento Computacional (Python):**\n",
    "   a. ¿Cuál es el propósito principal de utilizar Python en un curso de cálculo?\n",
    "   b. ¿Cómo se puede utilizar Python para resolver problemas matemáticos complejos?\n",
    "   c. Menciona al menos dos ventajas de usar Python en comparación con otros lenguajes de programación en el contexto del cálculo.\n",
    "\n",
    "3. **Comunicación Científica (LaTeX):**\n",
    "   a. ¿Por qué es importante utilizar LaTeX para la comunicación científica en matemáticas y ciencias?\n",
    "   b. Enumera al menos tres comandos básicos de LaTeX utilizados para escribir ecuaciones matemáticas.\n",
    "   c. ¿Cómo mejorarías la presentación visual de una fórmula matemática utilizando LaTeX?\n",
    "\n",
    "4. **Gestión de Versiones (Git):**\n",
    "   a. ¿Cuál es el propósito principal de utilizar Git en el desarrollo de proyectos científicos?\n",
    "   b. Explica el concepto de \"commit\" en Git.\n",
    "   c. ¿Cómo resolverías un conflicto de fusión (merge conflict) en Git?\n",
    "\n",
    "5. **Cuadernos Jupyter:**\n",
    "   a. ¿Cuáles son las ventajas de utilizar cuadernos Jupyter en comparación con otros entornos de desarrollo?\n",
    "   b. Describe cómo se integra el código Python y la documentación en un cuaderno Jupyter.\n",
    "   c. ¿Cómo compartirías un cuaderno Jupyter con tus compañeros de clase utilizando GitHub?\n",
    "\n",
    "6. **Promoción de Políticas de Ciencia Libre:**\n",
    "   a. ¿Cuáles son los beneficios de utilizar plataformas como GitHub y YouTube para compartir recursos científicos?\n",
    "   b. ¿Cómo podrías contribuir a la promoción de la ciencia libre en tu comunidad académica?\n",
    "   c. ¿Por qué es importante la transparencia y accesibilidad en la investigación científica?\n",
    "\n",
    "Estas preguntas están diseñadas para evaluar la comprensión de los estudiantes en diversos aspectos del curso, abarcando desde los conceptos matemáticos hasta las habilidades tecnológicas y la conciencia sobre la ciencia libre."
   ]
  },
  {
   "cell_type": "markdown",
   "id": "8e65d6f9",
   "metadata": {},
   "source": [
    "# Como estudiante, encuentro que...   \n",
    "\n",
    "F: Mis Fortalezas son:     \n",
    "O: Mis Oportunidades son:    \n",
    "D: Mis Debilidades son:    \n",
    "A: Lo que Amenazas mi aprendizaje es:  "
   ]
  },
  {
   "cell_type": "markdown",
   "id": "6b9e56a8",
   "metadata": {
    "slideshow": {
     "slide_type": "slide"
    }
   },
   "source": [
    "### [Evaluamos al profesor Marco Cañas Aquí](https://forms.office.com/Pages/ResponsePage.aspx?id=IefhmYRxjkmK_7KtTlPBwkanXIs1i1FEujpsZgO6dXpUREJPV1kxUk1JV1ozTFJIQVNIQjY5WEY3US4u)"
   ]
  },
  {
   "cell_type": "markdown",
   "id": "050b9508",
   "metadata": {},
   "source": [
    "# Aportes de mis estudiantes a la metodología del curso  \n",
    "1. \n",
    "\n",
    "Sus opiniones y aportes son muy importantes para mi. Pues esta es una investigación educativa y un servicio de enseñanza para ustedes. Ustedes son la razón de ser de mi actividad docente. Dios los bendiga. "
   ]
  },
  {
   "cell_type": "markdown",
   "id": "6c4af91f",
   "metadata": {},
   "source": [
    "# Aportes de mis colegas docentes a la metodología que estoy aplicando en mis cursos. "
   ]
  },
  {
   "cell_type": "markdown",
   "id": "071afa04",
   "metadata": {
    "slideshow": {
     "slide_type": "slide"
    }
   },
   "source": [
    "## [Evaluación luego de alcanzar estos objetivos de aprendizaje]()"
   ]
  },
  {
   "cell_type": "markdown",
   "id": "10f43536",
   "metadata": {
    "slideshow": {
     "slide_type": "slide"
    }
   },
   "source": [
    "### Continue su aprendizaje en la siguiente clase a través del siguiente [vínculo]()"
   ]
  },
  {
   "cell_type": "markdown",
   "id": "af751e30",
   "metadata": {
    "slideshow": {
     "slide_type": "slide"
    }
   },
   "source": [
    "# Conjeturas pedagógicas fruto de la aplicación del modelo de aprendizaje invertido y del enfoque hacia la ciencia de datos con python\n",
    "\n",
    "1. Todo cálculo o resultado debe ser interpretado en una línea markdown del cuaderno Jupyter, inmediatamente después de la enunciación del resultado y después de la presentación de una tabla o gráfico bidimensional, de tal menera que el estudiante explicite la comprensión verbal del resultado y las inferencias o estrategias que este resultado le sugieren.  \n",
    "\n",
    "2. Debo colocar las conjeturas pedagógicas, que el uso en el aula de [ChatGPT](https://openai.com/blog/chatgpt/) traiga para la enseñanza y el aprendizaje de las matemáticas. \n",
    "\n",
    "3. Promover ciencia abierta en clase de matemáticas puede ser pidiendo a los estudiantes, tomar nota en clase pero en cuadernos Jupyter y entregar siempre al final de cada clase su cuaderno con todas las notas y experimentaciones de clase replicadas. \n",
    "4. Profesor Marco, ¿ha contemplado la posibilidad de intercambio de experiencias de aprendizaje y aplicación de Python al día a día con comfama? (Estudio Trabajo Social y allí, en comfama, aprendí los fundamentos, lo básico de Python)\n",
    "\n",
    "¿Conoce si en la Universidad de Antioquia hay medios para poder aprender Swift/XCODE? (Para programar para dispositivos de Apple)\n",
    "5. Debo considerar la metodología ABP, es decir, diseñar las clase bajo la metodología de Aprendizaje Basado en Problemas. \n",
    "\n"
   ]
  },
  {
   "cell_type": "markdown",
   "id": "53cc9115",
   "metadata": {
    "slideshow": {
     "slide_type": "slide"
    }
   },
   "source": [
    "## Agradecimientos  \n",
    "\n",
    "Doy gracias a Dios por la vida de mi Hijo Joseph Cañas Osorio y la madurez que ha alcanzado.\n",
    "\n",
    "Y a mi esposa Yasmira por su apoyo, orientación y acompañamiento. "
   ]
  }
 ],
 "metadata": {
  "celltoolbar": "Slideshow",
  "kernelspec": {
   "display_name": "Python 3 (ipykernel)",
   "language": "python",
   "name": "python3"
  },
  "language_info": {
   "codemirror_mode": {
    "name": "ipython",
    "version": 3
   },
   "file_extension": ".py",
   "mimetype": "text/x-python",
   "name": "python",
   "nbconvert_exporter": "python",
   "pygments_lexer": "ipython3",
   "version": "3.10.12"
  },
  "rise": {
   "enable_chalkboard": true,
   "theme": "sky",
   "transition": "zoom"
  }
 },
 "nbformat": 4,
 "nbformat_minor": 5
}
