{
 "cells": [
  {
   "cell_type": "markdown",
   "id": "dc06dec7",
   "metadata": {
    "slideshow": {
     "slide_type": "slide"
    }
   },
   "source": [
    "<table align=\"left\">\n",
    "  <td>\n",
    "    <a href=\"https://colab.research.google.com/github/ageron/handson-ml3/blob/main/tools_numpy.ipynb\" target=\"_parent\"><img src=\"https://colab.research.google.com/assets/colab-badge.svg\" alt=\"Open In Colab\"/></a>\n",
    "  </td>\n",
    "  <td>\n",
    "    <a target=\"_blank\" href=\"https://kaggle.com/kernels/welcome?src=https://github.com/ageron/handson-ml3/blob/main/tools_numpy.ipynb\"><img src=\"https://kaggle.com/static/images/open-in-kaggle.svg\" /></a>\n",
    "  </td>\n",
    "</table>"
   ]
  },
  {
   "cell_type": "markdown",
   "id": "e0c5b198",
   "metadata": {
    "slideshow": {
     "slide_type": "slide"
    }
   },
   "source": [
    "### [Video de apoyo a la lectura interactiva y experimental de este cuaderno]()"
   ]
  },
  {
   "cell_type": "markdown",
   "id": "41e82203",
   "metadata": {
    "slideshow": {
     "slide_type": "slide"
    }
   },
   "source": [
    "### [Vínculo al programa del curso:  ]()\n",
    "\n"
   ]
  },
  {
   "cell_type": "markdown",
   "id": "d11ab06d",
   "metadata": {
    "slideshow": {
     "slide_type": "slide"
    }
   },
   "source": [
    "Un reconocimiento a mis estudiantes que han construido conmigo este saber pedagógico:\n",
    "\n",
    "<img src = ''> \n",
    "\n"
   ]
  },
  {
   "cell_type": "markdown",
   "id": "8a74a56c-0ce6-4ad6-b985-553fd7fb68bb",
   "metadata": {},
   "source": [
    "Reconocimiento a las profesoras destacadas en enseñanza de la matemática en Colombia\n"
   ]
  },
  {
   "cell_type": "code",
   "execution_count": 2,
   "id": "6cb89c0b",
   "metadata": {},
   "outputs": [
    {
     "data": {
      "application/vnd.microsoft.datawrangler.viewer.v0+json": {
       "columns": [
        {
         "name": "index",
         "rawType": "int64",
         "type": "integer"
        },
        {
         "name": "Nombre",
         "rawType": "object",
         "type": "string"
        },
        {
         "name": "Calificacion_1",
         "rawType": "float64",
         "type": "float"
        }
       ],
       "ref": "4234a527-80b2-43f7-a3d0-448b6207c9a8",
       "rows": [
        [
         "1",
         "Marco Julio Cañas Campillo",
         null
        ]
       ],
       "shape": {
        "columns": 2,
        "rows": 1
       }
      },
      "text/html": [
       "<div>\n",
       "<style scoped>\n",
       "    .dataframe tbody tr th:only-of-type {\n",
       "        vertical-align: middle;\n",
       "    }\n",
       "\n",
       "    .dataframe tbody tr th {\n",
       "        vertical-align: top;\n",
       "    }\n",
       "\n",
       "    .dataframe thead th {\n",
       "        text-align: right;\n",
       "    }\n",
       "</style>\n",
       "<table border=\"1\" class=\"dataframe\">\n",
       "  <thead>\n",
       "    <tr style=\"text-align: right;\">\n",
       "      <th></th>\n",
       "      <th>Nombre</th>\n",
       "      <th>Calificacion_1</th>\n",
       "    </tr>\n",
       "  </thead>\n",
       "  <tbody>\n",
       "    <tr>\n",
       "      <th>1</th>\n",
       "      <td>Marco Julio Cañas Campillo</td>\n",
       "      <td>NaN</td>\n",
       "    </tr>\n",
       "  </tbody>\n",
       "</table>\n",
       "</div>"
      ],
      "text/plain": [
       "                       Nombre  Calificacion_1\n",
       "1  Marco Julio Cañas Campillo             NaN"
      ]
     },
     "execution_count": 2,
     "metadata": {},
     "output_type": "execute_result"
    }
   ],
   "source": [
    "import pandas as pd\n",
    "import numpy as np\n",
    "\n",
    "# Cargar la lista de estudiantes desde el archivo CSV\n",
    "path = 'C:/Users/marco/Documentos/docencia/groups_list/english.xlsx'\n",
    "df = pd.read_excel(path)\n",
    "df.index = range(1, len(df) + 1)\n",
    "df.head(17) "
   ]
  },
  {
   "cell_type": "markdown",
   "id": "d7598d0a-d9b7-4ae0-b029-a0ed6ed1130b",
   "metadata": {},
   "source": [
    "\n",
    "# Principios de mi labor docente"
   ]
  },
  {
   "cell_type": "markdown",
   "id": "4f9d8cf9",
   "metadata": {
    "slideshow": {
     "slide_type": "slide"
    }
   },
   "source": [
    "## Modelo general de clase: [aula invertida](https://www3.gobiernodecanarias.org/medusa/ecoescuela/pedagotic/aprendizaje-invertido-flipped-classroom/)"
   ]
  },
  {
   "cell_type": "markdown",
   "id": "eb6ed03a",
   "metadata": {},
   "source": [
    "<img src = 'https://resources.maneuveringthemiddle.com/wp-content/uploads/2020/07/04212706/1-5.png' width = 200>  \n",
    "\n"
   ]
  },
  {
   "cell_type": "markdown",
   "id": "96775931",
   "metadata": {
    "slideshow": {
     "slide_type": "slide"
    }
   },
   "source": [
    "## Título de la clase: 2 Clase del 2 de Julio de 2025 \"Numbers, Operations, and Describing Graphs\"\n",
    "\n"
   ]
  },
  {
   "cell_type": "markdown",
   "id": "10e55ccf",
   "metadata": {},
   "source": [
    "# Estructura general para todas las clases  \n",
    "\n",
    "Dame, por favor, un diseño de clase, con el enfoque: \"Aula Invertida, STEAMS y De aprendizaje basado en problemas y proyectos(ABPP)\" sobre: \"\"Numbers, Operations, and Describing Graphs\"\", siguiendo la estructura:  \n",
    "\n",
    "1. Título de la clase \n",
    "2. Objetivos de aprendizaje que incluyan los indicadores del logro de estos objetivos.\n",
    "3. Un mapa conceptual que resuma la clase elaborado en Graphviz de Python con nodos y edges de diferentes formas, colores y rellenos y renderizado en la siguiente ubicación: `\"C:/Users/marco/Downloads\"`. No olvides el parámetro `view = True` para el método `render()` de Graphviz. Para este mapa controla las superposiciones de los nodos con: graph [overlap=false]; // Elimina superposiciones (puede aumentar el espacio)\n",
    "graph [overlap=\"scalexy\"]; // Escala el gráfico para evitar overlaps\n",
    "graph [overlap=\"compress\"]; // Comprime el grafo sin overlaps   \n",
    "\n",
    "4. Elementos históricos y epistemológicos relevantes para la clase pero contados como un cuento al estilo de un cuentero antioqueño en Colombia. Incluye imágenes de los protagonistas históricos de esta clase.   \n",
    "   \n",
    "5. Contenido de la clase. Que el contenido parta de una situación real para llegar a una constitución del modelo matemático que represente tal situación real.   \n",
    "   \n",
    "6. Actividades de aprendizaje  \n",
    "   * Incluya actividades de aprendizaje utilizando Calculadora **Casio 991 LA cw**\n",
    "   * Incluya también actividades de aprendizaje y modelación de situaciones o problemas reales a través de circuitos lógicos y circuitos digitales o electrónicos utilizando la aplicación portable cocodrilo. [Descarge esta aplicación portable aquí](https://crocodileclips.net/descargar-crocodile-clips/) \n",
    "   * Incluye actividades de aprendizaje utilizando lenguaje Python y Jupyter Notebook.   \n",
    "\n",
    "   \n",
    "7. Incluye una canción o un poema que ayude a interiorizar y fijar los conceptos asociados a esta clase.  \n",
    "    \n",
    "8. Tarea o actividades de ejercitación y fijación. \n",
    "     * Diseña las tareas de tal manera que en cada ejercicio se realicen las siguientes cuatro preguntas:  \n",
    "        - ¿Por qué esta expresión representa el problema?\n",
    "        - ¿Qué pasaría si cambiamos este valor?\n",
    "        - ¿Hay otra manera de resolverlo?\n",
    "        - ¿Cómo justificas que tu resultado es razonable? \n",
    "\n",
    "9.  Evaluación incluyendo diez proyectos, un ejemplo de quiz (de tres preguntas) y un ejemplo de parcial (de cinco puntos). \n",
    "    \n",
    "10. Diseño de actividad de retroalimentación.   \n",
    "    \n",
    "11. Dame un vocabulario y frases del idioma inglés asociadas a esta clase.     \n",
    "    \n",
    "12. Incluye apéndice para la clase sobre desarrollo de habilidades para trabajar en equipo y de asertividad y empatía para relacionarnos. También elementos de la inteligencia emocional para presentar pruebas sin temor y sin realizar fraude en ellas.   \n",
    "    \n",
    "13. Incluye 10 referentes en didáctica de la matemática que estén de acuerdo a la propuesta didáctica de esta clase. Adiciona a estos referentes a Raymond Duval (Representaciones y cambios de representación para la adquisición de conceptos matemáticos) y a Jeannette Wing (Desarrollo del pensamiento computacional). Déjame todos estos referentes ordenados de acuerdo a las normas APA. Déjame todos estos referentes ordenados de acuerdo a las normas APA. Incluye las citaciones a estos referentes a medida que vallas diseñando la clase.   \n",
    "    \n",
    "\n",
    "Pero  que este diseño sea para que el estudiante pueda aprender experimentando en cuadernos Jupyter con funciones de usuario y animaciones y visualizaciones en Python. En particular utiliza para el diseño de clase a NumPy, Pandas, SymPy, Matplotlib.pyplot, Seaborn, Plotly, ipywidgets, matplotlib.animation y Jupyter Notebook.  Cada vez que utilice `matplotlib.animacion` no olvides incluir el uso de `IPython. display` para la renderización de estas animaciones a través de Jupyter Notebook. No olvides darme los diseños de clase con las ecuaciones matemáticas delimitadas con signo de dólar $ para que VS Code si me renderice estas expresiones del lenguaje latex. Cuando vallas a utilizar ipywidgets ten en cuenta la siguiente importación inicial para garantizar que la visualización interactiva si se renderice en VS Code:                                                                   \n",
    "import numpy as np\n",
    "import matplotlib.pyplot as plt\n",
    "import ipywidgets as widgets\n",
    "from IPython.display import display, clear_output\n",
    "from matplotlib.patches import Rectangle\n",
    "\n",
    "# Configuración inicial para visualización estática\n",
    "%matplotlib inline"
   ]
  },
  {
   "cell_type": "code",
   "execution_count": 1,
   "id": "81235e9f",
   "metadata": {},
   "outputs": [],
   "source": [
    "path_image = r'C:/Users/marco/Downloads'\n",
    "def save_fig(nombre_archivo_imagen):\n",
    "    import os \n",
    "    import matplotlib.pyplot as plt \n",
    "    imagen_path = os.path.join(path_image, nombre_archivo_imagen)\n",
    "    plt.savefig(imagen_path, bbox_inches='tight')"
   ]
  },
  {
   "cell_type": "markdown",
   "id": "f227c429",
   "metadata": {},
   "source": [
    "### **Programa de Formación en Inglés para Profesores de Matemáticas (A1 → B2)**\n"
   ]
  },
  {
   "cell_type": "markdown",
   "id": "8834802f",
   "metadata": {},
   "source": [
    "**Duración:** 9-12 meses (1 hora diaria)  \n",
    "**Metodología:** CLIL + Inglés para Fines Específicos (STEM)  \n"
   ]
  },
  {
   "cell_type": "markdown",
   "id": "8ba4aa1b",
   "metadata": {},
   "source": [
    "**Objetivos:**  \n",
    "- Dominar el lenguaje técnico matemático en inglés (ej: \"polynomial\", \"derivative\", \"proof by induction\") .  \n",
    "- Preparar clases bilingües con vocabulario científico y estructuras académicas (ej: explicar teoremas, redactar problemas).  \n",
    "- Desarrollar habilidades para publicar o presentar investigaciones en inglés .  \n"
   ]
  },
  {
   "cell_type": "markdown",
   "id": "6ac702c3",
   "metadata": {},
   "source": [
    "\n",
    "---\n",
    "\n",
    "### **Fases del Programa**  \n",
    "#### **1. Nivel A1-A2 (Meses 1-3): Fundamentos + Vocabulario Básico**  \n",
    "- **Contenidos:**  \n",
    "  - Gramática: Presente simple, verbos modales (can/must), comparativos.  \n",
    "  - Vocabulario STEM: Números, operaciones básicas (sum, product, equation), formas geométricas .  \n",
    "  - Prácticas:  \n",
    "    - Describir gráficos simples en inglés (ej: \"The line increases steadily\").  \n",
    "    - Traducir enunciados de problemas matemáticos básicos .  \n",
    "- **Recursos:**  \n",
    "  - Curso A1/A2 de EF English Live (certificado) .  \n",
    "  - Videos del canal *American English* (ej: \"Math Vocabulary in English\") .  \n"
   ]
  },
  {
   "cell_type": "markdown",
   "id": "15726fd9",
   "metadata": {},
   "source": [
    "\n",
    "#### **2. Nivel B1 (Meses 4-6): Comunicación Científica**  \n",
    "- **Contenidos:**  \n",
    "  - Gramática: Pasado simple/presente perfecto (para explicar historias de conceptos matemáticos), voz pasiva (ej: \"The theorem was proven by...\").  \n",
    "  - Vocabulario: Términos avanzados (ej: \"algorithm\", \"hypotenuse\"), frases para debates (ej: \"Let’s verify this hypothesis\") .  \n",
    "  - Prácticas:  \n",
    "    - Simular clases en inglés (ej: explicar el Teorema de Pitágoras).  \n",
    "    - Redactar resúmenes de artículos de matemáticas en inglés .  \n",
    "- **Recursos:**  \n",
    "  - MOOC *Inglés para STEM* de la Universidad de Pensilvania (auditar gratis) .  \n",
    "  - Plataforma *That’s English!* (actividades interactivas B1) .  \n"
   ]
  },
  {
   "cell_type": "markdown",
   "id": "15ca3d88",
   "metadata": {},
   "source": [
    "\n",
    "#### **3. Nivel B2 (Meses 7-9): Fluidez Académica**  \n",
    "- **Contenidos:**  \n",
    "  - Gramática: Condicionales (ej: \"If we apply this formula, the result will be...\"), discurso indirecto.  \n",
    "  - Vocabulario: Abstracto (ej: \"conjecture\", \"quantitative analysis\"), conectores académicos (however, therefore) .  \n",
    "  - Prácticas:  \n",
    "    - Presentar ponencias ficticias en inglés (ej: \"Today I’ll discuss Fibonacci sequences\").  \n",
    "    - Corregir ejercicios de estudiantes en inglés .  \n",
    "- **Recursos:**  \n",
    "  - Curso B2 de Edutin (certificable) .  \n",
    "  - *Trace Effects* (videojuego interactivo para practicar lenguaje técnico) .  \n",
    "\n",
    "---\n",
    "\n",
    "### **Actividades Diarias (1 hora)**  \n",
    "- **Lunes a Viernes:**  \n",
    "  - 20 min: Gramática/vocabulario (apps como Duolingo o plataformas ).  \n",
    "  - 20 min: Lectura/escritura científica (ej: resumir un paper de *Scientific American*).  \n",
    "  - 20 min: Práctica oral (grabar explicaciones de temas matemáticos en inglés).  \n",
    "- **Sábados:**  \n",
    "  - Ver videos de clases de matemáticas en inglés (ej: Khan Academy) y tomar notas.  \n",
    "- **Domingos:**  \n",
    "  - Revisión semanal + autoevaluación con tests de nivel .  \n"
   ]
  },
  {
   "cell_type": "markdown",
   "id": "0777989b",
   "metadata": {},
   "source": [
    "\n",
    "---\n",
    "\n",
    "### **Evaluación y Certificación**  \n",
    "- **Al finalizar cada nivel:**  \n",
    "  - Certificado de EF English Live (A2), Edutin (B2), o Coursera (STEM English) .  \n",
    "  - Portafolio de evidencias: Grabaciones de clases, redacciones científicas, traducciones de problemas.  \n",
    "- **Recomendado:** Tomar el examen oficial *TOEFL* o *IELTS* para acreditar el B2 .  \n",
    "\n",
    "---\n",
    "\n",
    "### **Recursos Adicionales**  \n",
    "- **Para alumnos:** Diseñar actividades CLIL (ej: proyectos bilingües sobre geometría) usando materiales de *American English* .  \n",
    "- **Para profesores:** Curso *CLIL* de Maltalingua (para aprender a enseñar matemáticas en inglés) .  \n",
    "\n",
    "Este programa te permitirá no solo alcanzar el B2, sino también integrar el inglés en tu docencia de manera natural y efectiva, preparando a tus estudiantes para el ámbito científico global .\n"
   ]
  },
  {
   "cell_type": "markdown",
   "id": "b9ae79a5",
   "metadata": {},
   "source": [
    "Aquí tienes el **diseño detallado de la clase del 30 de junio de 2025** (Clase 2 del programa), adaptado al nivel **A1-A2** y enfocado en **vocabulario matemático básico y gramática aplicada a contextos STEM**.  \n",
    "\n",
    "---"
   ]
  },
  {
   "cell_type": "markdown",
   "id": "a9bdc975",
   "metadata": {},
   "source": [
    "### Clase 2: \"Numbers, Operations, and Describing Graphs\"  "
   ]
  },
  {
   "cell_type": "markdown",
   "id": "037e405f",
   "metadata": {},
   "source": [
    "  \n",
    "**Fecha**: 2 de julio de 2025  \n",
    "**Duración**: 1 hora  \n"
   ]
  },
  {
   "cell_type": "markdown",
   "id": "8d50f2ac",
   "metadata": {},
   "source": [
    "**Objetivos**:  \n",
    "- Dominar vocabulario de operaciones matemáticas básicas en inglés.  \n",
    "- Practicar el presente simple para describir gráficos y problemas.  \n",
    "- Introducir lenguaje para instrucciones en el aula (ej: \"Solve for x\").  \n",
    "\n",
    "---"
   ]
  },
  {
   "cell_type": "markdown",
   "id": "39b0b559",
   "metadata": {},
   "source": [
    "### **Estructura de la Clase**  \n"
   ]
  },
  {
   "cell_type": "markdown",
   "id": "651557bb",
   "metadata": {},
   "source": [
    "\n",
    "#### **1. Calentamiento (10 min)**  \n"
   ]
  },
  {
   "cell_type": "markdown",
   "id": "10fdbb4c",
   "metadata": {},
   "source": [
    "- **Actividad oral**:  \n"
   ]
  },
  {
   "cell_type": "markdown",
   "id": "70c4f528",
   "metadata": {},
   "source": [
    "  - Los profesores se presentan usando una operación matemática como metáfora (ej: *\"I’m like a square root because I dig deep into problems\"*). "
   ]
  },
  {
   "cell_type": "markdown",
   "id": "a7053ec8",
   "metadata": {},
   "source": [
    "Aquí tienes un ejemplo de **presentación creativa para una clase de matemáticas** (Números, Operaciones y Gráficas), usando operaciones como metáforas y estructurada para enganchar a los estudiantes desde el primer momento:\n",
    "\n",
    "---\n",
    "\n",
    "### **¡Buenos días, clase!**  \n",
    "**Tema de hoy**: *Numbers, Operations, and Describing Graphics*  \n",
    "**Objetivo**: Aprenderán a relacionar operaciones matemáticas con la vida real y describir gráficas con lenguaje preciso.  \n",
    "\n",
    "---\n",
    "\n",
    "### **1. Mi presentación (ejemplo para el profesor)**  \n",
    "*\"Soy como una **ecuación lineal**: simple pero poderosa. Mi misión es ayudarlos a encontrar la ‘variable desconocida’ en sus problemas, paso a paso.  \n",
    "También soy un poco como el **signo de igualdad**, porque creo en el equilibrio: entre teoría y práctica, entre esfuerzo y diversión.\"*  \n",
    "\n",
    "*(Dibuja en la pizarra:)*  \n",
    "\\[ y = mx + b \\]  \n",
    "*\"Como esta recta, mi clase tiene una dirección clara: su crecimiento.\"*  \n",
    "\n",
    "---\n",
    "\n",
    "### **2. Actividad para estudiantes**  \n",
    "**Instrucciones**:  \n",
    "*\"Ahora ustedes se presentarán usando una operación o símbolo matemático. Ejemplos:*  \n",
    "- *‘Soy como un **porcentaje** porque siempre doy el 100%.’*  \n",
    "- *‘Soy como un **logaritmo** porque transformo problemas complejos en algo manejable.’*  \n",
    "- *‘Soy como una **gráfica de torta** porque tengo muchas facetas.’*  \n",
    "\n",
    "*(Reparte tarjetas con símbolos matemáticos para inspirarlos: +, −, ×, ÷, √, π, =, ∞, etc.)*  \n",
    "\n",
    "---\n",
    "\n",
    "### **3. Transición al tema principal**  \n",
    "*\"Hoy exploraremos cómo las operaciones básicas (como las que usaron en sus presentaciones) se reflejan en gráficas. Por ejemplo:*  \n",
    "- *¿Cómo se ve una **suma acumulativa** en un gráfico de barras?*  \n",
    "- *¿Qué forma tiene una **función cuadrática** y por qué?\"*  \n",
    "\n",
    "*(Muestra una gráfica simple en la pizarra o con un proyector y pide descripciones en inglés.)*  \n",
    "\n",
    "---\n",
    "\n",
    "### **4. Cierre interactivo**  \n",
    "*\"Para terminar, usen su operación matemática favorita para describir cómo se sienten hoy. Ejemplo:*  \n",
    "- *‘Estoy en modo **fracción** porque solo doy media energía hoy.’*  \n",
    "- *‘Soy un **exponente** porque estoy creciendo en confianza.’\"*  \n",
    "\n",
    "*(Anota respuestas en la pizarra y reflexionen sobre la diversidad de perspectivas.)*  \n",
    "\n",
    "---\n",
    "\n",
    "### **Material visual sugerido**:  \n",
    "- **Pizarra**: Escribe las metáforas de los estudiantes junto a sus símbolos.  \n",
    "- **PPT**: Muestra gráficas de operaciones comunes (suma vs. multiplicación) y pide comparaciones.  \n",
    "- **Tarjetas**: Prepara imágenes de gráficas (lineal, exponencial, sinusoidal) para que las describan en parejas.  \n",
    "\n",
    "---\n",
    "\n",
    "**¿Por qué funciona?**  \n",
    "- **Creatividad**: Las metáforas rompen el hielo y conectan las matemáticas con la identidad personal.  \n",
    "- **Lenguaje matemático**: Los estudiantes practican vocabulario (operaciones, gráficas) en contexto.  \n",
    "- **Participación**: Todos contribuyen desde el inicio, generando confianza.  \n",
    "\n",
    "¡Adapta las metáforas según el nivel de tu grupo! ¿Necesitas más ejemplos de gráficas para la actividad?"
   ]
  },
  {
   "cell_type": "markdown",
   "id": "038f0f3b",
   "metadata": {},
   "source": [
    "Here’s a polished, engaging **English version** of your math class presentation, designed for a lesson on *Numbers, Operations, and Describing Graphics* with a creative twist:  \n",
    "\n",
    "---\n",
    "\n",
    "### **Math Class Presentation**  \n",
    "**Topic**: *Numbers, Operations, and Describing Graphics*  \n",
    "**Objective**: *Students will connect math operations to real-life metaphors and describe graphs using precise language.*  \n",
    "\n",
    "---  \n",
    "\n",
    "### **1. Teacher’s Introduction**  \n",
    "*\"Good morning, class! Today, I’ll introduce myself with a math metaphor.  \n",
    "I’m like a **linear equation**—simple but powerful. My job is to help you solve for the ‘unknown variable’ in your problems, step by step.  \n",
    "I’m also a bit like the **equal sign**, because I believe in balance: between theory and practice, hard work and fun.\"*  \n",
    "\n",
    "*(Draw on the board:)*  \n",
    "$$ y = mx + b $$  \n",
    "*\"Just like this line, our class has a clear direction: your growth.\"*  \n",
    "\n",
    "---  \n",
    "\n",
    "### **2. Student Icebreaker Activity**  \n",
    "**Instructions**:  \n",
    "*\"Now, it’s your turn! Introduce yourself using a math operation or symbol. For example:*  \n",
    "- *‘I’m like a **square root** because I dig deep into challenges.’*  \n",
    "- *‘I’m like **π** because I’m full of surprises!’*  \n",
    "- *‘I’m like a **percent sign** because I always give 100%.’*  \n",
    "\n",
    "*(Hand out cards with symbols: +, −, ×, ÷, √, π, =, ∞, etc., to spark ideas.)*  \n",
    "\n",
    "**Teacher Tip**:  \n",
    "- Write student responses on the board to create a collaborative \"Math Identity Wall.\"  \n",
    "\n",
    "---  \n",
    "\n",
    "### **3. Transition to Main Lesson**  \n",
    "*\"Now, let’s see how these operations appear in graphs. For example:*  \n",
    "- *What does a **cumulative sum** look like in a bar graph?*  \n",
    "- *Why does a **quadratic function** have a U-shape?*  \n",
    "\n",
    "*(Show a simple graph on the board/projector and ask students to describe it in English. Example prompts:)*  \n",
    "- *\"Is this graph increasing or decreasing?\"*  \n",
    "- *\"Would this represent addition or multiplication over time?\"*  \n",
    "\n",
    "---  \n",
    "\n",
    "### **4. Interactive Wrap-Up**  \n",
    "*\"Before we end, use your favorite math operation to describe how you feel today. Examples:*  \n",
    "- *‘I’m a **fraction** because I’m only at half energy.’*  \n",
    "- *‘I’m an **exponent** because my confidence is growing fast!’*  \n",
    "\n",
    "*(Discuss responses and highlight how math connects to emotions and real life.)*  \n",
    "\n",
    "---  \n",
    "\n",
    "### **Visual Aids**:  \n",
    "- **Whiteboard**: Track student metaphors and graph descriptions.  \n",
    "- **PPT Slides**: Compare graphs of different operations (e.g., linear vs. exponential).  \n",
    "- **Graph Cards**: Give pairs of students graphs to describe (e.g., a fluctuating sine wave vs. a steady line).  \n",
    "\n",
    "---  \n",
    "\n",
    "### **Why This Works**:  \n",
    "- **Engagement**: Math metaphors make the lesson personal and memorable.  \n",
    "- **Language Practice**: Students use terms like *\"slope,\" \"peak,\"* or *\"steep increase\"* in context.  \n",
    "- **Critical Thinking**: Linking symbols to graphs reinforces conceptual understanding.  \n",
    "\n",
    "**Pro Tip**: For advanced students, ask them to sketch a graph that represents their week!  \n",
    "\n",
    "---  \n",
    "\n",
    "Let me know if you’d like to add a **warm-up exercise** (e.g., a quick \"Operation Charades\" game) or **exit tickets** (e.g., \"Draw a graph of your learning today\")!  \n",
    "\n",
    "Would you like the **PPT template** to match this lesson? 😊"
   ]
  },
  {
   "cell_type": "markdown",
   "id": "c976d08c",
   "metadata": {},
   "source": [
    "# Versión en english con texto plano, es decir, sin formateo markdown \n",
    "\n",
    "Here’s a polished, engaging English version of your math class presentation, designed for a lesson on Numbers, Operations, and Describing Graphics with a creative twist:  \n",
    "\n",
    "\n",
    "\n",
    "Math Class Presentation   \n",
    " \n",
    "Topic: Numbers, Operations, and Describing Graphics  \n",
    " \n",
    "Objective: Students will connect math operations to real-life metaphors and describe graphs using precise language.  \n",
    "\n",
    "\n",
    "\n",
    "1. Teacher’s Introduction  \n",
    "\"Good morning, class! Today, I’ll introduce myself with a math metaphor.  \n",
    "I’m like a linear equation—simple but powerful. My job is to help you solve for the ‘unknown variable’ in your problems, step by step.  \n",
    "I’m also a bit like the equal sign, because I believe in balance: between theory and practice, hard work and fun.\"  \n",
    "\n",
    "(Draw on the board:)  \n",
    " y = mx + b\n",
    "\"Just like this line, our class has a clear direction: your growth.\" \n",
    "\n",
    " \n",
    "\n",
    "2. Student Icebreaker Activity  \n",
    "Instructions:  \n",
    "\"Now, it’s your turn! Introduce yourself using a math operation or symbol. For example: \n",
    "- I’m like a square root  because I dig deep into challenges.’  \n",
    "- ‘I’m like  π because I’m full of surprises!’  \n",
    "- ‘I’m like a percent sign because I always give 100%.’   \n",
    "\n",
    "(Hand out cards with symbols: +, −, ×, ÷, √, π, =, ∞, etc., to spark ideas.)  \n",
    "\n",
    "Teacher Tip:  \n",
    "- Write student responses on the board to create a collaborative \"Math Identity Wall.\"  \n",
    "\n",
    "\n",
    "\n",
    "3. Transition to Main Lesson  \n",
    "\"Now, let’s see how these operations appear in graphs. For example:  \n",
    "- What does a cumulative sum look like in a bar graph?  \n",
    "- Why does a quadratic function have a U-shape?*  \n",
    "\n",
    "(Show a simple graph on the board/projector and ask students to describe it in English. Example prompts:)*  \n",
    "- \"Is this graph increasing or decreasing?\" \n",
    "- \"Would this represent addition or multiplication over time?\"  \n",
    "\n",
    " \n",
    "\n",
    "4. Interactive Wrap-Up  \n",
    "\"Before we end, use your favorite math operation to describe how you feel today. Examples:  \n",
    "- ‘I’m a fraction because I’m only at half energy.’  \n",
    "- ‘I’m an exponent because my confidence is growing fast!’  \n",
    "\n",
    "(Discuss responses and highlight how math connects to emotions and real life.)*  \n",
    "\n",
    "  \n",
    "\n",
    "Visual Aids:  \n",
    "- Whiteboard: Track student metaphors and graph descriptions.  \n",
    "- PPT Slides: Compare graphs of different operations (e.g., linear vs. exponential).  \n",
    "- Graph Cards: Give pairs of students graphs to describe (e.g., a fluctuating sine wave vs. a steady line).  \n",
    "\n",
    " \n",
    "\n",
    "Why This Works:  \n",
    "- Engagement: Math metaphors make the lesson personal and memorable.  \n",
    "- Language Practice: Students use terms like \"slope,\" \"peak,\" or \"steep increase\" in context.  \n",
    "- Critical Thinking: Linking symbols to graphs reinforces conceptual understanding.  \n",
    "\n",
    "Pro Tip: For advanced students, ask them to sketch a graph that represents their week!  \n",
    "\n",
    "\n",
    "\n",
    "Let me know if you’d like to add a warm-up exercise (e.g., a quick \"Operation Charades\" game) or exit tickets (e.g., \"Draw a graph of your learning today\")!  \n",
    "\n",
    "Would you like the PPT template to match this lesson? "
   ]
  },
  {
   "cell_type": "markdown",
   "id": "80bd2c96",
   "metadata": {},
   "source": [
    " \n",
    "  - Repaso rápido de números (0-100) y símbolos matemáticos (+, −, ×, ÷, =) con flashcards .  \n"
   ]
  },
  {
   "cell_type": "markdown",
   "id": "838bcead",
   "metadata": {},
   "source": [
    "\n",
    "#### **2. Vocabulario STEM (20 min)**  \n",
    "- **Contenido**:  \n",
    "  - **Operaciones básicas**:  \n",
    "    - *Sum (add), subtract, multiply, divide, equals, solve, calculate* .  \n",
    "    - Frases útiles: *\"The sum of 5 and 3 is 8\"*, *\"Divide 10 by 2\"*.  \n",
    "  - **Formas geométricas**: *Square, circle, triangle, angle*.  \n",
    "- **Práctica interactiva**:  \n",
    "  - Juego *\"Math Charades\"*: Un profesor actúa una operación/formas (sin hablar), los demás adivinan en inglés.  \n",
    "\n",
    "#### **3. Gramática en Contexto (20 min)**  \n",
    "- **Presente simple para describir gráficos**:  \n",
    "  - Estructuras: *\"The line goes up/down\"*, *\"The numbers increase/decrease\"* .  \n",
    "  - **Ejercicio**: Describir un gráfico de barras simple (ej: notas de estudiantes) usando 3 oraciones.  \n",
    "- **Instrucciones de aula**:  \n",
    "  - *\"Open your books to page...\", \"Work in pairs\", \"Check your answers\"*.  \n",
    "\n",
    "#### **4. Práctica Integrada (10 min)**  \n",
    "- **Traducción de problemas**:  \n",
    "  - En grupos, traducen enunciados del español al inglés (ej: *\"Encuentra el valor de x si 2x + 3 = 7\"* → *\"Find the value of x if...\"*).  \n",
    "- **Tarea grabada**:  \n",
    "  - Cada profesor graba un audio explicando un problema matemático sencillo (ej: área de un cuadrado) usando el vocabulario aprendido.  \n",
    "\n",
    "---\n",
    "\n",
    "### **Recursos y Materiales**  \n",
    "- **Videos**: *\"Math Vocabulary in English\"* (canal *American English*) .  \n",
    "- **Herramientas digitales**:  \n",
    "  - *Quizlet* (set de flashcards: \"Basic Math Terms\").  \n",
    "  - Gráficos descargables de *Khan Academy* para prácticas .  \n",
    "\n",
    "---\n",
    "\n",
    "### **Tarea para la Siguiente Clase**  \n",
    "1. **Escritura**: Redactar 5 instrucciones para una clase de matemáticas en inglés (ej: *\"Draw a right triangle\"*).  \n",
    "2. **Listening**: Ver el video *\"How to Describe Trends in Graphs\"* (enlace proporcionado) y tomar notas.  \n",
    "\n",
    "---\n",
    "\n",
    "### **Evaluación Formativa**  \n",
    "- **Rúbrica**:  \n",
    "  - **Vocabulario**: Uso preciso de 10 términos matemáticos.  \n",
    "  - **Gramática**: Correcta aplicación del presente simple en descripciones.  \n",
    "  - **Fluidez**: Claridad en la grabación de audio.  \n",
    "\n",
    "---\n",
    "\n",
    "### **Notas Pedagógicas**  \n",
    "- **Diferenciación**: Para profesores con mayor dominio, añadir términos avanzados como *fraction* o *decimal*.  \n",
    "- **Enfoque CLIL**: Relacionar cada actividad con ejemplos reales de clases de matemáticas (ej: gráficos de progreso estudiantil).  \n",
    "\n",
    "Este diseño asegura que los profesores apliquen el inglés directamente en su contexto laboral, reforzando tanto el idioma como su didáctica STEM. **¿Necesitas ajustar algún elemento para adaptarlo a tu grupo?**"
   ]
  },
  {
   "cell_type": "markdown",
   "id": "18471e1b",
   "metadata": {},
   "source": []
  },
  {
   "cell_type": "markdown",
   "id": "7780eeca",
   "metadata": {},
   "source": []
  },
  {
   "cell_type": "markdown",
   "id": "239427f7",
   "metadata": {},
   "source": [
    "# Calendario académico periodo académico del año 2025, así:  \n",
    "\n"
   ]
  },
  {
   "cell_type": "markdown",
   "id": "8ba64aed",
   "metadata": {},
   "source": [
    "# Cursos que orienta el profesor Marco Julio Cañas Campillo en 2025  \n",
    "\n",
    "1. Práctica Pedagógica V para Licenciatura en Educación Infantil\n",
    "2. Fundamentos de Lógica para Licenciatura en Matemáticas \n",
    "3. Análisis Numérico para Licenciatura en Matemáticas. \n",
    "4. Cálculo Vectorial para Ingeniería Agropecuaria"
   ]
  },
  {
   "cell_type": "markdown",
   "id": "8d41fe58",
   "metadata": {
    "slideshow": {
     "slide_type": "slide"
    }
   },
   "source": [
    "# Horario de clases del profesor Marco\n",
    "\n",
    "* Lunes 8-12: Cálculo Vectorial\n",
    "* Martes 8-12 M: Fundamentos de Aritmética. \n",
    "* Miércoles 8 a 12 M: Fundamentos de la Lógica\n",
    "* Jueves 2 a 6 PM: Desarrollo del pensamiento matemático en la infancia. \n",
    "* Viernes 8 - 12 M: Desarrollo del pensamiento matemático en la infancia. \n",
    "* Sábados 8-12 Asesorías y espacio para retroalimentación y apoyo al trabajo independiente. "
   ]
  },
  {
   "cell_type": "markdown",
   "id": "ae114e14",
   "metadata": {
    "slideshow": {
     "slide_type": "slide"
    }
   },
   "source": [
    "# Horarios de monitoría y asesoría  \n",
    "\n",
    "Coordinador de los cursos de la Facultad de Educación para regiones:    \n",
    "\n",
    "Andrés Vélez: regioneducacion.fedu@udea.edu.co  \n",
    "Coordinador Regiones  \n",
    "Facultad de Educación  \n",
    "Universidad de Antioquia  "
   ]
  },
  {
   "cell_type": "markdown",
   "id": "b1db4b6c",
   "metadata": {
    "slideshow": {
     "slide_type": "slide"
    }
   },
   "source": [
    "## Monitores  \n",
    "* Manuel San Juan Serrano: Contactar escribiendo al correo: manuel.serrano1@udea.edu.co\n",
    "* Yaifry Uribe: yeifry.uribe@udea.edu.co"
   ]
  },
  {
   "cell_type": "markdown",
   "id": "39559692",
   "metadata": {
    "slideshow": {
     "slide_type": "slide"
    }
   },
   "source": [
    "Martes y jueves de 8 - 12  \n",
    "Miércoles 10 - 12 y de 2 a 4 PM  \n",
    "Sábado: 8 - 12"
   ]
  },
  {
   "cell_type": "markdown",
   "id": "10bce0d0",
   "metadata": {
    "slideshow": {
     "slide_type": "slide"
    }
   },
   "source": [
    "## Referentes "
   ]
  },
  {
   "cell_type": "markdown",
   "id": "1db3c468",
   "metadata": {
    "slideshow": {
     "slide_type": "slide"
    }
   },
   "source": [
    "* [Cómo enseñar matemáticas con calculadora Casio LA991 cw](chrome-extension://efaidnbmnnnibpcajpcglclefindmkaj/https://bibliotecadigital.udea.edu.co/bitstream/10495/32857/4/ParraZapata_2024_DesarrolloPensamientoMatematico2aed_versionweb.pdf)  \n",
    "\n",
    "* [CALCULO I DE UNA VARIABLE Ron Larson-Bruce Edwards. Mc Graw Hill. 9º Edición](https://www.academia.edu/42139251/CALCULO_I_DE_UNA_VARIABLE_Ron_Larson_Bruce_Edwards_Mc_Graw_Hill_9o_Edici%C3%B3n)   \n",
    "  \n",
    "\n",
    "* [Grajales Vanegas, L. M., Restrepo Estrada, C. E., Restrepo Ochoa, S. I., & Ruíz De Villalba, F. (2015). Matemáticas I para las ciencias económicas.](https://bibliotecadigital.udea.edu.co/handle/10495/3010)\n",
    "  \n",
    "* R. Duval y Semiosis y pensamiento humano, 2.ª ed. Cali, Colombia: Programa Editorial Universidad del Valle, 2017. [En línea]. Disponible en: https://programaeditorial.univalle.edu.co/gpd-semiosis-y-pensamiento-humano-9789587655278-63324cdb0f6b3.html\n",
    "\n",
    "* [Aylwin, C. U. (2011). Lógica, conjuntos y números. Universidad de los Andes, Consejo de Publicaciones, Colección: Ciencias Básicas, Serie: Matemáticas.](chrome-extension://efaidnbmnnnibpcajpcglclefindmkaj/https://www.u-cursos.cl/ciencias/2011/1/MC110/1/material_docente/bajar?id_material=574722)\n",
    "  \n",
    "* [Recomendación de la UNESCO sobre ciencia abierta](https://unesdoc.unesco.org/ark:/48223/pf0000379949_spa)\n",
    "\n",
    "* [chatGPT](https://openai.com/blog/chatgpt)  \n",
    "* \n",
    "\n",
    "* [Géron, A. (2017). Hands-on machine learning with scikit-learn and tensorflow: Concepts. Tools, and Techniques to build intelligent systems.](chrome-extension://efaidnbmnnnibpcajpcglclefindmkaj/http://14.139.161.31/OddSem-0822-1122/Hands-On_Machine_Learning_with_Scikit-Learn-Keras-and-TensorFlow-2nd-Edition-Aurelien-Geron.pdf)   \n"
   ]
  },
  {
   "cell_type": "markdown",
   "id": "df925560",
   "metadata": {},
   "source": [
    "\n",
    "* [McKinney, W. (2012). Python for data analysis: Data wrangling with Pandas, NumPy, and IPython. \" O'Reilly Media, Inc.\".](https://wesmckinney.com/book/) "
   ]
  },
  {
   "cell_type": "markdown",
   "id": "8e65d6f9",
   "metadata": {},
   "source": [
    "# Como estudiante, encuentro que...   \n",
    "\n",
    "F: Mis Fortalezas son:     \n",
    "O: Mis Oportunidades son:    \n",
    "D: Mis Debilidades son:    \n",
    "A: Lo que Amenazas mi aprendizaje es:  "
   ]
  },
  {
   "cell_type": "markdown",
   "id": "6b9e56a8",
   "metadata": {
    "slideshow": {
     "slide_type": "slide"
    }
   },
   "source": [
    "### [Evaluamos al profesor Marco Cañas Aquí](https://forms.office.com/Pages/ResponsePage.aspx?id=IefhmYRxjkmK_7KtTlPBwkanXIs1i1FEujpsZgO6dXpUREJPV1kxUk1JV1ozTFJIQVNIQjY5WEY3US4u)"
   ]
  },
  {
   "cell_type": "markdown",
   "id": "10f43536",
   "metadata": {
    "slideshow": {
     "slide_type": "slide"
    }
   },
   "source": [
    "### Continue su aprendizaje en la siguiente clase a través del siguiente [vínculo]()"
   ]
  },
  {
   "cell_type": "markdown",
   "id": "53cc9115",
   "metadata": {
    "slideshow": {
     "slide_type": "slide"
    }
   },
   "source": [
    "## Agradecimientos  \n",
    "\n",
    "Doy gracias a Dios por la vida de mi Hijo Joseph Cañas Osorio y la madurez que ha alcanzado. Este hijo me enorgullece y me hace falta abrazarlo cada día. \n",
    "\n",
    "Y a mi esposa Yasmira Emperatriz Barboza Mogollón por su apoyo, orientación y acompañamiento. "
   ]
  },
  {
   "cell_type": "markdown",
   "id": "b6ba1c23",
   "metadata": {},
   "source": [
    "# Apéndice sobre calendarios y coordinaciones \n",
    "\n",
    "A continuación le envío el horario de la asignatura Cálculo Vectorial  \n",
    "\n",
    "Días:  \n",
    "Lunes - Hora: 7:00 a 12:00M  \n",
    "Fechas:  \n",
    "Febrero: 10-17-24                                          \n",
    " Marzo: 3-10-17-31                                                  \n",
    "Abril:7-21-28                                                   \n",
    "Mayo:5-12-19  \n",
    "\n",
    "Agradezco su apoyo, y si presenta alguna dificultad puede contactarme.  \n",
    "\n",
    "Cordialmente,  \n",
    "Juan Felipe Rivera Hernández  \n",
    "Contacto: 3106314300  "
   ]
  },
  {
   "cell_type": "markdown",
   "id": "0e66cd7c",
   "metadata": {},
   "source": [
    "# Clase de análisis numérico los Martes de 8 a 12 del medio día. "
   ]
  },
  {
   "cell_type": "markdown",
   "id": "c5ff61b1",
   "metadata": {},
   "source": []
  }
 ],
 "metadata": {
  "celltoolbar": "Slideshow",
  "kernelspec": {
   "display_name": ".venv",
   "language": "python",
   "name": "python3"
  },
  "language_info": {
   "codemirror_mode": {
    "name": "ipython",
    "version": 3
   },
   "file_extension": ".py",
   "mimetype": "text/x-python",
   "name": "python",
   "nbconvert_exporter": "python",
   "pygments_lexer": "ipython3",
   "version": "3.13.5"
  },
  "rise": {
   "enable_chalkboard": true,
   "theme": "sky",
   "transition": "zoom"
  }
 },
 "nbformat": 4,
 "nbformat_minor": 5
}
