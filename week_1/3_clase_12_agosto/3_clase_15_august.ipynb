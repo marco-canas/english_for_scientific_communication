{
 "cells": [
  {
   "cell_type": "markdown",
   "id": "dc06dec7",
   "metadata": {
    "slideshow": {
     "slide_type": "slide"
    }
   },
   "source": [
    "<table align=\"left\">\n",
    "  <td>\n",
    "    <a href=\"https://colab.research.google.com/github/ageron/handson-ml3/blob/main/tools_numpy.ipynb\" target=\"_parent\"><img src=\"https://colab.research.google.com/assets/colab-badge.svg\" alt=\"Open In Colab\"/></a>\n",
    "  </td>\n",
    "  <td>\n",
    "    <a target=\"_blank\" href=\"https://kaggle.com/kernels/welcome?src=https://github.com/ageron/handson-ml3/blob/main/tools_numpy.ipynb\"><img src=\"https://kaggle.com/static/images/open-in-kaggle.svg\" /></a>\n",
    "  </td>\n",
    "</table>"
   ]
  },
  {
   "cell_type": "markdown",
   "id": "e0c5b198",
   "metadata": {
    "slideshow": {
     "slide_type": "slide"
    }
   },
   "source": [
    "### [Video de apoyo a la lectura interactiva y experimental de este cuaderno]()"
   ]
  },
  {
   "cell_type": "markdown",
   "id": "41e82203",
   "metadata": {
    "slideshow": {
     "slide_type": "slide"
    }
   },
   "source": [
    "### [Vínculo al programa del curso:  ]()\n",
    "\n"
   ]
  },
  {
   "cell_type": "markdown",
   "id": "d11ab06d",
   "metadata": {
    "slideshow": {
     "slide_type": "slide"
    }
   },
   "source": [
    "Un reconocimiento a mis estudiantes que han construido conmigo este saber pedagógico:\n",
    "\n",
    "<img src = ''> \n",
    "\n"
   ]
  },
  {
   "cell_type": "code",
   "execution_count": 3,
   "id": "6cb89c0b",
   "metadata": {},
   "outputs": [
    {
     "data": {
      "application/vnd.microsoft.datawrangler.viewer.v0+json": {
       "columns": [
        {
         "name": "index",
         "rawType": "int64",
         "type": "integer"
        },
        {
         "name": "Nombre",
         "rawType": "object",
         "type": "string"
        },
        {
         "name": "Calificacion_1",
         "rawType": "float64",
         "type": "float"
        }
       ],
       "ref": "cf0ed8b3-0f8f-4d41-9289-6fc31e5f2251",
       "rows": [
        [
         "1",
         "Marco Julio Cañas Campillo",
         null
        ]
       ],
       "shape": {
        "columns": 2,
        "rows": 1
       }
      },
      "text/html": [
       "<div>\n",
       "<style scoped>\n",
       "    .dataframe tbody tr th:only-of-type {\n",
       "        vertical-align: middle;\n",
       "    }\n",
       "\n",
       "    .dataframe tbody tr th {\n",
       "        vertical-align: top;\n",
       "    }\n",
       "\n",
       "    .dataframe thead th {\n",
       "        text-align: right;\n",
       "    }\n",
       "</style>\n",
       "<table border=\"1\" class=\"dataframe\">\n",
       "  <thead>\n",
       "    <tr style=\"text-align: right;\">\n",
       "      <th></th>\n",
       "      <th>Nombre</th>\n",
       "      <th>Calificacion_1</th>\n",
       "    </tr>\n",
       "  </thead>\n",
       "  <tbody>\n",
       "    <tr>\n",
       "      <th>1</th>\n",
       "      <td>Marco Julio Cañas Campillo</td>\n",
       "      <td>NaN</td>\n",
       "    </tr>\n",
       "  </tbody>\n",
       "</table>\n",
       "</div>"
      ],
      "text/plain": [
       "                       Nombre  Calificacion_1\n",
       "1  Marco Julio Cañas Campillo             NaN"
      ]
     },
     "execution_count": 3,
     "metadata": {},
     "output_type": "execute_result"
    }
   ],
   "source": [
    "import pandas as pd\n",
    "import numpy as np\n",
    "\n",
    "# Cargar la lista de estudiantes desde el archivo CSV\n",
    "path = 'C:/Users/marco/Documentos/docencia/groups_list/english.xlsx' \n",
    "df = pd.read_excel(path)\n",
    "df.index = range(1, len(df) + 1)\n",
    "df.head() "
   ]
  },
  {
   "cell_type": "markdown",
   "id": "d7598d0a-d9b7-4ae0-b029-a0ed6ed1130b",
   "metadata": {},
   "source": [
    "\n",
    "# Principios de mi labor docente"
   ]
  },
  {
   "cell_type": "markdown",
   "id": "4f9d8cf9",
   "metadata": {
    "slideshow": {
     "slide_type": "slide"
    }
   },
   "source": [
    "## Modelo general de clase: [aula invertida](https://www3.gobiernodecanarias.org/medusa/ecoescuela/pedagotic/aprendizaje-invertido-flipped-classroom/)"
   ]
  },
  {
   "cell_type": "markdown",
   "id": "eb6ed03a",
   "metadata": {},
   "source": [
    "<img src = 'https://resources.maneuveringthemiddle.com/wp-content/uploads/2020/07/04212706/1-5.png' width = 200>  \n",
    "\n"
   ]
  },
  {
   "cell_type": "markdown",
   "id": "34319cce-a71b-4f64-aab8-b53e521efa40",
   "metadata": {},
   "source": [
    "# Metodología de enseñanza que busca el Aprendizaje Basada en Problemas y Proyectos (ABPP)\n"
   ]
  },
  {
   "cell_type": "markdown",
   "id": "c4f73d81",
   "metadata": {},
   "source": [
    "\n",
    "<img src = 'https://www.unir.net/wp-content/uploads/2020/07/aprendizaje-problemas2-1-1-1-1.jpeg' width = 200>"
   ]
  },
  {
   "cell_type": "markdown",
   "id": "841a985c-bd9b-4dd3-8e4c-893983980af2",
   "metadata": {},
   "source": [
    "# Desarrollo del pensamiento computacional con Lenguajes Python, R y,  con archivos R Markdown orientado a la formación en ciencia de datos \n",
    "\n"
   ]
  },
  {
   "cell_type": "markdown",
   "id": "3d0eba94",
   "metadata": {},
   "source": [
    "\n",
    "<img src = 'https://i.ytimg.com/vi/mcG_wcR4e6M/maxresdefault.jpg' width = 200>"
   ]
  },
  {
   "cell_type": "markdown",
   "id": "65aa0404-f7ae-495e-864c-1aec01b4255e",
   "metadata": {},
   "source": [
    "# Principio de fomento a la ciencia abierta, enseñar en el acceso a los datos públicos y el uso de software de código abierto  \n"
   ]
  },
  {
   "cell_type": "markdown",
   "id": "18ae9b87",
   "metadata": {},
   "source": [
    "\n",
    "<img src = 'https://unesdoc.unesco.org/in/rest/Thumb/image?id=p%3A%3Ausmarcdef_0000379949_spa&author=UNESCO&title=Recomendaci%C3%B3n+de+la+UNESCO+sobre+la+Ciencia+Abierta&year=2021&publisher=UNESCO&TypeOfDocument=UnescoPhysicalDocument&mat=PGD&ct=true&size=512&isPhysical=1' width = 200>"
   ]
  },
  {
   "cell_type": "markdown",
   "id": "d9559f85",
   "metadata": {},
   "source": [
    "El enfoque STEAMS en educación preescolar, primaria y secundaria es una extensión del enfoque STEM (Ciencia, Tecnología, Ingeniería y Matemáticas) y su variante STEAM, que incorpora el Arte. "
   ]
  },
  {
   "cell_type": "code",
   "execution_count": null,
   "id": "81235e9f",
   "metadata": {},
   "outputs": [],
   "source": [
    "path_image = r'C:/Users/marco/Downloads'\n",
    "def save_fig(nombre_archivo_imagen):\n",
    "    import os \n",
    "    import matplotlib.pyplot as plt \n",
    "    imagen_path = os.path.join(path_image, nombre_archivo_imagen)\n",
    "    plt.savefig(imagen_path, bbox_inches='tight')"
   ]
  },
  {
   "cell_type": "markdown",
   "id": "e1e2715d",
   "metadata": {},
   "source": [
    "\n",
    "### **Programa de Formación en Inglés para Profesores de Matemáticas (A1 → B2)**\n",
    "**Duración:** 9-12 meses (1 hora diaria)  (Iniciando el curso el 29 de Junio de 2025)\n",
    "**Metodología:** CLIL + Inglés para Fines Específicos (STEM)  \n",
    "**Objetivos:**  \n",
    "- Dominar el lenguaje técnico matemático en inglés (ej: \"polynomial\", \"derivative\", \"proof by induction\") .  \n",
    "- Preparar clases bilingües con vocabulario científico y estructuras académicas (ej: explicar teoremas, redactar problemas).  \n",
    "- Desarrollar habilidades para publicar o presentar investigaciones en inglés .  \n",
    "\n",
    "---\n",
    "\n",
    "### **Fases del Programa**  \n",
    "#### **1. Nivel A1-A2 (Meses 1-3): Fundamentos + Vocabulario Básico**  \n",
    "- **Contenidos:**  \n",
    "  - Gramática: Presente simple, verbos modales (can/must), comparativos.  \n",
    "  - Vocabulario STEM: Números, operaciones básicas (sum, product, equation), formas geométricas .  \n",
    "  - Prácticas:  \n",
    "    - Describir gráficos simples en inglés (ej: \"The line increases steadily\").  \n",
    "    - Traducir enunciados de problemas matemáticos básicos .  \n",
    "- **Recursos:**  \n",
    "  - Curso A1/A2 de EF English Live (certificado) .  \n",
    "  - Videos del canal *American English* (ej: \"Math Vocabulary in English\") .  \n",
    "\n",
    "#### **2. Nivel B1 (Meses 4-6): Comunicación Científica**  \n",
    "- **Contenidos:**  \n",
    "  - Gramática: Pasado simple/presente perfecto (para explicar historias de conceptos matemáticos), voz pasiva (ej: \"The theorem was proven by...\").  \n",
    "  - Vocabulario: Términos avanzados (ej: \"algorithm\", \"hypotenuse\"), frases para debates (ej: \"Let’s verify this hypothesis\") .  \n",
    "  - Prácticas:  \n",
    "    - Simular clases en inglés (ej: explicar el Teorema de Pitágoras).  \n",
    "    - Redactar resúmenes de artículos de matemáticas en inglés .  \n",
    "- **Recursos:**  \n",
    "  - MOOC *Inglés para STEM* de la Universidad de Pensilvania (auditar gratis) .  \n",
    "  - Plataforma *That’s English!* (actividades interactivas B1) .  \n",
    "\n",
    "#### **3. Nivel B2 (Meses 7-9): Fluidez Académica**  \n",
    "- **Contenidos:**  \n",
    "  - Gramática: Condicionales (ej: \"If we apply this formula, the result will be...\"), discurso indirecto.  \n",
    "  - Vocabulario: Abstracto (ej: \"conjecture\", \"quantitative analysis\"), conectores académicos (however, therefore) .  \n",
    "  - Prácticas:  \n",
    "    - Presentar ponencias ficticias en inglés (ej: \"Today I’ll discuss Fibonacci sequences\").  \n",
    "    - Corregir ejercicios de estudiantes en inglés .  \n",
    "- **Recursos:**  \n",
    "  - Curso B2 de Edutin (certificable) .  \n",
    "  - *Trace Effects* (videojuego interactivo para practicar lenguaje técnico) .  \n",
    "\n",
    "---\n",
    "\n",
    "### **Actividades Diarias (1 hora)**  \n",
    "- **Lunes a Viernes:**  \n",
    "  - 20 min: Gramática/vocabulario (apps como Duolingo o plataformas ).  \n",
    "  - 20 min: Lectura/escritura científica (ej: resumir un paper de *Scientific American*).  \n",
    "  - 20 min: Práctica oral (grabar explicaciones de temas matemáticos en inglés).  \n",
    "- **Sábados:**  \n",
    "  - Ver videos de clases de matemáticas en inglés (ej: Khan Academy) y tomar notas.  \n",
    "- **Domingos:**  \n",
    "  - Revisión semanal + autoevaluación con tests de nivel .  \n",
    "\n",
    "---\n",
    "\n",
    "### **Evaluación y Certificación**  \n",
    "- **Al finalizar cada nivel:**  \n",
    "  - Certificado de EF English Live (A2), Edutin (B2), o Coursera (STEM English) .  \n",
    "  - Portafolio de evidencias: Grabaciones de clases, redacciones científicas, traducciones de problemas.  \n",
    "- **Recomendado:** Tomar el examen oficial *TOEFL* o *IELTS* para acreditar el B2 .  \n",
    "\n",
    "---\n",
    "\n",
    "### **Recursos Adicionales**  \n",
    "- **Para alumnos:** Diseñar actividades CLIL (ej: proyectos bilingües sobre geometría) usando materiales de *American English* .  \n",
    "- **Para profesores:** Curso *CLIL* de Maltalingua (para aprender a enseñar matemáticas en inglés) .  \n",
    "\n",
    "Este programa te permitirá no solo alcanzar el B2, sino también integrar el inglés en tu docencia de manera natural y efectiva, preparando a tus estudiantes para el ámbito científico global .\n"
   ]
  },
  {
   "cell_type": "markdown",
   "id": "cda1f4a6",
   "metadata": {},
   "source": [
    "\n",
    "# Clase de Inglés del 22 de Julio de 2025  "
   ]
  },
  {
   "cell_type": "markdown",
   "id": "d457bd4f",
   "metadata": {},
   "source": [
    "Here's the **class design for July 22, 2025**, tailored to your English for Math Teachers program (A1 → B2), following the CLIL and STEM-focused methodology:\n",
    "\n",
    "---\n"
   ]
  },
  {
   "cell_type": "markdown",
   "id": "3b291528",
   "metadata": {},
   "source": [
    "\n",
    "# **Class Title:** *\"Explaining Geometric Proofs in English\"*  \n"
   ]
  },
  {
   "cell_type": "markdown",
   "id": "80e6ec2d",
   "metadata": {},
   "source": [
    "**Level:** B2 (Month 8, Week 31)  \n",
    "**Duration:** 60 minutes  \n",
    "**Objective:**  \n",
    "- Use indirect speech and academic connectors to present geometric proofs.  \n",
    "- Practice correcting student work in English with precise mathematical language.  \n",
    "\n",
    "\n"
   ]
  },
  {
   "cell_type": "markdown",
   "id": "735f6875",
   "metadata": {},
   "source": [
    "\n",
    "### **Class Structure**  \n",
    "\n",
    "#### **1. Warm-up (15 min)**  \n",
    "**Activity:** *\"The Mathematician Says...\"*  \n",
    "- Students listen to a short audio clip (e.g., *\"Euler stated that every convex polyhedron follows V - E + F = 2\"*).  \n",
    "- **Task:** Rephrase 3 key quotes using indirect speech:  \n",
    "  > *\"Euler claimed that every convex polyhedron obeyed...\"*  \n",
    "**Tool:** [BBC Learning English: Reported Speech](https://www.bbc.co.uk/learningenglish)  \n"
   ]
  },
  {
   "cell_type": "markdown",
   "id": "cdcbc00e",
   "metadata": {},
   "source": [
    "\n",
    "#### **2. Core Activity (30 min)**  \n",
    "**Part A: Proof Analysis**  \n",
    "- **Material:** Excerpt from *\"Proofs from THE BOOK\"* (simplified).  \n",
    "- **Steps:**  \n",
    "  1. Read a proof (e.g., *\"Why the Angles in a Triangle Sum to 180°\"*).  \n",
    "  2. Highlight key verbs in passive voice (*\"is constructed,\" \"are drawn\"*).  \n",
    "  3. Rewrite steps using academic connectors (*\"therefore,\" \"consequently\"*).  \n",
    "\n",
    "**Part B: Peer Correction**  \n",
    "- **Task:** Exchange mock student answers (with intentional errors) and correct them in English:  \n",
    "  > *\"The student incorrectly assumed that all quadrilaterals have equal angles. However, this only applies to squares.\"*  \n",
    "\n",
    "#### **3. Application (15 min)**  \n",
    "**Activity:** *\"Live Proof Presentation\"*  \n",
    "- Each participant explains a geometric proof (e.g., Pythagorean Theorem) in 2 minutes, focusing on:  \n",
    "  - Indirect speech (*\"As Euclid demonstrated...\"*).  \n",
    "  - Connectors (*\"hence,\" \"moreover\"*).  \n",
    "- **Peer feedback rubric:** Clarity (3 pts), Accuracy (3 pts), Fluency (2 pts).  \n",
    "\n",
    "---\n"
   ]
  },
  {
   "cell_type": "markdown",
   "id": "931a21b2",
   "metadata": {},
   "source": [
    "\n",
    "### **📌 Homework**  \n",
    "1. **Writing:** Correct 3 \"student answers\" from [Khan Academy Geometry Exercises](https://www.khanacademy.org/math/geometry).  \n",
    "2. **Listening:** Watch [Numberphile: \"The Golden Ratio\"](https://youtu.be/sj8Sg8qnjOg) and note 5 passive voice sentences.  \n",
    "\n",
    "---\n"
   ]
  },
  {
   "cell_type": "markdown",
   "id": "cad51e6f",
   "metadata": {},
   "source": [
    "\n",
    "### **🎯 Assessment**  \n",
    "- **Exit Ticket:** Submit one rewritten proof step using indirect speech (e.g., *\"Archimedes argued that...*\").  \n",
    "- **Success Criteria:**  \n",
    "  - B2 Grammar: Uses ≥3 passive constructions and 2 academic connectors correctly.  \n",
    "  - STEM Vocabulary: Accurately employs ≥5 terms (e.g., *\"congruent,\" \"QED\"*).  \n",
    "\n",
    "---\n",
    "\n",
    "### **💡 Teacher's Notes**  \n",
    "- **Scaffolding:** Provide sentence starters for lower levels:  \n",
    "  > *\"The author suggested that _____ because _____.\"*  \n",
    "- **Tech Tip:** Use [Padlet](https://padlet.com) for collaborative proof corrections.  \n",
    "- **CLIL Focus:** Link to math standards (e.g., Common Core HSG-CO.C.9 for proofs).  \n",
    "\n",
    "This class aligns with your program’s **Phase 3** goals, bridging abstract mathematical language and fluent communication. Let me know if you'd like to adapt it for hybrid teaching!  \n",
    "\n",
    "*Optional extension:* For A1/A2 teachers, simplify by focusing on shape properties (*\"A rhombus has four equal sides\"*) using [Math is Fun visuals](https://www.mathsisfun.com/geometry/).\n"
   ]
  },
  {
   "cell_type": "markdown",
   "id": "239427f7",
   "metadata": {},
   "source": [
    "# Calendario académico:  \n",
    "\n"
   ]
  },
  {
   "cell_type": "markdown",
   "id": "8ba64aed",
   "metadata": {},
   "source": [
    "# Cursos que orienta el profesor Marco Julio Cañas Campillo en 2025  \n",
    "\n",
    "1. Práctica Pedagógica V para Licenciatura en Educación Infantil\n",
    "2. Fundamentos de Lógica para Licenciatura en Matemáticas \n",
    "3. Análisis Numérico para Licenciatura en Matemáticas. \n",
    "4. Cálculo Vectorial para Ingeniería Agropecuaria"
   ]
  },
  {
   "cell_type": "markdown",
   "id": "8d41fe58",
   "metadata": {
    "slideshow": {
     "slide_type": "slide"
    }
   },
   "source": [
    "# Horario de clases del profesor Marco\n",
    "\n",
    "* Lunes 8-12: Cálculo Vectorial\n",
    "* Martes 8-12 M: Fundamentos de Aritmética. \n",
    "* Miércoles 8 a 12 M: Fundamentos de la Lógica\n",
    "* Jueves 2 a 6 PM: Desarrollo del pensamiento matemático en la infancia. \n",
    "* Viernes 8 - 12 M: Fundamentos de Lógica\n",
    "* Sábados 8-12 Asesorías y espacio para retroalimentación y apoyo al trabajo independiente. "
   ]
  },
  {
   "cell_type": "markdown",
   "id": "ae114e14",
   "metadata": {
    "slideshow": {
     "slide_type": "slide"
    }
   },
   "source": [
    "# Horarios de monitoría y asesoría  \n",
    "\n",
    "Coordinador de los cursos de la Facultad de Educación para regiones:    \n",
    "\n",
    "Andrés Vélez: regioneducacion.fedu@udea.edu.co  \n",
    "Coordinador Regiones  \n",
    "Facultad de Educación  \n",
    "Universidad de Antioquia  "
   ]
  },
  {
   "cell_type": "markdown",
   "id": "b1db4b6c",
   "metadata": {
    "slideshow": {
     "slide_type": "slide"
    }
   },
   "source": [
    "## Monitores  \n",
    "* Manuel San Juan Serrano: Contactar escribiendo al correo: manuel.serrano1@udea.edu.co\n",
    "* Yaifry Uribe: yeifry.uribe@udea.edu.co"
   ]
  },
  {
   "cell_type": "markdown",
   "id": "39559692",
   "metadata": {
    "slideshow": {
     "slide_type": "slide"
    }
   },
   "source": [
    "Martes y jueves de 8 - 12  \n",
    "Miércoles 10 - 12 y de 2 a 4 PM  \n",
    "Sábado: 8 - 12"
   ]
  },
  {
   "cell_type": "markdown",
   "id": "10bce0d0",
   "metadata": {
    "slideshow": {
     "slide_type": "slide"
    }
   },
   "source": [
    "## Referentes "
   ]
  },
  {
   "cell_type": "markdown",
   "id": "1db3c468",
   "metadata": {
    "slideshow": {
     "slide_type": "slide"
    }
   },
   "source": [
    "* [Cómo enseñar matemáticas con calculadora Casio LA991 cw](chrome-extension://efaidnbmnnnibpcajpcglclefindmkaj/https://bibliotecadigital.udea.edu.co/bitstream/10495/32857/4/ParraZapata_2024_DesarrolloPensamientoMatematico2aed_versionweb.pdf)  \n",
    "\n",
    "* [CALCULO I DE UNA VARIABLE Ron Larson-Bruce Edwards. Mc Graw Hill. 9º Edición](https://www.academia.edu/42139251/CALCULO_I_DE_UNA_VARIABLE_Ron_Larson_Bruce_Edwards_Mc_Graw_Hill_9o_Edici%C3%B3n)   \n",
    "  \n",
    "\n",
    "* [Grajales Vanegas, L. M., Restrepo Estrada, C. E., Restrepo Ochoa, S. I., & Ruíz De Villalba, F. (2015). Matemáticas I para las ciencias económicas.](https://bibliotecadigital.udea.edu.co/handle/10495/3010)\n",
    "  \n",
    "* R. Duval y Semiosis y pensamiento humano, 2.ª ed. Cali, Colombia: Programa Editorial Universidad del Valle, 2017. [En línea]. Disponible en: https://programaeditorial.univalle.edu.co/gpd-semiosis-y-pensamiento-humano-9789587655278-63324cdb0f6b3.html\n",
    "\n",
    "* [Aylwin, C. U. (2011). Lógica, conjuntos y números. Universidad de los Andes, Consejo de Publicaciones, Colección: Ciencias Básicas, Serie: Matemáticas.](chrome-extension://efaidnbmnnnibpcajpcglclefindmkaj/https://www.u-cursos.cl/ciencias/2011/1/MC110/1/material_docente/bajar?id_material=574722)\n",
    "  \n",
    "* [Recomendación de la UNESCO sobre ciencia abierta](https://unesdoc.unesco.org/ark:/48223/pf0000379949_spa)\n",
    "\n",
    "* [chatGPT](https://openai.com/blog/chatgpt)  \n",
    "* \n",
    "\n",
    "* [Géron, A. (2017). Hands-on machine learning with scikit-learn and tensorflow: Concepts. Tools, and Techniques to build intelligent systems.](chrome-extension://efaidnbmnnnibpcajpcglclefindmkaj/http://14.139.161.31/OddSem-0822-1122/Hands-On_Machine_Learning_with_Scikit-Learn-Keras-and-TensorFlow-2nd-Edition-Aurelien-Geron.pdf)   \n"
   ]
  },
  {
   "cell_type": "markdown",
   "id": "df925560",
   "metadata": {},
   "source": [
    "\n",
    "* [McKinney, W. (2012). Python for data analysis: Data wrangling with Pandas, NumPy, and IPython. \" O'Reilly Media, Inc.\".](https://wesmckinney.com/book/) "
   ]
  },
  {
   "cell_type": "markdown",
   "id": "8e65d6f9",
   "metadata": {},
   "source": [
    "# Como estudiante, encuentro que...   \n",
    "\n",
    "F: Mis Fortalezas son:     \n",
    "O: Mis Oportunidades son:    \n",
    "D: Mis Debilidades son:    \n",
    "A: Lo que Amenazas mi aprendizaje es:  "
   ]
  },
  {
   "cell_type": "markdown",
   "id": "6b9e56a8",
   "metadata": {
    "slideshow": {
     "slide_type": "slide"
    }
   },
   "source": [
    "### [Evaluamos al profesor Marco Cañas Aquí](https://forms.office.com/Pages/ResponsePage.aspx?id=IefhmYRxjkmK_7KtTlPBwkanXIs1i1FEujpsZgO6dXpUREJPV1kxUk1JV1ozTFJIQVNIQjY5WEY3US4u)"
   ]
  },
  {
   "cell_type": "markdown",
   "id": "10f43536",
   "metadata": {
    "slideshow": {
     "slide_type": "slide"
    }
   },
   "source": [
    "### Continue su aprendizaje en la siguiente clase a través del siguiente [vínculo]()"
   ]
  },
  {
   "cell_type": "markdown",
   "id": "53cc9115",
   "metadata": {
    "slideshow": {
     "slide_type": "slide"
    }
   },
   "source": [
    "## Agradecimientos  \n",
    "\n",
    "Doy gracias a Dios por la vida de mi Hijo Joseph Cañas Osorio y la madurez que ha alcanzado. Este hijo me enorgullece y me hace falta abrazarlo cada día. \n",
    "\n",
    "Y a mi esposa Yasmira Emperatriz Barboza Mogollón por su apoyo, orientación y acompañamiento. "
   ]
  }
 ],
 "metadata": {
  "celltoolbar": "Slideshow",
  "kernelspec": {
   "display_name": ".venv",
   "language": "python",
   "name": "python3"
  },
  "language_info": {
   "codemirror_mode": {
    "name": "ipython",
    "version": 3
   },
   "file_extension": ".py",
   "mimetype": "text/x-python",
   "name": "python",
   "nbconvert_exporter": "python",
   "pygments_lexer": "ipython3",
   "version": "3.13.5"
  },
  "rise": {
   "enable_chalkboard": true,
   "theme": "sky",
   "transition": "zoom"
  }
 },
 "nbformat": 4,
 "nbformat_minor": 5
}
