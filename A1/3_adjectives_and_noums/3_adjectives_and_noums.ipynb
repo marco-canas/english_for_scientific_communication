{
 "cells": [
  {
   "cell_type": "markdown",
   "metadata": {},
   "source": [
    "<table align=\"left\">\n",
    "  <td>\n",
    "    <a href=\"https://colab.research.google.com/github/marco-canas/4_didactica_aritmetica/blob/main/modelo_general_clase_aula_invertida.ipynb\" target=\"_parent\"><img src=\"https://colab.research.google.com/assets/colab-badge.svg\" alt=\"Open In Colab\"/></a>\n",
    "  </td>\n",
    "</table>"
   ]
  },
  {
   "cell_type": "markdown",
   "metadata": {},
   "source": [
    "# 3. Adjectives and noums "
   ]
  },
  {
   "cell_type": "markdown",
   "metadata": {},
   "source": [
    "Lección 6 en UDEMY"
   ]
  },
  {
   "cell_type": "markdown",
   "metadata": {},
   "source": [
    "Los adjetivos son la spalabras que describen las características de los sustantivos. Por ejemplo colores y tamaños. "
   ]
  },
  {
   "cell_type": "markdown",
   "metadata": {},
   "source": [
    "# Nouns\n",
    "\n",
    "Son los nombres de los objetos, conceptos o lugares. \n",
    "\n"
   ]
  },
  {
   "cell_type": "markdown",
   "metadata": {},
   "source": [
    "# Nouns and adjectives and their uses"
   ]
  },
  {
   "cell_type": "markdown",
   "metadata": {},
   "source": [
    "# Adjectives\n",
    "\n",
    "* awful: horrible.\n",
    "* green: verde. \n",
    "* small: pequeño.\n",
    "* big: grande. \n",
    "* amazing: "
   ]
  },
  {
   "cell_type": "markdown",
   "metadata": {},
   "source": [
    "# Nouns\n",
    "\n",
    "* Food:\n",
    "* "
   ]
  },
  {
   "cell_type": "markdown",
   "metadata": {},
   "source": [
    "# Examples of uses\n",
    "\n",
    "* The hause is big\n",
    "* "
   ]
  },
  {
   "cell_type": "markdown",
   "metadata": {},
   "source": [
    "# get me 20 exercises for practice writing in a class about adjectives and nouns"
   ]
  },
  {
   "cell_type": "markdown",
   "metadata": {},
   "source": [
    "Certainly! Here are 20 exercises for practicing writing with adjectives and nouns in a classroom setting:\n",
    "\n",
    "1. **Describe Your Favorite Food:** Write a paragraph describing your favorite dish using at least three adjectives and three nouns.\n"
   ]
  },
  {
   "cell_type": "markdown",
   "metadata": {},
   "source": [
    "\n",
    "2. **Create Character Profiles:** Invent two characters and write a paragraph describing each character using adjectives and nouns.\n"
   ]
  },
  {
   "cell_type": "markdown",
   "metadata": {},
   "source": [
    "\n",
    "3. **Describe a Dream Vacation:** Write a detailed description of your dream vacation destination, including the scenic beauty, local culture, and activities, using adjectives and nouns.\n"
   ]
  },
  {
   "cell_type": "markdown",
   "metadata": {},
   "source": [
    "\n",
    "4. **Animal Adjectives:** Choose an animal and write a paragraph describing it using adjectives to depict its appearance, behavior, and habitat. Include relevant nouns.\n",
    "\n",
    "5. **Haunted House:** Describe a haunted house using spooky adjectives and nouns to create a chilling atmosphere.\n",
    "\n",
    "6. **Nature Walk:** Write about a nature walk, using adjectives and nouns to capture the sights, sounds, and smells of the environment.\n",
    "\n",
    "7. **Invent a Fantasy Creature:** Create a fantasy creature and write a paragraph describing it using creative adjectives and nouns.\n",
    "\n",
    "8. **Describe a Historical Figure:** Pick a historical figure and write a paragraph describing their personality traits, achievements, and appearance using adjectives and nouns.\n",
    "\n",
    "9. **Personification Exercise:** Choose an inanimate object (e.g., a pen, a tree) and personify it, describing its thoughts and feelings using adjectives and nouns.\n",
    "\n",
    "10. **Describe a Favorite Book or Movie:** Write a paragraph describing your favorite book or movie using adjectives to convey the emotions and nouns to highlight key elements of the story.\n",
    "\n",
    "11. **Describe Your Ideal Home:** Write a detailed description of your ideal home, focusing on its architecture, interior design, and surroundings, using adjectives and nouns.\n",
    "\n",
    "12. **Adjective-Noun Pairing:** Create a list of 10 adjectives and 10 nouns. Randomly pair them and write sentences using the combinations.\n",
    "\n",
    "13. **Adjective Story:** Start a story with a sentence using multiple adjectives before the noun. Pass the story around the class, with each student adding a sentence following the same pattern.\n",
    "\n",
    "14. **Comparative Exercise:** Compare two objects or people using adjectives and nouns to highlight their differences and similarities.\n",
    "\n",
    "15. **Describe a Favorite Childhood Memory:** Write about a cherished childhood memory, using adjectives and nouns to evoke sensory details and emotions.\n",
    "\n",
    "16. **Travel Brochure:** Create a travel brochure for an imaginary destination, using enticing adjectives and nouns to persuade readers to visit.\n",
    "\n",
    "17. **Describe a Superhero:** Invent a superhero and describe their appearance, powers, and personality using adjectives and nouns.\n",
    "\n",
    "18. **Describe a Work of Art:** Choose a painting, sculpture, or any artwork and write a paragraph describing it in detail, using adjectives and nouns to capture its essence.\n",
    "\n",
    "19. **Restaurant Review:** Write a review of a restaurant, focusing on the ambiance, food, and service. Use adjectives and nouns to make the review vivid and engaging.\n",
    "\n",
    "20. **Letter to a Pen Pal:** Write a letter to a pen pal in another country, describing your hometown, school, and daily life, using adjectives and nouns to paint a picture of your surroundings.\n",
    "\n",
    "These exercises will help students practice using adjectives and nouns effectively in their writing, enhancing their descriptive skills."
   ]
  },
  {
   "cell_type": "code",
   "execution_count": null,
   "metadata": {},
   "outputs": [],
   "source": []
  },
  {
   "cell_type": "code",
   "execution_count": null,
   "metadata": {},
   "outputs": [],
   "source": []
  },
  {
   "cell_type": "code",
   "execution_count": null,
   "metadata": {},
   "outputs": [],
   "source": []
  },
  {
   "cell_type": "markdown",
   "metadata": {},
   "source": [
    "# El perfil de un controlador"
   ]
  },
  {
   "cell_type": "markdown",
   "metadata": {},
   "source": [
    "# El perfil de un controlador en una relación y cómo se comporta con su pareja puede variar, pero generalmente, un controlador es alguien que busca tener poder y control sobre su pareja, manipulando y ejerciendo autoridad de manera excesiva en la relación. Aquí hay algunas características comunes de un controlador y cómo puede comportarse con su pareja:\n",
    "\n",
    "**Perfil de un Controlador:**\n",
    "\n",
    "1. **Necesidad de Control:** Un controlador siente una intensa necesidad de controlar cada aspecto de la vida de su pareja, desde las decisiones cotidianas hasta las relaciones sociales.\n",
    "\n",
    "2. **Manipulación:** Utiliza tácticas manipuladoras como el chantaje emocional, la crítica constante y la intimidación para obtener lo que desea.\n",
    "\n",
    "3. **Baja Tolerancia a la Frustración:** Tiene una baja tolerancia a la frustración y reacciona de manera exagerada ante situaciones que no van de acuerdo a sus deseos.\n",
    "\n",
    "4. **Celos Excesivos:** Siente celos extremos y desconfianza hacia las amistades y actividades de su pareja, incluso cuando no hay razón para ello.\n",
    "\n",
    "5. **Falta de Empatía:** Tiende a carecer de empatía hacia los sentimientos y necesidades de su pareja, centrándose únicamente en sus propios deseos y demandas.\n",
    "\n",
    "6. **Aislamiento Social:** Puede intentar aislar a su pareja de amigos y familiares para tener un mayor control sobre su vida social.\n",
    "\n",
    "7. **Cambio de Personalidad:** A menudo muestra un comportamiento encantador y cariñoso en público, pero cambia de actitud en privado, mostrando su verdadera naturaleza controladora.\n",
    "\n",
    "**Cómo se Comporta con su Pareja:**\n",
    "\n",
    "1. **Dominación:** Un controlador buscará dominar las decisiones importantes en la relación, desde las finanzas hasta las actividades diarias.\n",
    "\n",
    "2. **Críticas Constantes:** Critica a su pareja de manera constante, socavando su confianza y autoestima.\n",
    "\n",
    "3. **Amenazas y Manipulación:** Utiliza amenazas y manipulación emocional para obtener lo que quiere, como amenazar con dejar la relación si no se cumple con sus demandas.\n",
    "\n",
    "4. **Monopolización del Tiempo:** Espera que su pareja pase la mayoría del tiempo con él/ella y se molesta si la pareja desea pasar tiempo con otros seres queridos.\n",
    "\n",
    "5. **Ignora las Necesidades de su Pareja:** Ignora o minimiza las necesidades emocionales y físicas de su pareja, centrándose solo en las propias necesidades y deseos.\n",
    "\n",
    "6. **Falta de Respeto:** Falta al respeto de su pareja, ya sea en privado o incluso públicamente, denigrándola y desvalorizándola.\n",
    "\n",
    "7. **Control Financiero:** Controla las finanzas de la relación, limitando el acceso de su pareja a los recursos económicos y creando dependencia financiera.\n",
    "\n",
    "Es importante reconocer las señales de un comportamiento controlador en una relación y buscar ayuda si te encuentras en una situación similar. Las relaciones saludables se basan en el respeto mutuo, la confianza y la comunicación abierta."
   ]
  }
 ],
 "metadata": {
  "language_info": {
   "name": "python"
  }
 },
 "nbformat": 4,
 "nbformat_minor": 2
}
