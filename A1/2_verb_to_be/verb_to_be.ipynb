{
 "cells": [
  {
   "cell_type": "markdown",
   "metadata": {},
   "source": [
    "<table align=\"left\">\n",
    "  <td>\n",
    "    <a href=\"https://colab.research.google.com/github/marco-canas/calculo/blob/main/1_modelo_general_clase_aula_invertida.ipynb\" target=\"_parent\"><img src=\"https://colab.research.google.com/assets/colab-badge.svg\" alt=\"Open In Colab\"/></a>\n",
    "  </td>\n",
    "</table>"
   ]
  },
  {
   "cell_type": "markdown",
   "metadata": {},
   "source": [
    "## [Video de repaso a la lección sobre el verbo to be]()"
   ]
  },
  {
   "cell_type": "markdown",
   "metadata": {},
   "source": [
    "# The verb to be"
   ]
  },
  {
   "cell_type": "markdown",
   "metadata": {},
   "source": [
    "## Empatía y desempeño\n",
    "\n"
   ]
  },
  {
   "cell_type": "markdown",
   "metadata": {},
   "source": [
    "Empatía y desempeño son dos virtudez que parecen completamente independientes y, en muchos sentidos, lo son. "
   ]
  },
  {
   "cell_type": "markdown",
   "metadata": {},
   "source": [
    "Sin embargo, son asombrosa y extraordinariamente interdependientes. "
   ]
  },
  {
   "cell_type": "markdown",
   "metadata": {},
   "source": [
    "Una de las mayores necesidades humanas es ser comprendido. "
   ]
  },
  {
   "cell_type": "markdown",
   "metadata": {},
   "source": [
    "Lo que el oxígene es para el cuerpo lo es la comprensión para el corazón. Esto nos da aire emocional y psicológico. "
   ]
  },
  {
   "cell_type": "code",
   "execution_count": null,
   "metadata": {},
   "outputs": [],
   "source": []
  },
  {
   "cell_type": "markdown",
   "metadata": {},
   "source": [
    "El verbo to be es un verbo irregular, es decir, no sigue las reglas de conjugación. Pero también es el verbo más importante. "
   ]
  },
  {
   "cell_type": "markdown",
   "metadata": {},
   "source": [
    "¡Claro! Aquí tienes una secuencia de actividades para aprender el verbo \"to be\" en inglés, que incluye práctica de   \n",
    "\n",
    "* escritura, \n",
    "* escucha, \n",
    "* habla y \n",
    "* lectura:\n"
   ]
  },
  {
   "cell_type": "markdown",
   "metadata": {},
   "source": [
    "\n",
    "### Actividad 1: Introducción al Verbo \"to be\"\n",
    "\n",
    "**Objetivo:** Presentar el verbo \"to be\" y su uso en afirmativas, negativas e interrogativas.\n",
    "\n",
    "1. **Escucha y Repite:**\n",
    "   - Comienza con una breve introducción oral del verbo \"to be\".\n",
    "   - Pronuncia frases afirmativas, negativas e interrogativas usando \"am,\" \"are,\" y \"is,\" (amareis) y pide a los estudiantes que repitan después de ti.\n"
   ]
  },
  {
   "cell_type": "markdown",
   "metadata": {},
   "source": [
    "\n",
    "### Actividad 2: Práctica de Escritura\n",
    "\n",
    "**Objetivo:** Practicar la escritura del verbo \"to be\" en diferentes formas.\n",
    "\n",
    "1. **Completa las Oraciones:**\n",
    "   - Proporciona oraciones con espacios en blanco para que los estudiantes completen usando las formas correctas del verbo \"to be.\" Por ejemplo: \"She ___ a doctor.\"\n"
   ]
  },
  {
   "cell_type": "markdown",
   "metadata": {},
   "source": [
    "\n",
    "### Actividad 3: Práctica de Escucha\n",
    "\n",
    "**Objetivo:** Mejorar la comprensión auditiva del verbo \"to be.\"\n",
    "\n",
    "1. **Escucha y Empareja:**\n",
    "   - Lee oraciones afirmativas, negativas e interrogativas en voz alta y pide a los estudiantes que emparejen las oraciones con las imágenes correspondientes.\n"
   ]
  },
  {
   "cell_type": "markdown",
   "metadata": {},
   "source": [
    "\n",
    "### Actividad 4: Práctica de Habla\n",
    "\n",
    "**Objetivo:** Practicar la pronunciación y la construcción de oraciones con el verbo \"to be.\"\n",
    "\n",
    "1. **Conversaciones Simples:**\n",
    "   - Divide a los estudiantes en parejas o grupos pequeños y da a cada grupo una situación específica. Los estudiantes deben crear un diálogo corto utilizando el verbo \"to be\" para hablar sobre la situación asignada.\n",
    "\n",
    "### Actividad 5: Práctica de Lectura\n",
    "\n",
    "**Objetivo:** Mejorar las habilidades de lectura y comprensión del verbo \"to be.\"\n"
   ]
  },
  {
   "cell_type": "markdown",
   "metadata": {},
   "source": [
    "\n",
    "1. **Lectura en Parejas:**\n",
    "   - Proporciona a los estudiantes un texto corto que contenga varias instancias del verbo \"to be.\" Los estudiantes deben leer el texto en parejas y luego hacer preguntas entre ellos para asegurarse de que comprendieron el uso del verbo \"to be\" en el contexto.\n",
    "\n",
    "### Actividad 6: Aplicación Práctica\n",
    "\n",
    "**Objetivo:** Aplicar el conocimiento del verbo \"to be\" en situaciones del mundo real.\n",
    "\n",
    "1. **Situaciones Cotidianas:**\n",
    "   - Presenta situaciones cotidianas y pide a los estudiantes que creen oraciones utilizando el verbo \"to be\" para describir esas situaciones. Por ejemplo: \"I am happy in the morning.\"\n"
   ]
  },
  {
   "cell_type": "markdown",
   "metadata": {},
   "source": [
    "\n",
    "### Actividad 7: Evaluación\n",
    "\n",
    "**Objetivo:** Evaluar la comprensión y el uso del verbo \"to be\" en diversas formas.\n",
    "\n",
    "1. **Ejercicios de Evaluación:**\n",
    "   - Administra ejercicios escritos y orales que incluyan preguntas sobre el uso correcto del verbo \"to be\" en diferentes contextos (afirmativo, negativo, interrogativo).\n"
   ]
  },
  {
   "cell_type": "markdown",
   "metadata": {},
   "source": [
    "\n",
    "Recuerda adaptar estas actividades según el nivel y las necesidades específicas de los estudiantes. También es importante proporcionar retroalimentación regular para ayudarles a mejorar sus habilidades con el verbo \"to be\"."
   ]
  },
  {
   "cell_type": "markdown",
   "metadata": {},
   "source": [
    "# Desarrollo de la actiividad 1\n",
    "\n",
    "### Actividad 1: Introducción al Verbo \"to be\"\n",
    "\n",
    "**Objetivo:** Presentar el verbo \"to be\" y su uso en oraciones afirmativas, negativas e interrogativas.\n",
    "\n",
    "1. **Escucha y Repite:**\n",
    "   - Comienza con una breve introducción oral del verbo \"to be\".\n",
    "   - Pronuncia frases afirmativas, negativas e interrogativas usando \"am,\" \"are,\" y \"is,\" (amareis) y pide a los estudiantes que repitan después de ti.\n"
   ]
  },
  {
   "cell_type": "markdown",
   "metadata": {},
   "source": [
    "# Por supuesto, aquí te dejo 20 frases para la actividad de \"Escucha y Repite\" sobre el verbo \"to be\":\n"
   ]
  },
  {
   "cell_type": "markdown",
   "metadata": {},
   "source": [
    "\n",
    "1. I am a student.\n",
    "2. You are my friend.\n",
    "3. He is a doctor.\n",
    "4. She is not tired: Ella no está cansada. \n",
    "5. It is a sunny day : es un día soleado. \n",
    "6. We are happy: Nosotros estamos felices. \n",
    "7. They are teachers.\n",
    "8. Am I late?: ¿Llegué tarde?\n",
    "9. Are you ready?: ¿Estás listo?\n",
    "10. Is he your brother?\n",
    "11. Is she at home?\n",
    "12. Is it a cat?\n",
    "13. Are we going to the park?\n",
    "14. Are they coming to the party?: ¿Ellos/Ellas vienen a la fiesta?\n",
    "15. I am not hungry: Yo no tengo hambre. \n",
    "16. You are not alone: Tu no estás solo. \n",
    "17. He is not here: Él no está aquí. \n",
    "18. She is my sister: \n",
    "19. It is not easy: Eso no es fácil. \n",
    "20. We are not sure: \n"
   ]
  },
  {
   "cell_type": "markdown",
   "metadata": {},
   "source": [
    "\n",
    "Espero que estas frases sean útiles para tu actividad. ¡Buena suerte!"
   ]
  },
  {
   "cell_type": "markdown",
   "metadata": {},
   "source": [
    "dame 20 ejercicios de acuerdo a la actividad: ### Actividad 2: Práctica de Escritura\n",
    "\n",
    "*Objetivo:* Practicar la escritura del verbo \"to be\" en diferentes formas.\n",
    "\n",
    "1. *Completa las Oraciones:*\n",
    "   - Proporciona oraciones con espacios en blanco para que los estudiantes completen usando las formas correctas del verbo \"to be.\" Por ejemplo: \"She _ a doctor.\""
   ]
  },
  {
   "cell_type": "markdown",
   "metadata": {},
   "source": [
    "Claro, aquí tienes 20 ejercicios para la actividad de \"Completa las Oraciones\" sobre el verbo \"to be\":\n",
    "\n",
    "1. They __ my friends: They are my friends. \n",
    "2. I __ a teacher: I am a teacher. \n",
    "3. She __ happy.\n",
    "4. We __ at the park yesterday.\n",
    "5. Are you __ my classmate?\n",
    "6. He __ not interested in sports.\n",
    "7. It __ a great movie: It is a great movie. \n",
    "8. You __ my best friend: You are my best friends. \n",
    "9. Is she __ at the library?: Is she is at the library?: Está ella en la biblioteca. \n",
    "10. They __ not from Spain: The are not from Spain. \n",
    "11. We __ ready for the exam: We are ready for the exam. \n",
    "12. It __ not a problem: Is is not a problem. \n",
    "13. Am I __ late for the meeting?: Am I am late for the meeting?: ¿Llego tarde a la reunión? \n",
    "14. She __ a talented singer: She is a talented singer. \n",
    "15. You __ my sister: You are my sister. \n",
    "16. He __ a doctor, right? He is a doctot, right? \n",
    "17. We __ not sure about the answer: We are not sure about the answer. \n",
    "18. They __ in the garden: They are in the garden. \n",
    "19. Is it __ your bag? Is it is your bag? \n",
    "20. I __ not feeling well today: I am not feeling well today. \n"
   ]
  },
  {
   "cell_type": "markdown",
   "metadata": {},
   "source": [
    "\n",
    "Espero que estos ejercicios sean útiles para tu actividad de práctica de escritura con el verbo \"to be\". ¡Buena suerte!"
   ]
  },
  {
   "cell_type": "markdown",
   "metadata": {},
   "source": [
    "## Solution of the task \n",
    "\n",
    "1. They are my friends\n",
    "2. I am a teacher.\n",
    "3. She is happy.\n",
    "4. We are at the park yesterday.\n",
    "5. Are you are my classmate? \n",
    "6. He is not interested in sport.\n",
    "7. It is a great movie.  \n",
    "8. You are my best friend.  \n",
    "9. Is she is at the library?  \n",
    "10. They are not from Spain.  \n",
    "11. We are ready for the exam.  \n",
    "12. It is not a problem.  \n",
    "13. Am I am late for the meeting? \n",
    "14. She is a talented singer. \n",
    "15. You are not my sister. \n",
    "16. He is a doctor, right?\n",
    "17. We are not sure about the answer.\n",
    "18. They are in the garden. \n",
    "19. Is it is your bag? \n",
    "20. I am not feeling well today.  "
   ]
  },
  {
   "cell_type": "markdown",
   "metadata": {},
   "source": [
    "Ivana es una de las hermanas de María Victoria mi sobrina de Corosal - Sucre.   \n",
    "\n",
    "A mi sobrina le gusta el libro de Bolevard de Flor M. Salvador.  \n",
    "\n",
    "Ahora llega una nueva edición revisada y corregida, con nueva cubierta y nuevos capítulos\n",
    "\n",
    "¿Quién dijo que después de la tormenta sale el sol, cuando puede haber un rayo? Luke Howland, lleno de problemas y sumido en una desesperación profunda, y Hasley Weigel, tan despistada como optimista, no se ajustan al prototipo de pareja perfecta. Como si cada uno fuese un cielo, uno es tormenta y el otro un día soleado. Él es oscuridad. Ella, un rayo de sol. Y, sin embargo, juntos decidieron ponerle nombre a lo que habían creado: un boulevard teñido de tonos grisáceos y de azules celestes y eléctricos preparándose para la tormenta. Ella era para él y él era para ella.\n"
   ]
  },
  {
   "cell_type": "markdown",
   "metadata": {},
   "source": [
    "# Actividad 3: Práctica de Escucha\n",
    "\n",
    "**Objetivo:** Mejorar la comprensión auditiva del verbo \"to be.\"\n",
    "\n",
    "1. **Escucha y Empareja:**\n",
    "   - Lee oraciones afirmativas, negativas e interrogativas en voz alta y pide a los estudiantes que emparejen las oraciones con las imágenes correspondientes.\n"
   ]
  },
  {
   "cell_type": "markdown",
   "metadata": {},
   "source": [
    "Claro, aquí tienes una actividad de emparejamiento para entrenar la escucha en el aprendizaje del verbo \"to be\":\n"
   ]
  },
  {
   "cell_type": "markdown",
   "metadata": {},
   "source": [
    "\n",
    "**Instrucciones para la Actividad de Escucha y Emparejamiento:**\n",
    "\n",
    "1. **Preparación:**\n",
    "   - Prepara una serie de tarjetas o imágenes que representen diferentes situaciones con personas (por ejemplo, una persona en la escuela, otra en casa, etc.).\n",
    "   - Crea oraciones afirmativas, negativas e interrogativas utilizando el verbo \"to be\" relacionadas con las situaciones en las tarjetas o imágenes.\n",
    "\n",
    "2. **Desarrollo de la Actividad:**\n",
    "   - Divide a los estudiantes en parejas o pequeños grupos.\n",
    "   - Lee en voz alta una oración afirmativa, negativa o interrogativa que incluya el verbo \"to be\".\n",
    "   - Muestra las tarjetas o imágenes a los estudiantes para que vean las situaciones representadas en ellas.\n",
    "   - Los estudiantes deben escuchar cuidadosamente la oración y emparejarla con la tarjeta o imagen correcta que representa la situación descrita en la oración.\n",
    "   - Una vez que todos los grupos hayan emparejado correctamente las oraciones con las imágenes, verifica las respuestas juntos como clase.\n",
    "\n",
    "Ejemplo de oraciones y situaciones para las tarjetas o imágenes:\n",
    "\n",
    "- **Oración afirmativa:** \"She is at the library.\" (Ella está en la biblioteca)\n",
    "  - *Imagen:* Representación visual de una persona en una biblioteca.\n",
    "\n",
    "- **Oración negativa:** \"They are not happy.\" (Ellos no están felices)\n",
    "  - *Imagen:* Representación visual de personas con expresiones faciales tristes o enojadas.\n",
    "\n",
    "- **Oración interrogativa:** \"Are you a student?\" (¿Eres estudiante?)\n",
    "  - *Imagen:* Representación visual de alguien sosteniendo un libro y usando ropa de estudiante, con una expresión de pregunta en el rostro.\n",
    "\n",
    "Esta actividad ayudará a los estudiantes a mejorar su comprensión auditiva del verbo \"to be\" al relacionar las estructuras gramaticales con situaciones concretas, lo que facilitará su aprendizaje y retención del material."
   ]
  },
  {
   "cell_type": "markdown",
   "metadata": {},
   "source": [
    "Por supuesto, aquí te dejo 17 ejemplos adicionales de oraciones y situaciones para las tarjetas o imágenes:\n",
    "\n",
    "1. **Oración afirmativa:** \"He is a doctor.\"\n",
    "   - *Imagen:* Representación visual de un hombre con un abrigo de médico y un estetoscopio.\n",
    "\n",
    "2. **Oración negativa:** \"She is not hungry.\"\n",
    "   - *Imagen:* Representación visual de una mujer con una comida en la mesa y una expresión de desinterés.\n",
    "\n",
    "3. **Oración interrogativa:** \"Is he your brother?\"\n",
    "   - *Imagen:* Representación visual de dos personas que se parecen, con una expresión de pregunta en el rostro de una de ellas.\n",
    "\n",
    "4. **Oración afirmativa:** \"We are friends.\"\n",
    "   - *Imagen:* Representación visual de dos personas dándose la mano y sonriendo.\n",
    "\n",
    "5. **Oración negativa:** \"It is not raining.\"\n",
    "   - *Imagen:* Representación visual de un sol brillante en el cielo y una ciudad sin lluvia.\n",
    "\n",
    "6. **Oración interrogativa:** \"Are they from Spain?\"\n",
    "   - *Imagen:* Representación visual de un grupo de personas ondeando una bandera española.\n",
    "\n",
    "7. **Oración afirmativa:** \"I am a teacher.\"\n",
    "   - *Imagen:* Representación visual de alguien en frente de un pizarrón y un grupo de estudiantes.\n",
    "\n",
    "8. **Oración negativa:** \"They are not at home.\"\n",
    "   - *Imagen:* Representación visual de una casa vacía con la puerta cerrada.\n",
    "\n",
    "9. **Oración interrogativa:** \"Is she your sister?\"\n",
    "   - *Imagen:* Representación visual de dos personas que se abrazan con una expresión de pregunta en el rostro de una de ellas.\n",
    "\n",
    "10. **Oración afirmativa:** \"He is wearing a blue shirt.\"\n",
    "    - *Imagen:* Representación visual de un hombre con una camisa azul.\n",
    "\n",
    "11. **Oración negativa:** \"She is not watching TV.\"\n",
    "    - *Imagen:* Representación visual de una mujer con un libro en la mano y una televisión apagada en el fondo.\n",
    "\n",
    "12. **Oración interrogativa:** \"Are you my teacher?\"\n",
    "    - *Imagen:* Representación visual de un estudiante señalando a una persona con una expresión de pregunta en el rostro.\n",
    "\n",
    "13. **Oración afirmativa:** \"We are going to the beach.\"\n",
    "    - *Imagen:* Representación visual de un grupo de personas con trajes de baño y sombrillas en la playa.\n",
    "\n",
    "14. **Oración negativa:** \"He is not playing the guitar.\"\n",
    "    - *Imagen:* Representación visual de un hombre sin guitarra y con una expresión de desinterés hacia un instrumento musical.\n",
    "\n",
    "15. **Oración interrogativa:** \"Is it your cat?\"\n",
    "    - *Imagen:* Representación visual de un gato con una expresión de pregunta en el rostro.\n",
    "\n",
    "16. **Oración afirmativa:** \"They are my grandparents.\"\n",
    "    - *Imagen:* Representación visual de una familia multigeneracional abrazándose.\n",
    "\n",
    "17. **Oración negativa:** \"She is not swimming in the pool.\"\n",
    "    - *Imagen:* Representación visual de una piscina vacía sin nadadores.\n",
    "\n",
    "Espero que estos ejemplos sean útiles para tu actividad de emparejamiento. ¡Buena suerte!"
   ]
  },
  {
   "cell_type": "code",
   "execution_count": null,
   "metadata": {},
   "outputs": [],
   "source": []
  },
  {
   "cell_type": "code",
   "execution_count": null,
   "metadata": {},
   "outputs": [],
   "source": []
  },
  {
   "cell_type": "code",
   "execution_count": null,
   "metadata": {},
   "outputs": [],
   "source": []
  },
  {
   "cell_type": "code",
   "execution_count": null,
   "metadata": {},
   "outputs": [],
   "source": []
  },
  {
   "cell_type": "code",
   "execution_count": null,
   "metadata": {},
   "outputs": [],
   "source": []
  }
 ],
 "metadata": {
  "language_info": {
   "name": "python"
  }
 },
 "nbformat": 4,
 "nbformat_minor": 2
}
