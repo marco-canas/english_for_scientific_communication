{
 "cells": [
  {
   "cell_type": "markdown",
   "id": "dc06dec7",
   "metadata": {
    "slideshow": {
     "slide_type": "slide"
    }
   },
   "source": [
    "<table align=\"left\">\n",
    "  <td>\n",
    "    <a href=\"https://colab.research.google.com/github/marco-canas/didactica_ciencia_datos/blob/main/1_curso_machine_learning/7_models/1_modelo_general_clase_aula_invertida.ipynb\" target=\"_parent\"><img src=\"https://colab.research.google.com/assets/colab-badge.svg\" alt=\"Open In Colab\"/></a>\n",
    "  </td>\n",
    "</table>"
   ]
  },
  {
   "cell_type": "markdown",
   "id": "e0c5b198",
   "metadata": {
    "slideshow": {
     "slide_type": "slide"
    }
   },
   "source": [
    "### [Video de apoyo a la lectura interactiva y experimental de este cuaderno](https://www.youtube.com/watch?v=TaLfK4y4QXQ)"
   ]
  },
  {
   "cell_type": "markdown",
   "id": "41e82203",
   "metadata": {
    "slideshow": {
     "slide_type": "slide"
    }
   },
   "source": [
    "## [Vínculo al programa del curso:](https://github.com/marco-canas/pensamiento_matematico_licenciatura/blob/main/plan_curso_desarrollo_pensamiento_matematico_en_la_infancia.docx)\n",
    "\n"
   ]
  },
  {
   "cell_type": "markdown",
   "id": "d11ab06d",
   "metadata": {
    "slideshow": {
     "slide_type": "slide"
    }
   },
   "source": [
    "Un reconocimiento a mis estudiantes que han construido conmigo este saber pedagógico:\n",
    "\n",
    "<img src = 'https://github.com/marco-canas/pensamiento_matematico_licenciatura/blob/main/1_images/1_fotos_estudiantes/desarrollo_pensamiento_matematico_2024-02-13.jpeg?raw=true'> \n",
    "\n"
   ]
  },
  {
   "cell_type": "markdown",
   "id": "5e3936d8",
   "metadata": {
    "slideshow": {
     "slide_type": "slide"
    }
   },
   "source": [
    "# Llamar a lista o tomar asistencia con python o llamar el equipo para la tarea con video y cuaderno Jupyter sobre medición indirecta de grandes alturas con imágenes"
   ]
  },
  {
   "cell_type": "code",
   "execution_count": 1,
   "id": "7604880f",
   "metadata": {
    "slideshow": {
     "slide_type": "slide"
    }
   },
   "outputs": [
    {
     "name": "stdout",
     "output_type": "stream",
     "text": [
      "Llamando a Maro Julio Canas...\n"
     ]
    }
   ],
   "source": [
    "import pandas as pd\n",
    "import random\n",
    "\n",
    "# Cargar la lista de estudiantes desde la URL\n",
    "url = 'https://raw.githubusercontent.com/marco-canas/groups_list/main/english.csv'\n",
    "estudiantes = pd.read_csv(url)\n",
    "\n",
    "# Función para llamar a un estudiante aleatoriamente y registrar su nota de seguimiento\n",
    "def llamar_estudiante():\n",
    "    estudiante_aleatorio = random.choice(estudiantes['Nombre'])\n",
    "    print(f\"Llamando a {estudiante_aleatorio}...\")\n",
    "    \n",
    "    \n",
    "# Llamar a la función para realizar el proceso\n",
    "llamar_estudiante()\n"
   ]
  },
  {
   "cell_type": "markdown",
   "id": "4f9d8cf9",
   "metadata": {
    "slideshow": {
     "slide_type": "slide"
    }
   },
   "source": [
    "# Modelo general de clase: [aula invertida](https://www3.gobiernodecanarias.org/medusa/ecoescuela/pedagotic/aprendizaje-invertido-flipped-classroom/)"
   ]
  },
  {
   "cell_type": "markdown",
   "id": "eb6ed03a",
   "metadata": {},
   "source": [
    "![Definamos flipped learning de manera gráfica](https://resources.maneuveringthemiddle.com/wp-content/uploads/2020/07/04212706/1-5.png)"
   ]
  },
  {
   "cell_type": "markdown",
   "id": "8d97dc80",
   "metadata": {
    "slideshow": {
     "slide_type": "slide"
    }
   },
   "source": [
    "## Fomento de la lectura literaria asociada a Ingeniería agropecuaria y licenciatura en Matemáticas\n",
    "\n",
    "[Cómo dejar de postergar](https://github.com/marco-canas/habitos_atomicos/blob/main/13_como_dejar_de_postergar_usando_la_regla_de_los_dos_minutos/1_13_como_dejar_de_postergar_usando_la_regla_de_los_dos_minutos.ipynb)"
   ]
  },
  {
   "cell_type": "markdown",
   "id": "96775931",
   "metadata": {
    "slideshow": {
     "slide_type": "slide"
    }
   },
   "source": [
    "## Título de la clase: 36 preposiciones para indicar posiciones de los objetos  \n",
    "\n"
   ]
  },
  {
   "cell_type": "markdown",
   "id": "1d38dd4e",
   "metadata": {
    "slideshow": {
     "slide_type": "slide"
    }
   },
   "source": [
    "### Objetivo de aprendizaje (Enunciar, de manera corta sencilla y clara para todos los asistentes)\n",
    "\n",
    "* **Objetivos de Aprendizaje:**\n",
    "\n",
    "1. **Identificar y Utilizar Vocabulario Específico:** \n",
    "   - Reconocer y comprender el vocabulario relacionado con las proposiciones que indican posiciones de los objetos en inglés.\n",
    "   - Utilizar correctamente preposiciones como \"in\", \"on\", \"at\", \"under\", \"behind\", \"beside\", \"between\", entre otras, para describir la ubicación de los objetos en diferentes contextos.\n"
   ]
  },
  {
   "cell_type": "markdown",
   "id": "536a99fc",
   "metadata": {},
   "source": [
    "\n",
    "2. **Describir Posiciones y Relaciones Espaciales:**\n",
    "   - Describir con precisión la posición de los objetos en relación con otros objetos utilizando las preposiciones apropiadas.\n",
    "   - Explicar las relaciones espaciales entre los objetos, como la proximidad, la dirección y la distancia.\n"
   ]
  },
  {
   "cell_type": "markdown",
   "id": "cc91b676",
   "metadata": {},
   "source": [
    "\n",
    "3. **Comunicar de Manera Clara y Efectiva:**\n",
    "   - Expresar de manera clara y coherente las posiciones de los objetos utilizando el vocabulario y las estructuras gramaticales adecuadas.\n",
    "   - Comunicar información sobre la ubicación de los objetos de forma que sea comprensible para otros interlocutores, tanto en situaciones formales como informales.\n"
   ]
  },
  {
   "cell_type": "markdown",
   "id": "3a250547",
   "metadata": {},
   "source": [
    "\n",
    "4. **Aplicar en Contextos de Ciencia de Datos:**\n",
    "   - Relacionar el vocabulario y las estructuras gramaticales aprendidas con situaciones y conceptos específicos de la ciencia de datos.\n",
    "   - Aplicar el conocimiento adquirido para describir la ubicación y la disposición de elementos en conjuntos de datos, gráficos, diagramas y otros recursos utilizados en el análisis de datos.\n"
   ]
  },
  {
   "cell_type": "markdown",
   "id": "e6cea1c4",
   "metadata": {},
   "source": [
    "\n",
    "5. **Desarrollar Habilidades de Colaboración:**\n",
    "   - Trabajar de manera colaborativa en actividades y ejercicios diseñados para practicar el uso de preposiciones para indicar posiciones de los objetos.\n",
    "   - Participar activamente en discusiones y actividades grupales para practicar la expresión oral y la comprensión de las posiciones de los objetos en diferentes contextos.\n"
   ]
  },
  {
   "cell_type": "markdown",
   "id": "e9ef9649",
   "metadata": {},
   "source": [
    "\n",
    "6. **Promover el Desarrollo del Pensamiento Computacional:**\n",
    "   - Explorar cómo el pensamiento computacional puede aplicarse al aprendizaje y la práctica del vocabulario y las estructuras gramaticales relacionadas con las preposiciones de posición.\n",
    "   - Utilizar herramientas y recursos digitales, como cuadernos Jupyter y bibliotecas de Python, para crear ejercicios interactivos y actividades que refuercen el aprendizaje de las proposiciones de posición en inglés.\n"
   ]
  },
  {
   "cell_type": "markdown",
   "id": "d9153966",
   "metadata": {},
   "source": [
    "\n",
    "Estos objetivos están diseñados para ayudar a los estudiantes a desarrollar habilidades lingüísticas y comunicativas específicas mientras también fomentan el desarrollo del pensamiento computacional y la colaboración en el contexto de la ciencia de datos."
   ]
  },
  {
   "cell_type": "markdown",
   "id": "540f0ec1",
   "metadata": {
    "slideshow": {
     "slide_type": "slide"
    }
   },
   "source": [
    "## Cuestionario para realizar labores de memorización, observación y síntesis de la información (Además de diagnóstico)\n",
    "\n",
    "**Cuestionario de Diagnóstico de Presaberes: Preposiciones para Indicar Posiciones de los Objetos en Inglés**\n",
    "\n",
    "**Instrucciones:** Por favor, responde cada pregunta seleccionando la opción que consideres correcta. Marca con una \"X\" en el espacio correspondiente.\n",
    "\n",
    "1. ¿Cuál de las siguientes preposiciones se utiliza para indicar que un objeto está dentro de otro objeto?\n",
    "   - [ ] a) On\n",
    "   - [ ] b) Behind\n",
    "   - [ ] c) Under\n",
    "   - [ ] d) In\n",
    "   - [ ] e) Above\n",
    "\n",
    "   Respuesta Correcta: d) In\n",
    "\n",
    "2. ¿Cuál de las siguientes preposiciones se utiliza para indicar que un objeto está encima de otro objeto?\n",
    "   - [ ] a) Under\n",
    "   - [ ] b) Inside\n",
    "   - [ ] c) Beside\n",
    "   - [ ] d) On\n",
    "   - [ ] e) Between\n",
    "\n",
    "   Respuesta Correcta: d) On\n",
    "\n",
    "3. ¿Qué preposición se utiliza para indicar que un objeto está detrás de otro objeto?\n",
    "   - [ ] a) In front of\n",
    "   - [ ] b) In\n",
    "   - [ ] c) Under\n",
    "   - [ ] d) Behind\n",
    "   - [ ] e) Next to\n",
    "\n",
    "   Respuesta Correcta: d) Behind\n"
   ]
  },
  {
   "cell_type": "markdown",
   "id": "838bbf76",
   "metadata": {},
   "source": [
    "\n",
    "4. ¿Cuál de las siguientes preposiciones se utiliza para indicar que un objeto está al lado de otro objeto?  \n",
    "   - [ ] a) Above   \n",
    "   - [ ] b) Under  \n",
    "   - [ ] c) Inside  \n",
    "   - [ ] d) Behind  \n",
    "   - [ ] e) Beside  \n",
    "\n",
    "   Respuesta Correcta: e) Beside  \n"
   ]
  },
  {
   "cell_type": "markdown",
   "id": "39a12880",
   "metadata": {},
   "source": [
    "\n",
    "5. ¿Qué preposición se utiliza para indicar que un objeto está entre dos otros objetos?  \n",
    "   - [ ] a) Inside  \n",
    "   - [ ] b) In front of  \n",
    "   - [ ] c) Next to  \n",
    "   - [ ] d) Between  \n",
    "   - [ ] e) On  \n",
    "\n",
    "   Respuesta Correcta: d) Between  \n"
   ]
  },
  {
   "cell_type": "markdown",
   "id": "34ca6143",
   "metadata": {},
   "source": [
    "\n",
    "6. ¿Cuál de las siguientes preposiciones se utiliza para indicar que un objeto está más alto que otro objeto?\n",
    "   - [ ] a) Behind\n",
    "   - [ ] b) Below\n",
    "   - [ ] c) Under\n",
    "   - [ ] d) Above\n",
    "   - [ ] e) Beside\n",
    "\n",
    "   Respuesta Correcta: d) Above\n",
    "\n",
    "7. ¿Qué preposición se utiliza para indicar que un objeto está debajo de otro objeto?\n",
    "   - [ ] a) Inside\n",
    "   - [ ] b) In\n",
    "   - [ ] c) Below\n",
    "   - [ ] d) On\n",
    "   - [ ] e) Beside\n",
    "\n",
    "   Respuesta Correcta: c) Below\n"
   ]
  },
  {
   "cell_type": "markdown",
   "id": "88dadf2f",
   "metadata": {},
   "source": [
    "\n",
    "8. ¿Cuál de las siguientes preposiciones se utiliza para indicar que un objeto está en frente de otro objeto?\n",
    "   - [ ] a) Between\n",
    "   - [ ] b) In\n",
    "   - [ ] c) On\n",
    "   - [ ] d) In front of\n",
    "   - [ ] e) Under\n",
    "\n",
    "   Respuesta Correcta: d) In front of\n",
    "\n",
    "**Respuestas:**\n",
    "1. d) In  \n",
    "2. d) On  \n",
    "3. d) Behind  \n",
    "4. e) Beside  \n",
    "5. d) Between  \n",
    "6. d) Above  \n",
    "7. c) Below  \n",
    "8. d) In front of  \n",
    "\n",
    "Este cuestionario te ayudará a evaluar tus conocimientos previos sobre preposiciones utilizadas para indicar posiciones de los objetos en inglés."
   ]
  },
  {
   "cell_type": "markdown",
   "id": "ca7261b1",
   "metadata": {
    "slideshow": {
     "slide_type": "slide"
    }
   },
   "source": [
    "## Establecimiento de prerrequisitos conceptuales para alcanzar el objetivo de aprendizaje trazado.   \n",
    "\n",
    "(Elabore una lista de preguntas al rededor de los conceptos que consideres necesarios para empezar la clase).  \n",
    "\n",
    "**Prerrequisitos Conceptuales:**\n",
    "\n",
    "1. **Conocimiento Básico de Vocabulario en Inglés:** Los estudiantes deben estar familiarizados con el vocabulario básico en inglés, incluyendo nombres de objetos y lugares comunes.\n",
    "\n",
    "   *Actividad Sugerida:* Realizar ejercicios de reconocimiento de vocabulario, como asociar imágenes con palabras en inglés, completar crucigramas de vocabulario o realizar juegos de palabras.\n",
    "\n",
    "2. **Comprensión de Estructuras Gramaticales Básicas:** Los estudiantes deben tener un entendimiento básico de las estructuras gramaticales en inglés, como el uso de sustantivos, adjetivos, verbos y preposiciones.\n",
    "\n",
    "   *Actividad Sugerida:* Practicar la formación de frases simples utilizando estructuras gramaticales básicas. Por ejemplo, crear oraciones utilizando preposiciones para describir la ubicación de objetos en una habitación.\n",
    "\n",
    "3. **Habilidades de Lectura y Comprensión:** Los estudiantes deben ser capaces de leer y comprender textos simples en inglés relacionados con la ubicación y las posiciones de los objetos.\n",
    "\n",
    "   *Actividad Sugerida:* Proporcionar a los estudiantes textos cortos que describan diferentes situaciones de ubicación y posiciones de objetos. Luego, pedirles que respondan preguntas de comprensión sobre el texto.\n",
    "\n",
    "4. **Conocimiento de Términos y Conceptos Relacionados con la Ciencia de Datos:** Dado que el curso está orientado hacia el desarrollo de habilidades de comunicación científica para la ciencia de datos, los estudiantes deben tener un entendimiento básico de los conceptos y términos utilizados en este campo.\n",
    "\n",
    "   *Actividad Sugerida:* Presentar a los estudiantes términos y conceptos clave de la ciencia de datos mediante definiciones claras y ejemplos simples. Luego, proporcionar ejercicios prácticos que les permitan aplicar estos términos en situaciones de la vida real.\n",
    "\n",
    "5. **Capacidad para Relacionar Conceptos con Aplicaciones Prácticas:** Los estudiantes deben ser capaces de relacionar los conceptos aprendidos con aplicaciones prácticas en la vida cotidiana y en la ciencia de datos.\n",
    "\n",
    "   *Actividad Sugerida:* Presentar casos de estudio o situaciones reales en las que se apliquen las preposiciones para describir posiciones de objetos en contextos científicos o de ciencia de datos. Luego, pedir a los estudiantes que identifiquen y describan la ubicación de los objetos en cada caso.\n"
   ]
  },
  {
   "cell_type": "markdown",
   "id": "3167522d",
   "metadata": {},
   "source": [
    "\n",
    "Estos prerrequisitos conceptuales proporcionan una base sólida para que los estudiantes puedan comprender y aplicar los conceptos relacionados con las preposiciones para indicar posiciones de los objetos en inglés, así como relacionar estos conceptos con aplicaciones prácticas en la ciencia de datos. Las actividades sugeridas ayudarán a los estudiantes a alcanzar estos prerrequisitos de manera efectiva."
   ]
  },
  {
   "cell_type": "markdown",
   "id": "2298e976",
   "metadata": {
    "slideshow": {
     "slide_type": "slide"
    }
   },
   "source": [
    "# Para el diseño de la clase tenga en cuenta algunos problemas de aprendizaje"
   ]
  },
  {
   "cell_type": "markdown",
   "id": "523d3acf",
   "metadata": {
    "slideshow": {
     "slide_type": "slide"
    }
   },
   "source": [
    "**Posibles Problemas de Aprendizaje:**\n",
    "\n",
    "1. **Dificultad para Recordar el Vocabulario:** Algunos estudiantes pueden tener dificultades para recordar el vocabulario específico relacionado con las preposiciones y las posiciones de los objetos en inglés.\n",
    "\n",
    "   *Propuesta de Solución:* Proporcionar tarjetas de vocabulario con imágenes y palabras en inglés para que los estudiantes practiquen el vocabulario de manera visual. Además, se pueden realizar actividades de repetición y asociación para reforzar el aprendizaje del vocabulario.\n"
   ]
  },
  {
   "cell_type": "markdown",
   "id": "7d468cba",
   "metadata": {},
   "source": [
    "\n",
    "2. **Confusión con las Estructuras Gramaticales:** Algunos estudiantes pueden tener dificultades para entender y aplicar las estructuras gramaticales adecuadas al utilizar preposiciones para indicar posiciones de los objetos.\n",
    "\n",
    "   *Propuesta de Solución:* Proporcionar explicaciones claras y ejemplos prácticos de cómo utilizar las preposiciones en contextos específicos. Además, se pueden realizar actividades de práctica que permitan a los estudiantes crear sus propias oraciones utilizando las preposiciones aprendidas.\n",
    "\n",
    "3. **Problemas de Comprensión de Texto:** Los estudiantes pueden enfrentar dificultades para comprender textos escritos en inglés que describen posiciones y ubicaciones de objetos.\n",
    "\n",
    "   *Propuesta de Solución:* Dividir los textos en secciones más pequeñas y proporcionar definiciones y ejemplos claros de vocabulario específico antes de la lectura. Además, se pueden realizar actividades de comprensión de lectura que incluyan preguntas para verificar la comprensión del texto.\n",
    "\n",
    "4. **Falta de Conexión con Aplicaciones Prácticas:** Algunos estudiantes pueden tener dificultades para relacionar los conceptos aprendidos sobre preposiciones con aplicaciones prácticas en la ciencia de datos.\n",
    "\n",
    "   *Propuesta de Solución:* Proporcionar ejemplos y casos de estudio específicos de la ciencia de datos en los que se utilicen preposiciones para describir posiciones de objetos. Además, se pueden realizar actividades prácticas que permitan a los estudiantes aplicar los conceptos aprendidos en situaciones reales.\n"
   ]
  },
  {
   "cell_type": "markdown",
   "id": "690ec253",
   "metadata": {},
   "source": [
    "\n",
    "5. **Baja Motivación o Interés:** Algunos estudiantes pueden tener una baja motivación o interés en el tema de las preposiciones y las posiciones de los objetos en inglés.\n",
    "\n",
    "   *Propuesta de Solución:* Crear actividades interactivas y dinámicas que mantengan el interés de los estudiantes, como juegos de roles, debates o proyectos colaborativos. Además, se pueden incluir ejemplos y aplicaciones prácticas que sean relevantes para los intereses y experiencias de los estudiantes.\n",
    "\n",
    "Abordar estos posibles problemas de aprendizaje con las propuestas de solución adecuadas ayudará a garantizar que todos los estudiantes puedan comprender y aplicar de manera efectiva los conceptos relacionados con las preposiciones y las posiciones de los objetos en inglés."
   ]
  },
  {
   "cell_type": "markdown",
   "id": "a40a4704",
   "metadata": {
    "slideshow": {
     "slide_type": "slide"
    }
   },
   "source": [
    "## Secuencia conceptual introductoria a la clase"
   ]
  },
  {
   "cell_type": "markdown",
   "id": "8853d874",
   "metadata": {},
   "source": [
    "## El componente histórico y epistemológico"
   ]
  },
  {
   "cell_type": "markdown",
   "id": "873c7e24",
   "metadata": {},
   "source": []
  },
  {
   "cell_type": "markdown",
   "id": "2f575cc1",
   "metadata": {},
   "source": [
    "# 36 Preposiciones\n"
   ]
  },
  {
   "cell_type": "markdown",
   "id": "04ea0de9",
   "metadata": {},
   "source": [
    "## about:   \n",
    "\n",
    "* The customer had many questions about his purchase.\n",
    "[Tomorrow I will leave for work about 7:00 AM](https://voca.ro/1a1i5QHAX6MD): Mañana saldré a trabajar sobre las 7:00 a.m.  \n",
    "* She was talking about you. Ella estaba hablando de ti. "
   ]
  },
  {
   "cell_type": "markdown",
   "id": "9f424219",
   "metadata": {},
   "source": [
    "# arround:   \n",
    "\n",
    "* Tomorrow I will leave for work around 7:00 am. \n",
    "* The groom is dancing around the bridge: el novio baila alrededor del puente"
   ]
  },
  {
   "cell_type": "markdown",
   "id": "f96801ce",
   "metadata": {},
   "source": [
    "# Against: en contra de \n",
    "\n",
    "* Spartans fought against Persians. "
   ]
  },
  {
   "cell_type": "markdown",
   "id": "b96e0de9",
   "metadata": {},
   "source": [
    "# Down\n",
    "\n",
    "* "
   ]
  },
  {
   "cell_type": "markdown",
   "id": "02bb22b5",
   "metadata": {},
   "source": [
    "# into  \n",
    "\n",
    "* "
   ]
  },
  {
   "cell_type": "code",
   "execution_count": null,
   "id": "097367b9",
   "metadata": {},
   "outputs": [],
   "source": []
  },
  {
   "cell_type": "code",
   "execution_count": null,
   "id": "6bf4407c",
   "metadata": {},
   "outputs": [],
   "source": []
  },
  {
   "cell_type": "markdown",
   "id": "cda23d0c",
   "metadata": {},
   "source": [
    "# Vocabulary \n",
    "1. groom: new husband. \n",
    "2. Fought: Luchó. \n",
    "3. Fight: take part in a violent struggle involving the exchange of physical blows or the use of weapons.\n",
    "\"the men were fighting\"\n",
    "4. struggle: lucha \n",
    "5.   \n",
    "\n",
    "[Práctica de pronunciación de este vocabulario]()"
   ]
  },
  {
   "cell_type": "code",
   "execution_count": null,
   "id": "b8202ac0",
   "metadata": {},
   "outputs": [],
   "source": []
  },
  {
   "cell_type": "code",
   "execution_count": null,
   "id": "b69d7a8e",
   "metadata": {},
   "outputs": [],
   "source": []
  },
  {
   "cell_type": "code",
   "execution_count": null,
   "id": "215368dc",
   "metadata": {},
   "outputs": [],
   "source": []
  },
  {
   "cell_type": "markdown",
   "id": "2f0141c3",
   "metadata": {},
   "source": [
    "## Tareas para realizar antes de la clase  \n",
    "\n",
    "1. Ver los videos respectivos []()\n",
    "2. Memorizar las definiciones []()\n",
    "3. Sintetizar o resumir la información en mapas conceptuales. []()\n",
    "4. Tareas para incentivar el uso de la calculadora Casio Para ingenieros y licenciados. \n",
    "5. Leer los ejemplos resueltos y repricar la manera de hacerlos"
   ]
  },
  {
   "cell_type": "code",
   "execution_count": 5,
   "id": "3db51219",
   "metadata": {},
   "outputs": [
    {
     "data": {
      "text/plain": [
       "'/home/marco/Documentos/investigacion/english_for_scientific_communication/images/preposiciones para indicar posiciones de objetos.pdf'"
      ]
     },
     "execution_count": 5,
     "metadata": {},
     "output_type": "execute_result"
    },
    {
     "name": "stderr",
     "output_type": "stream",
     "text": [
      "/snap/core20/current/lib/x86_64-linux-gnu/libstdc++.so.6: version `GLIBCXX_3.4.29' not found (required by /lib/x86_64-linux-gnu/libproxy.so.1)\n",
      "Failed to load module: /home/marco/snap/code/common/.cache/gio-modules/libgiolibproxy.so\n",
      "\n",
      "(process:256649): Gtk-WARNING **: 07:38:46.379: Locale not supported by C library.\n",
      "\tUsing the fallback 'C' locale.\n",
      "/home/marco/snap/code/common/.cache/gio-modules/libgiolibproxy.so: cannot open shared object file: Permission denied\n",
      "Failed to load module: /home/marco/snap/code/common/.cache/gio-modules/libgiolibproxy.so\n",
      "\n",
      "(evince:256649): Gtk-WARNING **: 07:38:46.424: Theme parsing error: gtk-keys.css:1:0: Failed to import: Error opening file /snap/code/155/usr/share/themes/Default/gtk-3.0/gtk-keys.css: Permission denied\n",
      "Gtk-Message: 07:38:46.424: Failed to load module \"canberra-gtk-module\"\n",
      "Gtk-Message: 07:38:46.425: Failed to load module \"canberra-gtk-module\"\n",
      "/home/marco/snap/code/common/.cache/gio-modules/libdconfsettings.so: cannot open shared object file: Permission denied\n",
      "Failed to load module: /home/marco/snap/code/common/.cache/gio-modules/libdconfsettings.so\n",
      "\n",
      "(evince:256649): Gtk-WARNING **: 07:38:46.598: Could not load a pixbuf from icon theme.\n",
      "This may indicate that pixbuf loaders or the mime database could not be found.\n"
     ]
    }
   ],
   "source": [
    "from graphviz import Digraph\n",
    "\n",
    "# Crear un nuevo grafo dirigido\n",
    "dot = Digraph()\n",
    "\n",
    "# Añadir nodos y relaciones al grafo\n",
    "concepto_principal = 'preposiciones para indicar posiciones de objetos'\n",
    "dot.node('A', concepto_principal)\n",
    "dot.node('B', '')\n",
    "dot.node('C', '')\n",
    "dot.node('D', '')\n",
    "dot.node('E', '')\n",
    "dot.node('F', '')\n",
    "dot.node('G', '')\n",
    "dot.node('H', '')\n",
    "dot.node('I', '')\n",
    "dot.node('J', '')\n",
    "\n",
    "dot.edges(['AB'])\n",
    "dot.edges(['AC'])\n",
    "dot.edges(['CD'])\n",
    "dot.edges(['DJ'])\n",
    "dot.edges(['EF'])\n",
    "dot.edges(['FG'])\n",
    "dot.edges(['GH'])\n",
    "dot.edges(['HI'])\n",
    "dot.edges(['IJ'])\n",
    "\n",
    "# Guardar el grafo como un archivo de imagen\n",
    "dot.render(filename=concepto_principal, format='png', cleanup=True, \\\n",
    "           directory='/home/marco/Documentos/investigacion/english_for_scientific_communication/images')\n",
    "\n",
    "dot.view()\n"
   ]
  },
  {
   "cell_type": "code",
   "execution_count": null,
   "metadata": {},
   "outputs": [],
   "source": [
    "# asignación de ejercicios de un seccion del texto guía\n",
    "\n",
    "# numpy.random.choice() obten la documentación de esta función en: \n",
    "# https://numpy.org/doc/stable/reference/random/generated/numpy.random.choice.html\n",
    "\n",
    "import pandas as pd\n",
    "import numpy as np\n",
    "import requests\n",
    "np.random.seed(42)  # establecer semilla aleatoria para hacer los resultados reproducibles\n",
    "\n",
    "\n",
    "\n",
    "grupo_estudiantes = 'calculo_integral'\n",
    "nombre_texto_guia = 'Purcell'\n",
    "pagina_y_seccion = 'Página_202_Sección_3.8'\n",
    "numero_ejercicios_taller = 54\n",
    "numero_de_ejercicios_asignados = 3\n",
    "\n",
    "\n",
    "# Descargar la lista de  estudiantes\n",
    "students_url = \"https://raw.githubusercontent.com/marco-canas/groups_list/main/\" + grupo_estudiantes + \".csv\"\n",
    "exercises = list(range(1, numero_ejercicios_taller))  \n",
    "\n",
    "students_data = pd.read_csv(students_url)\n",
    "\n",
    "# Crear una lista para almacenar las asignaciones\n",
    "assignments = []\n",
    "\n",
    "# Asignar ejercicios aleatorios a cada estudiante\n",
    "for index, student in students_data.iterrows():\n",
    "    # Seleccionar 5 ejercicios aleatorios sin repetición\n",
    "    random_exercises = np.random.choice(exercises, numero_de_ejercicios_asignados, replace = False)+ 1 \n",
    "    assignments.append([students_data[\"Nombre\"][index], *random_exercises])  # Agregar asignación a la lista\n",
    "\n",
    "# Crear un DataFrame con las asignaciones\n",
    "columns = [\"Student\"] + [ \"Exer\" + str(i+1) for i in range(numero_de_ejercicios_asignados)]\n",
    "assignment_df = pd.DataFrame(assignments, columns=columns)\n",
    "\n",
    "# Guardar el DataFrame en un archivo CSV\n",
    "assignment_csv = \"tarea\" + \"_\" + nombre_texto_guia + \"_\"+ pagina_y_seccion + \".csv\"\n",
    "assignment_df.to_csv(assignment_csv, index=False)\n",
    "\n",
    "print(\"Tarea asignada: \", assignment_csv)\n",
    "assignment_df"
   ]
  },
  {
   "cell_type": "code",
   "execution_count": null,
   "id": "4202d12e",
   "metadata": {},
   "outputs": [],
   "source": []
  },
  {
   "cell_type": "code",
   "execution_count": null,
   "id": "85fd62ad",
   "metadata": {},
   "outputs": [],
   "source": []
  },
  {
   "cell_type": "code",
   "execution_count": null,
   "id": "6425d2f9",
   "metadata": {},
   "outputs": [],
   "source": []
  },
  {
   "cell_type": "markdown",
   "id": "3ce0557f",
   "metadata": {},
   "source": [
    " [Secuencia metodológica que seguiremos en cada modelación fundamentada en Borromeo citado por Carlos Ledezma](https://www.researchgate.net/profile/Carlos-Ledezma-4/publication/376076920_Modelizacion_matematica_desde_una_articulacion_teorica_entre_los_enfoques_cognitivo_y_onto-semiotico/links/6568cb363fa26f66f43b292a/Modelizacion-matematica-desde-una-articulacion-teorica-entre-los-enfoques-cognitivo-y-onto-semiotico.pdf)\n",
    "\n",
    "1. Entender la tarea\n",
    "2. Simplificar y estructurar la tarea\n",
    "3. Matemátizar\n",
    "4. Trabajar matemáticamente utilizando las competencias matemáticas del estudiante.\n",
    "5. Interpretar y \n",
    "6. validar"
   ]
  },
  {
   "cell_type": "markdown",
   "id": "7dbbd46e",
   "metadata": {},
   "source": []
  },
  {
   "cell_type": "markdown",
   "id": "1ccfb67e",
   "metadata": {
    "slideshow": {
     "slide_type": "slide"
    }
   },
   "source": [
    "# Visualizaciones tabulares y gráficas"
   ]
  },
  {
   "cell_type": "markdown",
   "id": "0631fb05",
   "metadata": {
    "slideshow": {
     "slide_type": "slide"
    }
   },
   "source": [
    "## Visualización gráfica con plotly"
   ]
  },
  {
   "cell_type": "code",
   "execution_count": 4,
   "id": "6009af5a",
   "metadata": {
    "slideshow": {
     "slide_type": "slide"
    }
   },
   "outputs": [
    {
     "data": {
      "application/vnd.plotly.v1+json": {
       "config": {
        "plotlyServerURL": "https://plot.ly"
       },
       "data": [
        {
         "hovertemplate": "x=%{x}<br>y=%{y}<extra></extra>",
         "legendgroup": "",
         "marker": {
          "color": "#636efa",
          "symbol": "circle"
         },
         "mode": "markers",
         "name": "",
         "orientation": "v",
         "showlegend": false,
         "type": "scatter",
         "x": [],
         "xaxis": "x",
         "y": [],
         "yaxis": "y"
        }
       ],
       "layout": {
        "legend": {
         "tracegroupgap": 0
        },
        "template": {
         "data": {
          "bar": [
           {
            "error_x": {
             "color": "#2a3f5f"
            },
            "error_y": {
             "color": "#2a3f5f"
            },
            "marker": {
             "line": {
              "color": "#E5ECF6",
              "width": 0.5
             },
             "pattern": {
              "fillmode": "overlay",
              "size": 10,
              "solidity": 0.2
             }
            },
            "type": "bar"
           }
          ],
          "barpolar": [
           {
            "marker": {
             "line": {
              "color": "#E5ECF6",
              "width": 0.5
             },
             "pattern": {
              "fillmode": "overlay",
              "size": 10,
              "solidity": 0.2
             }
            },
            "type": "barpolar"
           }
          ],
          "carpet": [
           {
            "aaxis": {
             "endlinecolor": "#2a3f5f",
             "gridcolor": "white",
             "linecolor": "white",
             "minorgridcolor": "white",
             "startlinecolor": "#2a3f5f"
            },
            "baxis": {
             "endlinecolor": "#2a3f5f",
             "gridcolor": "white",
             "linecolor": "white",
             "minorgridcolor": "white",
             "startlinecolor": "#2a3f5f"
            },
            "type": "carpet"
           }
          ],
          "choropleth": [
           {
            "colorbar": {
             "outlinewidth": 0,
             "ticks": ""
            },
            "type": "choropleth"
           }
          ],
          "contour": [
           {
            "colorbar": {
             "outlinewidth": 0,
             "ticks": ""
            },
            "colorscale": [
             [
              0,
              "#0d0887"
             ],
             [
              0.1111111111111111,
              "#46039f"
             ],
             [
              0.2222222222222222,
              "#7201a8"
             ],
             [
              0.3333333333333333,
              "#9c179e"
             ],
             [
              0.4444444444444444,
              "#bd3786"
             ],
             [
              0.5555555555555556,
              "#d8576b"
             ],
             [
              0.6666666666666666,
              "#ed7953"
             ],
             [
              0.7777777777777778,
              "#fb9f3a"
             ],
             [
              0.8888888888888888,
              "#fdca26"
             ],
             [
              1,
              "#f0f921"
             ]
            ],
            "type": "contour"
           }
          ],
          "contourcarpet": [
           {
            "colorbar": {
             "outlinewidth": 0,
             "ticks": ""
            },
            "type": "contourcarpet"
           }
          ],
          "heatmap": [
           {
            "colorbar": {
             "outlinewidth": 0,
             "ticks": ""
            },
            "colorscale": [
             [
              0,
              "#0d0887"
             ],
             [
              0.1111111111111111,
              "#46039f"
             ],
             [
              0.2222222222222222,
              "#7201a8"
             ],
             [
              0.3333333333333333,
              "#9c179e"
             ],
             [
              0.4444444444444444,
              "#bd3786"
             ],
             [
              0.5555555555555556,
              "#d8576b"
             ],
             [
              0.6666666666666666,
              "#ed7953"
             ],
             [
              0.7777777777777778,
              "#fb9f3a"
             ],
             [
              0.8888888888888888,
              "#fdca26"
             ],
             [
              1,
              "#f0f921"
             ]
            ],
            "type": "heatmap"
           }
          ],
          "heatmapgl": [
           {
            "colorbar": {
             "outlinewidth": 0,
             "ticks": ""
            },
            "colorscale": [
             [
              0,
              "#0d0887"
             ],
             [
              0.1111111111111111,
              "#46039f"
             ],
             [
              0.2222222222222222,
              "#7201a8"
             ],
             [
              0.3333333333333333,
              "#9c179e"
             ],
             [
              0.4444444444444444,
              "#bd3786"
             ],
             [
              0.5555555555555556,
              "#d8576b"
             ],
             [
              0.6666666666666666,
              "#ed7953"
             ],
             [
              0.7777777777777778,
              "#fb9f3a"
             ],
             [
              0.8888888888888888,
              "#fdca26"
             ],
             [
              1,
              "#f0f921"
             ]
            ],
            "type": "heatmapgl"
           }
          ],
          "histogram": [
           {
            "marker": {
             "pattern": {
              "fillmode": "overlay",
              "size": 10,
              "solidity": 0.2
             }
            },
            "type": "histogram"
           }
          ],
          "histogram2d": [
           {
            "colorbar": {
             "outlinewidth": 0,
             "ticks": ""
            },
            "colorscale": [
             [
              0,
              "#0d0887"
             ],
             [
              0.1111111111111111,
              "#46039f"
             ],
             [
              0.2222222222222222,
              "#7201a8"
             ],
             [
              0.3333333333333333,
              "#9c179e"
             ],
             [
              0.4444444444444444,
              "#bd3786"
             ],
             [
              0.5555555555555556,
              "#d8576b"
             ],
             [
              0.6666666666666666,
              "#ed7953"
             ],
             [
              0.7777777777777778,
              "#fb9f3a"
             ],
             [
              0.8888888888888888,
              "#fdca26"
             ],
             [
              1,
              "#f0f921"
             ]
            ],
            "type": "histogram2d"
           }
          ],
          "histogram2dcontour": [
           {
            "colorbar": {
             "outlinewidth": 0,
             "ticks": ""
            },
            "colorscale": [
             [
              0,
              "#0d0887"
             ],
             [
              0.1111111111111111,
              "#46039f"
             ],
             [
              0.2222222222222222,
              "#7201a8"
             ],
             [
              0.3333333333333333,
              "#9c179e"
             ],
             [
              0.4444444444444444,
              "#bd3786"
             ],
             [
              0.5555555555555556,
              "#d8576b"
             ],
             [
              0.6666666666666666,
              "#ed7953"
             ],
             [
              0.7777777777777778,
              "#fb9f3a"
             ],
             [
              0.8888888888888888,
              "#fdca26"
             ],
             [
              1,
              "#f0f921"
             ]
            ],
            "type": "histogram2dcontour"
           }
          ],
          "mesh3d": [
           {
            "colorbar": {
             "outlinewidth": 0,
             "ticks": ""
            },
            "type": "mesh3d"
           }
          ],
          "parcoords": [
           {
            "line": {
             "colorbar": {
              "outlinewidth": 0,
              "ticks": ""
             }
            },
            "type": "parcoords"
           }
          ],
          "pie": [
           {
            "automargin": true,
            "type": "pie"
           }
          ],
          "scatter": [
           {
            "fillpattern": {
             "fillmode": "overlay",
             "size": 10,
             "solidity": 0.2
            },
            "type": "scatter"
           }
          ],
          "scatter3d": [
           {
            "line": {
             "colorbar": {
              "outlinewidth": 0,
              "ticks": ""
             }
            },
            "marker": {
             "colorbar": {
              "outlinewidth": 0,
              "ticks": ""
             }
            },
            "type": "scatter3d"
           }
          ],
          "scattercarpet": [
           {
            "marker": {
             "colorbar": {
              "outlinewidth": 0,
              "ticks": ""
             }
            },
            "type": "scattercarpet"
           }
          ],
          "scattergeo": [
           {
            "marker": {
             "colorbar": {
              "outlinewidth": 0,
              "ticks": ""
             }
            },
            "type": "scattergeo"
           }
          ],
          "scattergl": [
           {
            "marker": {
             "colorbar": {
              "outlinewidth": 0,
              "ticks": ""
             }
            },
            "type": "scattergl"
           }
          ],
          "scattermapbox": [
           {
            "marker": {
             "colorbar": {
              "outlinewidth": 0,
              "ticks": ""
             }
            },
            "type": "scattermapbox"
           }
          ],
          "scatterpolar": [
           {
            "marker": {
             "colorbar": {
              "outlinewidth": 0,
              "ticks": ""
             }
            },
            "type": "scatterpolar"
           }
          ],
          "scatterpolargl": [
           {
            "marker": {
             "colorbar": {
              "outlinewidth": 0,
              "ticks": ""
             }
            },
            "type": "scatterpolargl"
           }
          ],
          "scatterternary": [
           {
            "marker": {
             "colorbar": {
              "outlinewidth": 0,
              "ticks": ""
             }
            },
            "type": "scatterternary"
           }
          ],
          "surface": [
           {
            "colorbar": {
             "outlinewidth": 0,
             "ticks": ""
            },
            "colorscale": [
             [
              0,
              "#0d0887"
             ],
             [
              0.1111111111111111,
              "#46039f"
             ],
             [
              0.2222222222222222,
              "#7201a8"
             ],
             [
              0.3333333333333333,
              "#9c179e"
             ],
             [
              0.4444444444444444,
              "#bd3786"
             ],
             [
              0.5555555555555556,
              "#d8576b"
             ],
             [
              0.6666666666666666,
              "#ed7953"
             ],
             [
              0.7777777777777778,
              "#fb9f3a"
             ],
             [
              0.8888888888888888,
              "#fdca26"
             ],
             [
              1,
              "#f0f921"
             ]
            ],
            "type": "surface"
           }
          ],
          "table": [
           {
            "cells": {
             "fill": {
              "color": "#EBF0F8"
             },
             "line": {
              "color": "white"
             }
            },
            "header": {
             "fill": {
              "color": "#C8D4E3"
             },
             "line": {
              "color": "white"
             }
            },
            "type": "table"
           }
          ]
         },
         "layout": {
          "annotationdefaults": {
           "arrowcolor": "#2a3f5f",
           "arrowhead": 0,
           "arrowwidth": 1
          },
          "autotypenumbers": "strict",
          "coloraxis": {
           "colorbar": {
            "outlinewidth": 0,
            "ticks": ""
           }
          },
          "colorscale": {
           "diverging": [
            [
             0,
             "#8e0152"
            ],
            [
             0.1,
             "#c51b7d"
            ],
            [
             0.2,
             "#de77ae"
            ],
            [
             0.3,
             "#f1b6da"
            ],
            [
             0.4,
             "#fde0ef"
            ],
            [
             0.5,
             "#f7f7f7"
            ],
            [
             0.6,
             "#e6f5d0"
            ],
            [
             0.7,
             "#b8e186"
            ],
            [
             0.8,
             "#7fbc41"
            ],
            [
             0.9,
             "#4d9221"
            ],
            [
             1,
             "#276419"
            ]
           ],
           "sequential": [
            [
             0,
             "#0d0887"
            ],
            [
             0.1111111111111111,
             "#46039f"
            ],
            [
             0.2222222222222222,
             "#7201a8"
            ],
            [
             0.3333333333333333,
             "#9c179e"
            ],
            [
             0.4444444444444444,
             "#bd3786"
            ],
            [
             0.5555555555555556,
             "#d8576b"
            ],
            [
             0.6666666666666666,
             "#ed7953"
            ],
            [
             0.7777777777777778,
             "#fb9f3a"
            ],
            [
             0.8888888888888888,
             "#fdca26"
            ],
            [
             1,
             "#f0f921"
            ]
           ],
           "sequentialminus": [
            [
             0,
             "#0d0887"
            ],
            [
             0.1111111111111111,
             "#46039f"
            ],
            [
             0.2222222222222222,
             "#7201a8"
            ],
            [
             0.3333333333333333,
             "#9c179e"
            ],
            [
             0.4444444444444444,
             "#bd3786"
            ],
            [
             0.5555555555555556,
             "#d8576b"
            ],
            [
             0.6666666666666666,
             "#ed7953"
            ],
            [
             0.7777777777777778,
             "#fb9f3a"
            ],
            [
             0.8888888888888888,
             "#fdca26"
            ],
            [
             1,
             "#f0f921"
            ]
           ]
          },
          "colorway": [
           "#636efa",
           "#EF553B",
           "#00cc96",
           "#ab63fa",
           "#FFA15A",
           "#19d3f3",
           "#FF6692",
           "#B6E880",
           "#FF97FF",
           "#FECB52"
          ],
          "font": {
           "color": "#2a3f5f"
          },
          "geo": {
           "bgcolor": "white",
           "lakecolor": "white",
           "landcolor": "#E5ECF6",
           "showlakes": true,
           "showland": true,
           "subunitcolor": "white"
          },
          "hoverlabel": {
           "align": "left"
          },
          "hovermode": "closest",
          "mapbox": {
           "style": "light"
          },
          "paper_bgcolor": "white",
          "plot_bgcolor": "#E5ECF6",
          "polar": {
           "angularaxis": {
            "gridcolor": "white",
            "linecolor": "white",
            "ticks": ""
           },
           "bgcolor": "#E5ECF6",
           "radialaxis": {
            "gridcolor": "white",
            "linecolor": "white",
            "ticks": ""
           }
          },
          "scene": {
           "xaxis": {
            "backgroundcolor": "#E5ECF6",
            "gridcolor": "white",
            "gridwidth": 2,
            "linecolor": "white",
            "showbackground": true,
            "ticks": "",
            "zerolinecolor": "white"
           },
           "yaxis": {
            "backgroundcolor": "#E5ECF6",
            "gridcolor": "white",
            "gridwidth": 2,
            "linecolor": "white",
            "showbackground": true,
            "ticks": "",
            "zerolinecolor": "white"
           },
           "zaxis": {
            "backgroundcolor": "#E5ECF6",
            "gridcolor": "white",
            "gridwidth": 2,
            "linecolor": "white",
            "showbackground": true,
            "ticks": "",
            "zerolinecolor": "white"
           }
          },
          "shapedefaults": {
           "line": {
            "color": "#2a3f5f"
           }
          },
          "ternary": {
           "aaxis": {
            "gridcolor": "white",
            "linecolor": "white",
            "ticks": ""
           },
           "baxis": {
            "gridcolor": "white",
            "linecolor": "white",
            "ticks": ""
           },
           "bgcolor": "#E5ECF6",
           "caxis": {
            "gridcolor": "white",
            "linecolor": "white",
            "ticks": ""
           }
          },
          "title": {
           "x": 0.05
          },
          "xaxis": {
           "automargin": true,
           "gridcolor": "white",
           "linecolor": "white",
           "ticks": "",
           "title": {
            "standoff": 15
           },
           "zerolinecolor": "white",
           "zerolinewidth": 2
          },
          "yaxis": {
           "automargin": true,
           "gridcolor": "white",
           "linecolor": "white",
           "ticks": "",
           "title": {
            "standoff": 15
           },
           "zerolinecolor": "white",
           "zerolinewidth": 2
          }
         }
        },
        "title": {
         "text": "Relación entre x e y"
        },
        "xaxis": {
         "anchor": "y",
         "domain": [
          0,
          1
         ],
         "title": {
          "text": "x"
         }
        },
        "yaxis": {
         "anchor": "x",
         "domain": [
          0,
          1
         ],
         "title": {
          "text": "y"
         }
        }
       }
      }
     },
     "metadata": {},
     "output_type": "display_data"
    }
   ],
   "source": [
    "import numpy as np \n",
    "import pandas as pd \n",
    "import plotly.express as px\n",
    "# datos\n",
    "X = np.array([])\n",
    "\n",
    "Y = np.array([])\n",
    "\n",
    "# tabla de datos\n",
    "tabla = pd.DataFrame({'x':X, 'y':Y})\n",
    "#trazo de diagrama de dispersión o scatter\n",
    "fig = px.scatter(tabla,x = tabla.keys()[0], y = tabla.keys()[1], title='Relación entre x e y')\n",
    "\n",
    "fig.show()\n",
    "\n",
    "#fig.write_html('relacion_entre_x_e_y.html', auto_open=True)"
   ]
  },
  {
   "cell_type": "markdown",
   "id": "740f3401",
   "metadata": {
    "slideshow": {
     "slide_type": "slide"
    }
   },
   "source": [
    "# Componente de manejo de calculadora Casio asociado al objetivo de aprendizaje de esta clase"
   ]
  },
  {
   "cell_type": "markdown",
   "id": "8eecb2d9",
   "metadata": {
    "slideshow": {
     "slide_type": "slide"
    }
   },
   "source": [
    "## Descripción de la calculadora Casio  \n",
    "\n"
   ]
  },
  {
   "cell_type": "code",
   "execution_count": null,
   "id": "3cd72835",
   "metadata": {
    "slideshow": {
     "slide_type": "slide"
    }
   },
   "outputs": [],
   "source": []
  },
  {
   "cell_type": "code",
   "execution_count": null,
   "id": "d8a111c4",
   "metadata": {
    "slideshow": {
     "slide_type": "slide"
    }
   },
   "outputs": [],
   "source": []
  },
  {
   "cell_type": "markdown",
   "id": "fccb447c",
   "metadata": {
    "slideshow": {
     "slide_type": "slide"
    }
   },
   "source": [
    "# Tareas para realizar en clase"
   ]
  },
  {
   "cell_type": "markdown",
   "id": "e5c48edf",
   "metadata": {
    "slideshow": {
     "slide_type": "slide"
    }
   },
   "source": [
    "* Modelación matemática \n",
    "* Trabajo en equipos"
   ]
  },
  {
   "cell_type": "code",
   "execution_count": 5,
   "metadata": {},
   "outputs": [
    {
     "name": "stdout",
     "output_type": "stream",
     "text": [
      "Tarea asignada:  tarea_Purcell_Página_202_Sección_3.8.csv\n"
     ]
    },
    {
     "data": {
      "text/html": [
       "<div>\n",
       "<style scoped>\n",
       "    .dataframe tbody tr th:only-of-type {\n",
       "        vertical-align: middle;\n",
       "    }\n",
       "\n",
       "    .dataframe tbody tr th {\n",
       "        vertical-align: top;\n",
       "    }\n",
       "\n",
       "    .dataframe thead th {\n",
       "        text-align: right;\n",
       "    }\n",
       "</style>\n",
       "<table border=\"1\" class=\"dataframe\">\n",
       "  <thead>\n",
       "    <tr style=\"text-align: right;\">\n",
       "      <th></th>\n",
       "      <th>Student</th>\n",
       "      <th>Exer1</th>\n",
       "    </tr>\n",
       "  </thead>\n",
       "  <tbody>\n",
       "    <tr>\n",
       "      <th>0</th>\n",
       "      <td>AGUDELO MORENO RENATO DIRNEY</td>\n",
       "      <td>21</td>\n",
       "    </tr>\n",
       "    <tr>\n",
       "      <th>1</th>\n",
       "      <td>AMARIS FERNANDEZ SEBASTIAN CAMILO</td>\n",
       "      <td>40</td>\n",
       "    </tr>\n",
       "    <tr>\n",
       "      <th>2</th>\n",
       "      <td>ARENAS HERAZO GABRIEL ENRIQUE</td>\n",
       "      <td>26</td>\n",
       "    </tr>\n",
       "    <tr>\n",
       "      <th>3</th>\n",
       "      <td>AYALA MENDOZA MARISOL YACIRA</td>\n",
       "      <td>30</td>\n",
       "    </tr>\n",
       "    <tr>\n",
       "      <th>4</th>\n",
       "      <td>BERTEL RODELO MICHELL SMIT</td>\n",
       "      <td>13</td>\n",
       "    </tr>\n",
       "    <tr>\n",
       "      <th>5</th>\n",
       "      <td>BULA VERGARA MARIA PAULA</td>\n",
       "      <td>28</td>\n",
       "    </tr>\n",
       "    <tr>\n",
       "      <th>6</th>\n",
       "      <td>CANTILLO ENSUCHO DANIEL</td>\n",
       "      <td>19</td>\n",
       "    </tr>\n",
       "    <tr>\n",
       "      <th>7</th>\n",
       "      <td>CERVANTES DURAN ANGELICA</td>\n",
       "      <td>4</td>\n",
       "    </tr>\n",
       "    <tr>\n",
       "      <th>8</th>\n",
       "      <td>GALLEGO TEJADA JUAN ESTEBAN</td>\n",
       "      <td>7</td>\n",
       "    </tr>\n",
       "    <tr>\n",
       "      <th>9</th>\n",
       "      <td>GUERRA NORIEGA YONATHAN</td>\n",
       "      <td>19</td>\n",
       "    </tr>\n",
       "    <tr>\n",
       "      <th>10</th>\n",
       "      <td>HINCAPIE CASTRO JOHAN SEBASTIAN</td>\n",
       "      <td>49</td>\n",
       "    </tr>\n",
       "    <tr>\n",
       "      <th>11</th>\n",
       "      <td>HUMANEZ SANCHEZ CAMILO</td>\n",
       "      <td>38</td>\n",
       "    </tr>\n",
       "    <tr>\n",
       "      <th>12</th>\n",
       "      <td>IBAnEZ MORENO FRANCISCO LUIS</td>\n",
       "      <td>53</td>\n",
       "    </tr>\n",
       "    <tr>\n",
       "      <th>13</th>\n",
       "      <td>LONDONO CUADRADO CRISTIAN ALBERTO</td>\n",
       "      <td>23</td>\n",
       "    </tr>\n",
       "    <tr>\n",
       "      <th>14</th>\n",
       "      <td>LOZANO HOLGUIN LIZETH JOHANA</td>\n",
       "      <td>13</td>\n",
       "    </tr>\n",
       "    <tr>\n",
       "      <th>15</th>\n",
       "      <td>MASS MIRANDA RIVALDO JOSE</td>\n",
       "      <td>23</td>\n",
       "    </tr>\n",
       "    <tr>\n",
       "      <th>16</th>\n",
       "      <td>MIRANDA MARTINEZ CARLOS ANDRES</td>\n",
       "      <td>38</td>\n",
       "    </tr>\n",
       "    <tr>\n",
       "      <th>17</th>\n",
       "      <td>MONTERROSA SOTO ABRIL</td>\n",
       "      <td>37</td>\n",
       "    </tr>\n",
       "    <tr>\n",
       "      <th>18</th>\n",
       "      <td>NORIEGA JIMENEZ GABRIELA</td>\n",
       "      <td>17</td>\n",
       "    </tr>\n",
       "    <tr>\n",
       "      <th>19</th>\n",
       "      <td>PEREZ REYES IVAN DARIO</td>\n",
       "      <td>29</td>\n",
       "    </tr>\n",
       "    <tr>\n",
       "      <th>20</th>\n",
       "      <td>PEREZ THERAN ERLINDA</td>\n",
       "      <td>29</td>\n",
       "    </tr>\n",
       "    <tr>\n",
       "      <th>21</th>\n",
       "      <td>PINEDA ROMERO YOSMERI</td>\n",
       "      <td>42</td>\n",
       "    </tr>\n",
       "    <tr>\n",
       "      <th>22</th>\n",
       "      <td>QUINONEZ CERVANTES MARIANA</td>\n",
       "      <td>46</td>\n",
       "    </tr>\n",
       "    <tr>\n",
       "      <th>23</th>\n",
       "      <td>QUIROZ DURAN JUAN MANUEL</td>\n",
       "      <td>12</td>\n",
       "    </tr>\n",
       "    <tr>\n",
       "      <th>24</th>\n",
       "      <td>RAMOS PEREZ YANINE</td>\n",
       "      <td>7</td>\n",
       "    </tr>\n",
       "    <tr>\n",
       "      <th>25</th>\n",
       "      <td>RIVAS HOYOS ESTEFANIA</td>\n",
       "      <td>51</td>\n",
       "    </tr>\n",
       "    <tr>\n",
       "      <th>26</th>\n",
       "      <td>ROSILLO TEJADA VANESA</td>\n",
       "      <td>45</td>\n",
       "    </tr>\n",
       "    <tr>\n",
       "      <th>27</th>\n",
       "      <td>SANCHEZ PADILLA SILVESTRE</td>\n",
       "      <td>29</td>\n",
       "    </tr>\n",
       "    <tr>\n",
       "      <th>28</th>\n",
       "      <td>SILVA ROYERO MAILY CRISTINA</td>\n",
       "      <td>7</td>\n",
       "    </tr>\n",
       "    <tr>\n",
       "      <th>29</th>\n",
       "      <td>USUGA GEORGE JHON ESTIVEN</td>\n",
       "      <td>49</td>\n",
       "    </tr>\n",
       "    <tr>\n",
       "      <th>30</th>\n",
       "      <td>JUAN FELIPE HERNANDEZ ARDILA</td>\n",
       "      <td>8</td>\n",
       "    </tr>\n",
       "    <tr>\n",
       "      <th>31</th>\n",
       "      <td>NaN</td>\n",
       "      <td>13</td>\n",
       "    </tr>\n",
       "  </tbody>\n",
       "</table>\n",
       "</div>"
      ],
      "text/plain": [
       "                              Student  Exer1\n",
       "0        AGUDELO MORENO RENATO DIRNEY     21\n",
       "1   AMARIS FERNANDEZ SEBASTIAN CAMILO     40\n",
       "2       ARENAS HERAZO GABRIEL ENRIQUE     26\n",
       "3        AYALA MENDOZA MARISOL YACIRA     30\n",
       "4          BERTEL RODELO MICHELL SMIT     13\n",
       "5            BULA VERGARA MARIA PAULA     28\n",
       "6             CANTILLO ENSUCHO DANIEL     19\n",
       "7            CERVANTES DURAN ANGELICA      4\n",
       "8         GALLEGO TEJADA JUAN ESTEBAN      7\n",
       "9             GUERRA NORIEGA YONATHAN     19\n",
       "10    HINCAPIE CASTRO JOHAN SEBASTIAN     49\n",
       "11             HUMANEZ SANCHEZ CAMILO     38\n",
       "12       IBAnEZ MORENO FRANCISCO LUIS     53\n",
       "13  LONDONO CUADRADO CRISTIAN ALBERTO     23\n",
       "14       LOZANO HOLGUIN LIZETH JOHANA     13\n",
       "15          MASS MIRANDA RIVALDO JOSE     23\n",
       "16     MIRANDA MARTINEZ CARLOS ANDRES     38\n",
       "17              MONTERROSA SOTO ABRIL     37\n",
       "18           NORIEGA JIMENEZ GABRIELA     17\n",
       "19             PEREZ REYES IVAN DARIO     29\n",
       "20               PEREZ THERAN ERLINDA     29\n",
       "21              PINEDA ROMERO YOSMERI     42\n",
       "22         QUINONEZ CERVANTES MARIANA     46\n",
       "23           QUIROZ DURAN JUAN MANUEL     12\n",
       "24                 RAMOS PEREZ YANINE      7\n",
       "25              RIVAS HOYOS ESTEFANIA     51\n",
       "26              ROSILLO TEJADA VANESA     45\n",
       "27          SANCHEZ PADILLA SILVESTRE     29\n",
       "28        SILVA ROYERO MAILY CRISTINA      7\n",
       "29          USUGA GEORGE JHON ESTIVEN     49\n",
       "30       JUAN FELIPE HERNANDEZ ARDILA      8\n",
       "31                                NaN     13"
      ]
     },
     "execution_count": 5,
     "metadata": {},
     "output_type": "execute_result"
    }
   ],
   "source": [
    "# asignación de ejercicios de un seccion del texto guía\n",
    "\n",
    "# numpy.random.choice() obten la documentación de esta función en: \n",
    "# https://numpy.org/doc/stable/reference/random/generated/numpy.random.choice.html\n",
    "\n",
    "import pandas as pd\n",
    "import numpy as np\n",
    "import requests\n",
    "np.random.seed(42)  # establecer semilla aleatoria para hacer los resultados reproducibles\n",
    "\n",
    "\n",
    "\n",
    "grupo_estudiantes = 'calculo_integral'\n",
    "nombre_texto_guia = 'Purcell'\n",
    "pagina_y_seccion = 'Página_202_Sección_3.8'\n",
    "numero_ejercicios_taller = 54\n",
    "numero_de_ejercicios_asignados = 1\n",
    "\n",
    "\n",
    "# Descargar la lista de  estudiantes\n",
    "students_url = \"https://raw.githubusercontent.com/marco-canas/groups_list/main/\" + grupo_estudiantes + \".csv\"\n",
    "exercises = list(range(1, numero_ejercicios_taller))  \n",
    "\n",
    "students_data = pd.read_csv(students_url)\n",
    "\n",
    "# Crear una lista para almacenar las asignaciones\n",
    "assignments = []\n",
    "\n",
    "# Asignar ejercicios aleatorios a cada estudiante\n",
    "for index, student in students_data.iterrows():\n",
    "    # Seleccionar 5 ejercicios aleatorios sin repetición\n",
    "    random_exercises = np.random.choice(exercises, numero_de_ejercicios_asignados, replace = False)+ 1 \n",
    "    assignments.append([students_data[\"Nombre\"][index], *random_exercises])  # Agregar asignación a la lista\n",
    "\n",
    "# Crear un DataFrame con las asignaciones\n",
    "columns = [\"Student\"] + [ \"Exer\" + str(i+1) for i in range(numero_de_ejercicios_asignados)]\n",
    "assignment_df = pd.DataFrame(assignments, columns=columns)\n",
    "\n",
    "# Guardar el DataFrame en un archivo CSV\n",
    "assignment_csv = \"tarea\" + \"_\" + nombre_texto_guia + \"_\"+ pagina_y_seccion + \".csv\"\n",
    "assignment_df.to_csv(assignment_csv, index=False)\n",
    "\n",
    "print(\"Tarea asignada: \", assignment_csv)\n",
    "assignment_df"
   ]
  },
  {
   "cell_type": "markdown",
   "id": "8b6b0112",
   "metadata": {
    "slideshow": {
     "slide_type": "slide"
    }
   },
   "source": [
    "# Tareas para realizar después de la realización de la clase"
   ]
  },
  {
   "cell_type": "markdown",
   "id": "947460e3",
   "metadata": {
    "slideshow": {
     "slide_type": "slide"
    }
   },
   "source": [
    "* Actividades de memorización: \n",
    "  - escucha reiterada de grabaciones de formulas y resultados científicos. \n",
    "  - relectura de notas. \n",
    "  - ejercicios de mayor complejidad.\n",
    "\n",
    "\n",
    "### No olvide asignar las tareas a los estudiantes a través de Google Colab y compartiendole el cuaderno de asignación a su correo institucional con fecha de entrega. [Google Colab](https://colab.research.google.com/?hl=es)   \n",
    "  "
   ]
  },
  {
   "cell_type": "markdown",
   "id": "d34defb9",
   "metadata": {
    "slideshow": {
     "slide_type": "slide"
    }
   },
   "source": [
    "## Asignación individual de tareas semanales "
   ]
  },
  {
   "cell_type": "code",
   "execution_count": 4,
   "id": "0406f442",
   "metadata": {
    "slideshow": {
     "slide_type": "slide"
    }
   },
   "outputs": [
    {
     "name": "stdout",
     "output_type": "stream",
     "text": [
      "Tarea asignada:  tarea_Purcell_Página_202_Sección_3.8.csv\n"
     ]
    },
    {
     "data": {
      "text/html": [
       "<div>\n",
       "<style scoped>\n",
       "    .dataframe tbody tr th:only-of-type {\n",
       "        vertical-align: middle;\n",
       "    }\n",
       "\n",
       "    .dataframe tbody tr th {\n",
       "        vertical-align: top;\n",
       "    }\n",
       "\n",
       "    .dataframe thead th {\n",
       "        text-align: right;\n",
       "    }\n",
       "</style>\n",
       "<table border=\"1\" class=\"dataframe\">\n",
       "  <thead>\n",
       "    <tr style=\"text-align: right;\">\n",
       "      <th></th>\n",
       "      <th>Student</th>\n",
       "      <th>Exer1</th>\n",
       "      <th>Exer2</th>\n",
       "      <th>Exer3</th>\n",
       "    </tr>\n",
       "  </thead>\n",
       "  <tbody>\n",
       "    <tr>\n",
       "      <th>0</th>\n",
       "      <td>AGUDELO MORENO RENATO DIRNEY</td>\n",
       "      <td>21</td>\n",
       "      <td>43</td>\n",
       "      <td>49</td>\n",
       "    </tr>\n",
       "    <tr>\n",
       "      <th>1</th>\n",
       "      <td>AMARIS FERNANDEZ SEBASTIAN CAMILO</td>\n",
       "      <td>40</td>\n",
       "      <td>12</td>\n",
       "      <td>6</td>\n",
       "    </tr>\n",
       "    <tr>\n",
       "      <th>2</th>\n",
       "      <td>ARENAS HERAZO GABRIEL ENRIQUE</td>\n",
       "      <td>26</td>\n",
       "      <td>51</td>\n",
       "      <td>49</td>\n",
       "    </tr>\n",
       "    <tr>\n",
       "      <th>3</th>\n",
       "      <td>AYALA MENDOZA MARISOL YACIRA</td>\n",
       "      <td>30</td>\n",
       "      <td>17</td>\n",
       "      <td>49</td>\n",
       "    </tr>\n",
       "    <tr>\n",
       "      <th>4</th>\n",
       "      <td>BERTEL RODELO MICHELL SMIT</td>\n",
       "      <td>13</td>\n",
       "      <td>42</td>\n",
       "      <td>51</td>\n",
       "    </tr>\n",
       "    <tr>\n",
       "      <th>5</th>\n",
       "      <td>BULA VERGARA MARIA PAULA</td>\n",
       "      <td>28</td>\n",
       "      <td>48</td>\n",
       "      <td>45</td>\n",
       "    </tr>\n",
       "    <tr>\n",
       "      <th>6</th>\n",
       "      <td>CANTILLO ENSUCHO DANIEL</td>\n",
       "      <td>19</td>\n",
       "      <td>26</td>\n",
       "      <td>36</td>\n",
       "    </tr>\n",
       "    <tr>\n",
       "      <th>7</th>\n",
       "      <td>CERVANTES DURAN ANGELICA</td>\n",
       "      <td>4</td>\n",
       "      <td>33</td>\n",
       "      <td>48</td>\n",
       "    </tr>\n",
       "    <tr>\n",
       "      <th>8</th>\n",
       "      <td>GALLEGO TEJADA JUAN ESTEBAN</td>\n",
       "      <td>7</td>\n",
       "      <td>54</td>\n",
       "      <td>3</td>\n",
       "    </tr>\n",
       "    <tr>\n",
       "      <th>9</th>\n",
       "      <td>GUERRA NORIEGA YONATHAN</td>\n",
       "      <td>19</td>\n",
       "      <td>23</td>\n",
       "      <td>45</td>\n",
       "    </tr>\n",
       "    <tr>\n",
       "      <th>10</th>\n",
       "      <td>HINCAPIE CASTRO JOHAN SEBASTIAN</td>\n",
       "      <td>49</td>\n",
       "      <td>43</td>\n",
       "      <td>2</td>\n",
       "    </tr>\n",
       "    <tr>\n",
       "      <th>11</th>\n",
       "      <td>HUMANEZ SANCHEZ CAMILO</td>\n",
       "      <td>38</td>\n",
       "      <td>33</td>\n",
       "      <td>26</td>\n",
       "    </tr>\n",
       "    <tr>\n",
       "      <th>12</th>\n",
       "      <td>IBAnEZ MORENO FRANCISCO LUIS</td>\n",
       "      <td>53</td>\n",
       "      <td>32</td>\n",
       "      <td>3</td>\n",
       "    </tr>\n",
       "    <tr>\n",
       "      <th>13</th>\n",
       "      <td>LONDONO CUADRADO CRISTIAN ALBERTO</td>\n",
       "      <td>23</td>\n",
       "      <td>5</td>\n",
       "      <td>50</td>\n",
       "    </tr>\n",
       "    <tr>\n",
       "      <th>14</th>\n",
       "      <td>LOZANO HOLGUIN LIZETH JOHANA</td>\n",
       "      <td>13</td>\n",
       "      <td>25</td>\n",
       "      <td>19</td>\n",
       "    </tr>\n",
       "    <tr>\n",
       "      <th>15</th>\n",
       "      <td>MASS MIRANDA RIVALDO JOSE</td>\n",
       "      <td>23</td>\n",
       "      <td>42</td>\n",
       "      <td>2</td>\n",
       "    </tr>\n",
       "    <tr>\n",
       "      <th>16</th>\n",
       "      <td>MIRANDA MARTINEZ CARLOS ANDRES</td>\n",
       "      <td>38</td>\n",
       "      <td>49</td>\n",
       "      <td>24</td>\n",
       "    </tr>\n",
       "    <tr>\n",
       "      <th>17</th>\n",
       "      <td>MONTERROSA SOTO ABRIL</td>\n",
       "      <td>37</td>\n",
       "      <td>8</td>\n",
       "      <td>15</td>\n",
       "    </tr>\n",
       "    <tr>\n",
       "      <th>18</th>\n",
       "      <td>NORIEGA JIMENEZ GABRIELA</td>\n",
       "      <td>17</td>\n",
       "      <td>34</td>\n",
       "      <td>19</td>\n",
       "    </tr>\n",
       "    <tr>\n",
       "      <th>19</th>\n",
       "      <td>PEREZ REYES IVAN DARIO</td>\n",
       "      <td>29</td>\n",
       "      <td>42</td>\n",
       "      <td>8</td>\n",
       "    </tr>\n",
       "    <tr>\n",
       "      <th>20</th>\n",
       "      <td>PEREZ THERAN ERLINDA</td>\n",
       "      <td>29</td>\n",
       "      <td>17</td>\n",
       "      <td>10</td>\n",
       "    </tr>\n",
       "    <tr>\n",
       "      <th>21</th>\n",
       "      <td>PINEDA ROMERO YOSMERI</td>\n",
       "      <td>42</td>\n",
       "      <td>10</td>\n",
       "      <td>17</td>\n",
       "    </tr>\n",
       "    <tr>\n",
       "      <th>22</th>\n",
       "      <td>QUINONEZ CERVANTES MARIANA</td>\n",
       "      <td>46</td>\n",
       "      <td>28</td>\n",
       "      <td>18</td>\n",
       "    </tr>\n",
       "    <tr>\n",
       "      <th>23</th>\n",
       "      <td>QUIROZ DURAN JUAN MANUEL</td>\n",
       "      <td>12</td>\n",
       "      <td>13</td>\n",
       "      <td>6</td>\n",
       "    </tr>\n",
       "    <tr>\n",
       "      <th>24</th>\n",
       "      <td>RAMOS PEREZ YANINE</td>\n",
       "      <td>7</td>\n",
       "      <td>42</td>\n",
       "      <td>10</td>\n",
       "    </tr>\n",
       "    <tr>\n",
       "      <th>25</th>\n",
       "      <td>RIVAS HOYOS ESTEFANIA</td>\n",
       "      <td>51</td>\n",
       "      <td>53</td>\n",
       "      <td>17</td>\n",
       "    </tr>\n",
       "    <tr>\n",
       "      <th>26</th>\n",
       "      <td>ROSILLO TEJADA VANESA</td>\n",
       "      <td>45</td>\n",
       "      <td>15</td>\n",
       "      <td>14</td>\n",
       "    </tr>\n",
       "    <tr>\n",
       "      <th>27</th>\n",
       "      <td>SANCHEZ PADILLA SILVESTRE</td>\n",
       "      <td>29</td>\n",
       "      <td>5</td>\n",
       "      <td>27</td>\n",
       "    </tr>\n",
       "    <tr>\n",
       "      <th>28</th>\n",
       "      <td>SILVA ROYERO MAILY CRISTINA</td>\n",
       "      <td>7</td>\n",
       "      <td>6</td>\n",
       "      <td>10</td>\n",
       "    </tr>\n",
       "    <tr>\n",
       "      <th>29</th>\n",
       "      <td>USUGA GEORGE JHON ESTIVEN</td>\n",
       "      <td>49</td>\n",
       "      <td>35</td>\n",
       "      <td>52</td>\n",
       "    </tr>\n",
       "    <tr>\n",
       "      <th>30</th>\n",
       "      <td>JUAN FELIPE HERNANDEZ ARDILA</td>\n",
       "      <td>8</td>\n",
       "      <td>2</td>\n",
       "      <td>32</td>\n",
       "    </tr>\n",
       "    <tr>\n",
       "      <th>31</th>\n",
       "      <td>NaN</td>\n",
       "      <td>13</td>\n",
       "      <td>31</td>\n",
       "      <td>16</td>\n",
       "    </tr>\n",
       "  </tbody>\n",
       "</table>\n",
       "</div>"
      ],
      "text/plain": [
       "                              Student  Exer1  Exer2  Exer3\n",
       "0        AGUDELO MORENO RENATO DIRNEY     21     43     49\n",
       "1   AMARIS FERNANDEZ SEBASTIAN CAMILO     40     12      6\n",
       "2       ARENAS HERAZO GABRIEL ENRIQUE     26     51     49\n",
       "3        AYALA MENDOZA MARISOL YACIRA     30     17     49\n",
       "4          BERTEL RODELO MICHELL SMIT     13     42     51\n",
       "5            BULA VERGARA MARIA PAULA     28     48     45\n",
       "6             CANTILLO ENSUCHO DANIEL     19     26     36\n",
       "7            CERVANTES DURAN ANGELICA      4     33     48\n",
       "8         GALLEGO TEJADA JUAN ESTEBAN      7     54      3\n",
       "9             GUERRA NORIEGA YONATHAN     19     23     45\n",
       "10    HINCAPIE CASTRO JOHAN SEBASTIAN     49     43      2\n",
       "11             HUMANEZ SANCHEZ CAMILO     38     33     26\n",
       "12       IBAnEZ MORENO FRANCISCO LUIS     53     32      3\n",
       "13  LONDONO CUADRADO CRISTIAN ALBERTO     23      5     50\n",
       "14       LOZANO HOLGUIN LIZETH JOHANA     13     25     19\n",
       "15          MASS MIRANDA RIVALDO JOSE     23     42      2\n",
       "16     MIRANDA MARTINEZ CARLOS ANDRES     38     49     24\n",
       "17              MONTERROSA SOTO ABRIL     37      8     15\n",
       "18           NORIEGA JIMENEZ GABRIELA     17     34     19\n",
       "19             PEREZ REYES IVAN DARIO     29     42      8\n",
       "20               PEREZ THERAN ERLINDA     29     17     10\n",
       "21              PINEDA ROMERO YOSMERI     42     10     17\n",
       "22         QUINONEZ CERVANTES MARIANA     46     28     18\n",
       "23           QUIROZ DURAN JUAN MANUEL     12     13      6\n",
       "24                 RAMOS PEREZ YANINE      7     42     10\n",
       "25              RIVAS HOYOS ESTEFANIA     51     53     17\n",
       "26              ROSILLO TEJADA VANESA     45     15     14\n",
       "27          SANCHEZ PADILLA SILVESTRE     29      5     27\n",
       "28        SILVA ROYERO MAILY CRISTINA      7      6     10\n",
       "29          USUGA GEORGE JHON ESTIVEN     49     35     52\n",
       "30       JUAN FELIPE HERNANDEZ ARDILA      8      2     32\n",
       "31                                NaN     13     31     16"
      ]
     },
     "execution_count": 4,
     "metadata": {},
     "output_type": "execute_result"
    }
   ],
   "source": [
    "# asignación de ejercicios de un seccion del texto guía\n",
    "\n",
    "# numpy.random.choice() obten la documentación de esta función en: \n",
    "# https://numpy.org/doc/stable/reference/random/generated/numpy.random.choice.html\n",
    "\n",
    "import pandas as pd\n",
    "import numpy as np\n",
    "import requests\n",
    "np.random.seed(42)  # establecer semilla aleatoria para hacer los resultados reproducibles\n",
    "\n",
    "\n",
    "\n",
    "grupo_estudiantes = 'calculo_integral'\n",
    "nombre_texto_guia = 'Purcell'\n",
    "pagina_y_seccion = 'Página_202_Sección_3.8'\n",
    "numero_ejercicios_taller = 54\n",
    "numero_de_ejercicios_asignados = 3\n",
    "\n",
    "\n",
    "# Descargar la lista de  estudiantes\n",
    "students_url = \"https://raw.githubusercontent.com/marco-canas/groups_list/main/\" + grupo_estudiantes + \".csv\"\n",
    "exercises = list(range(1, numero_ejercicios_taller))  \n",
    "\n",
    "students_data = pd.read_csv(students_url)\n",
    "\n",
    "# Crear una lista para almacenar las asignaciones\n",
    "assignments = []\n",
    "\n",
    "# Asignar ejercicios aleatorios a cada estudiante\n",
    "for index, student in students_data.iterrows():\n",
    "    # Seleccionar 5 ejercicios aleatorios sin repetición\n",
    "    random_exercises = np.random.choice(exercises, numero_de_ejercicios_asignados, replace = False)+ 1 \n",
    "    assignments.append([students_data[\"Nombre\"][index], *random_exercises])  # Agregar asignación a la lista\n",
    "\n",
    "# Crear un DataFrame con las asignaciones\n",
    "columns = [\"Student\"] + [ \"Exer\" + str(i+1) for i in range(numero_de_ejercicios_asignados)]\n",
    "assignment_df = pd.DataFrame(assignments, columns=columns)\n",
    "\n",
    "# Guardar el DataFrame en un archivo CSV\n",
    "assignment_csv = \"tarea\" + \"_\" + nombre_texto_guia + \"_\"+ pagina_y_seccion + \".csv\"\n",
    "assignment_df.to_csv(assignment_csv, index=False)\n",
    "\n",
    "print(\"Tarea asignada: \", assignment_csv)\n",
    "assignment_df"
   ]
  },
  {
   "cell_type": "markdown",
   "id": "742281f4",
   "metadata": {},
   "source": [
    "# No olvide la tarea de realizar la foda para autoevaluarse\n",
    "\n",
    "Fortalezas: F  \n",
    "Oportuniudades O:  \n",
    "Debilidades: D:   \n",
    "Amenazas: A:     "
   ]
  },
  {
   "cell_type": "markdown",
   "id": "8d41fe58",
   "metadata": {
    "slideshow": {
     "slide_type": "slide"
    }
   },
   "source": [
    "# Horario de clases del profesor Marco\n",
    "\n",
    "* Martes y jueves de 10 a 12: Fundamentos de las matemáticas\n",
    "* Martes y jueves de 2 a 4 PM: Fundamentos de la aritmética\n",
    "\n",
    "* Didáctica de la aritmética: Miércoles de 8 - 12\n",
    "\n"
   ]
  },
  {
   "cell_type": "markdown",
   "id": "ae114e14",
   "metadata": {
    "slideshow": {
     "slide_type": "slide"
    }
   },
   "source": [
    "# Horarios de monitoría y asesoría"
   ]
  },
  {
   "cell_type": "markdown",
   "id": "b1db4b6c",
   "metadata": {
    "slideshow": {
     "slide_type": "slide"
    }
   },
   "source": [
    "## Monitor Manuel"
   ]
  },
  {
   "cell_type": "markdown",
   "id": "39559692",
   "metadata": {
    "slideshow": {
     "slide_type": "slide"
    }
   },
   "source": [
    "Martes y jueves de 8 - 12  \n",
    "Miércoles 10 - 12 y de 2 a 4 PM  \n",
    "Sábado: 8 - 12"
   ]
  },
  {
   "cell_type": "markdown",
   "id": "935a5567",
   "metadata": {
    "slideshow": {
     "slide_type": "slide"
    }
   },
   "source": [
    "## Dificultades de aprendizaje detectados durante la clase"
   ]
  },
  {
   "cell_type": "markdown",
   "id": "3bd7500d",
   "metadata": {
    "slideshow": {
     "slide_type": "slide"
    }
   },
   "source": []
  },
  {
   "cell_type": "markdown",
   "id": "fb9402bb",
   "metadata": {
    "slideshow": {
     "slide_type": "slide"
    }
   },
   "source": [
    "## Estrategias propuestas para la solución de las dificultades de aprendizaje detectadas"
   ]
  },
  {
   "cell_type": "markdown",
   "id": "d437294b",
   "metadata": {
    "slideshow": {
     "slide_type": "slide"
    }
   },
   "source": []
  },
  {
   "cell_type": "markdown",
   "id": "d11570a2",
   "metadata": {
    "slideshow": {
     "slide_type": "slide"
    }
   },
   "source": []
  },
  {
   "cell_type": "markdown",
   "id": "319f2ffa",
   "metadata": {
    "slideshow": {
     "slide_type": "slide"
    }
   },
   "source": [
    "## Grabaciones en audio para fomentar la capacidad de memorizar enunciados de teoremas y resultados científicos y la capacidad de parafrasear estos resultados. Y así desarrollar memoria muscular para los comandos comunes. \n",
    "Se dispondrá de un lugar en Vocaroo para albergar archivos de audio de fomento a la memorización, enunciación y parafraseo de los resultados científicos, propiedades, reglas, etc. \n",
    "\n",
    "[Vocaroo](https://vocaroo.com/)\n",
    "\n"
   ]
  },
  {
   "cell_type": "markdown",
   "id": "564fa59d",
   "metadata": {
    "slideshow": {
     "slide_type": "slide"
    }
   },
   "source": [
    "### Comparta sus cuadernos y videos, evidencias de su aprendizaje [aquí](https://forms.office.com/Pages/ResponsePage.aspx?id=IefhmYRxjkmK_7KtTlPBwkanXIs1i1FEujpsZgO6dXpUMEMwTEZVMzEwVVBPTElWNVg5OVEyWUhMUy4u)"
   ]
  },
  {
   "cell_type": "markdown",
   "id": "1a1a3e41",
   "metadata": {
    "slideshow": {
     "slide_type": "slide"
    }
   },
   "source": []
  },
  {
   "cell_type": "markdown",
   "id": "94187562",
   "metadata": {},
   "source": [
    "# Colección de verbos irregulares aprendidos\n",
    "\n",
    "|Verbo irregular en presente|en español|Pasado|\n",
    "|---------------------------|----------|------|  \n",
    "|choose|elegir|chose|"
   ]
  },
  {
   "cell_type": "markdown",
   "id": "0266e3c5",
   "metadata": {
    "slideshow": {
     "slide_type": "slide"
    }
   },
   "source": [
    "## Quiz de 20 minutos para ejercitación y adquisición de habilidades "
   ]
  },
  {
   "cell_type": "markdown",
   "id": "3a1b127f",
   "metadata": {
    "slideshow": {
     "slide_type": "slide"
    }
   },
   "source": [
    "* Pregunta 1: \n",
    "* Pregunta 2: \n",
    "* Pregunta 3: "
   ]
  },
  {
   "cell_type": "markdown",
   "id": "10bce0d0",
   "metadata": {
    "slideshow": {
     "slide_type": "slide"
    }
   },
   "source": [
    "## Referentes "
   ]
  },
  {
   "cell_type": "markdown",
   "id": "1db3c468",
   "metadata": {
    "slideshow": {
     "slide_type": "slide"
    }
   },
   "source": [
    "* [stewart precálculo](https://udeaeduco-my.sharepoint.com/:b:/g/personal/marco_canas_udea_edu_co/ERHIq62I6qFNrmxy6LZb8ZMBci7kUsyNME1nIh9yCBMJ_w?e=0zMSla)  \n",
    "\n",
    "* [stewart cálculo](https://udeaeduco-my.sharepoint.com/:b:/g/personal/marco_canas_udea_edu_co/EZgXZjAp8QxPqOAim2hs6LcBNPLGjSHf-xwYnUVYkwa04w?e=RZdTCy)  \n",
    "\n",
    "* [larson](https://udeaeduco-my.sharepoint.com/:b:/g/personal/marco_canas_udea_edu_co/ES71ChFeO9ZDhW3TwC5Ijk8BjxUK3Pdqz_fjHxTTFAfIAg?e=VDEjfu)\n",
    "\n",
    "* [uzcategui](https://udeaeduco-my.sharepoint.com/:b:/g/personal/marco_canas_udea_edu_co/ETDikm-lVl1Or8XoEo9oyh0BEti9Zs8le-f0D-dBdtZmbA?e=bBsoyQ)\n",
    "\n",
    "* [Cálculo de Purcell](https://udeaeduco-my.sharepoint.com/:b:/g/personal/marco_canas_udea_edu_co/ES60UB4h-QFFqqRQUFmkpWcBIgoLBJeqTfZjNajWNWSeJA?e=9NxjKJ)\n",
    "\n",
    "* [Recomendación de la UNESCO sobre ciencia abierta](https://unesdoc.unesco.org/ark:/48223/pf0000379949_spa)\n",
    "\n",
    "* [Fórmulas más comunes en latex](https://wiki.geogebra.org/es/C%C3%B3digo_LaTeX_para_las_f%C3%B3rmulas_m%C3%A1s_comunes) \n",
    "\n",
    "* [chatGPT](https://openai.com/blog/chatgpt)  \n",
    "\n",
    "* Géron, A. (2017). Hands-on machine learning with scikit-learn and tensorflow: Concepts. Tools, and Techniques to build intelligent systems.[Geron, Aurelien. Hands on Machine Learning](https://udeaeduco-my.sharepoint.com/:b:/g/personal/marco_canas_udea_edu_co/Ecet27yjQzZIlT1Y_Bc2erkBUhbeYuIe6HG8i1FYZRlZww?e=dlvZ4v)  \n",
    "\n",
    "* McKinney, W. (2012). Python for data analysis: Data wrangling with Pandas, NumPy, and IPython. \" O'Reilly Media, Inc.\".[Wes Mackinney. ](https://udeaeduco-my.sharepoint.com/:b:/g/personal/marco_canas_udea_edu_co/EVbi5JIeBl9ErbiUnZfGe8YBhNTnZ8sxTK5hjIOPK4UpGw?e=fFclah)  \n",
    "\n",
    "* [Ledezma, C., Font, V., & Sala-Sebastià, G. MODELIZACIÓN MATEMÁTICA DESDE UNA ARTICULACIÓN TEÓRICA ENTRE LOS ENFOQUES COGNITIVO Y ONTO-SEMIÓTICO.](https://www.researchgate.net/profile/Carlos-Ledezma-4/publication/376076920_Modelizacion_matematica_desde_una_articulacion_teorica_entre_los_enfoques_cognitivo_y_onto-semiotico/links/6568cb363fa26f66f43b292a/Modelizacion-matematica-desde-una-articulacion-teorica-entre-los-enfoques-cognitivo-y-onto-semiotico.pdf)"
   ]
  },
  {
   "cell_type": "markdown",
   "id": "45c59aa9",
   "metadata": {},
   "source": [
    "[Autoevaluemonos para hacernos concientes de nuestro aprendizaje y en lo que debemos enfocarnos en mejorar]()  \n",
    "\n",
    "Aquí tienes una lista de preguntas de selección múltiple para una autoevaluación en un curso de cálculo con un enfoque pedagógico de aula invertida. Estas preguntas abarcan los objetivos de desarrollo del pensamiento variacional, pensamiento computacional a través de Python, capacidad de comunicación científica con LaTeX, Git y el uso de cuadernos Jupyter, así como la promoción de políticas de ciencia libre. \n",
    "\n",
    "1. **Pensamiento Variacional:**\n",
    "   a. ¿Qué significa el término \"variación\" en el contexto del pensamiento variacional?\n",
    "   b. ¿Cómo se relaciona el cálculo con el pensamiento variacional?\n",
    "   c. ¿Puede proporcionar un ejemplo práctico que ilustre el concepto de variación en un problema de cálculo?\n",
    "\n",
    "2. **Pensamiento Computacional (Python):**\n",
    "   a. ¿Cuál es el propósito principal de utilizar Python en un curso de cálculo?\n",
    "   b. ¿Cómo se puede utilizar Python para resolver problemas matemáticos complejos?\n",
    "   c. Menciona al menos dos ventajas de usar Python en comparación con otros lenguajes de programación en el contexto del cálculo.\n",
    "\n",
    "3. **Comunicación Científica (LaTeX):**\n",
    "   a. ¿Por qué es importante utilizar LaTeX para la comunicación científica en matemáticas y ciencias?\n",
    "   b. Enumera al menos tres comandos básicos de LaTeX utilizados para escribir ecuaciones matemáticas.\n",
    "   c. ¿Cómo mejorarías la presentación visual de una fórmula matemática utilizando LaTeX?\n",
    "\n",
    "4. **Gestión de Versiones (Git):**\n",
    "   a. ¿Cuál es el propósito principal de utilizar Git en el desarrollo de proyectos científicos?\n",
    "   b. Explica el concepto de \"commit\" en Git.\n",
    "   c. ¿Cómo resolverías un conflicto de fusión (merge conflict) en Git?\n",
    "\n",
    "5. **Cuadernos Jupyter:**\n",
    "   a. ¿Cuáles son las ventajas de utilizar cuadernos Jupyter en comparación con otros entornos de desarrollo?\n",
    "   b. Describe cómo se integra el código Python y la documentación en un cuaderno Jupyter.\n",
    "   c. ¿Cómo compartirías un cuaderno Jupyter con tus compañeros de clase utilizando GitHub?\n",
    "\n",
    "6. **Promoción de Políticas de Ciencia Libre:**\n",
    "   a. ¿Cuáles son los beneficios de utilizar plataformas como GitHub y YouTube para compartir recursos científicos?\n",
    "   b. ¿Cómo podrías contribuir a la promoción de la ciencia libre en tu comunidad académica?\n",
    "   c. ¿Por qué es importante la transparencia y accesibilidad en la investigación científica?\n",
    "\n",
    "Estas preguntas están diseñadas para evaluar la comprensión de los estudiantes en diversos aspectos del curso, abarcando desde los conceptos matemáticos hasta las habilidades tecnológicas y la conciencia sobre la ciencia libre."
   ]
  },
  {
   "cell_type": "markdown",
   "id": "8e65d6f9",
   "metadata": {},
   "source": [
    "# Como estudiante, encuentro que...   \n",
    "\n",
    "F: Mis Fortalezas son:     \n",
    "O: Mis Oportunidades son:    \n",
    "D: Mis Debilidades son:    \n",
    "A: Lo que Amenazas mi aprendizaje es:  "
   ]
  },
  {
   "cell_type": "markdown",
   "id": "6b9e56a8",
   "metadata": {
    "slideshow": {
     "slide_type": "slide"
    }
   },
   "source": [
    "### [Evaluamos al profesor Marco Cañas Aquí](https://forms.office.com/Pages/ResponsePage.aspx?id=IefhmYRxjkmK_7KtTlPBwkanXIs1i1FEujpsZgO6dXpUREJPV1kxUk1JV1ozTFJIQVNIQjY5WEY3US4u)"
   ]
  },
  {
   "cell_type": "markdown",
   "id": "050b9508",
   "metadata": {},
   "source": [
    "# Aportes de mis estudiantes a la metodología del curso  \n",
    "1. \n",
    "\n",
    "Sus opiniones y aportes son muy importantes para mi. Pues esta es una investigación educativa y un servicio de enseñanza para ustedes. Ustedes son la razón de ser de mi actividad docente. Dios los bendiga. "
   ]
  },
  {
   "cell_type": "markdown",
   "id": "6c4af91f",
   "metadata": {},
   "source": [
    "# Aportes de mis colegas docentes a la metodología que estoy aplicando en mis cursos. "
   ]
  },
  {
   "cell_type": "markdown",
   "id": "071afa04",
   "metadata": {
    "slideshow": {
     "slide_type": "slide"
    }
   },
   "source": [
    "## [Evaluación luego de alcanzar estos objetivos de aprendizaje]()"
   ]
  },
  {
   "cell_type": "markdown",
   "id": "10f43536",
   "metadata": {
    "slideshow": {
     "slide_type": "slide"
    }
   },
   "source": [
    "### Continue su aprendizaje en la siguiente clase a través del siguiente [vínculo]()"
   ]
  },
  {
   "cell_type": "markdown",
   "id": "af751e30",
   "metadata": {
    "slideshow": {
     "slide_type": "slide"
    }
   },
   "source": [
    "# Conjeturas pedagógicas fruto de la aplicación del modelo de aprendizaje invertido y del enfoque hacia la ciencia de datos con python\n",
    "\n",
    "1. Todo cálculo o resultado debe ser interpretado en una línea markdown del cuaderno Jupyter, inmediatamente después de la enunciación del resultado y después de la presentación de una tabla o gráfico bidimensional, de tal menera que el estudiante explicite la comprensión verbal del resultado y las inferencias o estrategias que este resultado le sugieren.  \n",
    "\n",
    "2. Debo colocar las conjeturas pedagógicas, que el uso en el aula de [ChatGPT](https://openai.com/blog/chatgpt/) traiga para la enseñanza y el aprendizaje de las matemáticas. \n",
    "\n",
    "3. Promover ciencia abierta en clase de matemáticas puede ser pidiendo a los estudiantes, tomar nota en clase pero en cuadernos Jupyter y entregar siempre al final de cada clase su cuaderno con todas las notas y experimentaciones de clase replicadas. \n",
    "4. Profesor Marco, ¿ha contemplado la posibilidad de intercambio de experiencias de aprendizaje y aplicación de Python al día a día con comfama? (Estudio Trabajo Social y allí, en comfama, aprendí los fundamentos, lo básico de Python)\n",
    "\n",
    "¿Conoce si en la Universidad de Antioquia hay medios para poder aprender Swift/XCODE? (Para programar para dispositivos de Apple)\n",
    "5. Debo considerar la metodología ABP, es decir, diseñar las clase bajo la metodología de Aprendizaje Basado en Problemas. \n",
    "\n"
   ]
  },
  {
   "cell_type": "markdown",
   "id": "53cc9115",
   "metadata": {
    "slideshow": {
     "slide_type": "slide"
    }
   },
   "source": [
    "## Agradecimientos  \n",
    "\n",
    "Doy gracias a Dios por la vida de mi Hijo Joseph Cañas Osorio y la madurez que ha alcanzado.\n",
    "\n",
    "Y a mi esposa Yasmira por su apoyo, orientación y acompañamiento. "
   ]
  }
 ],
 "metadata": {
  "celltoolbar": "Slideshow",
  "kernelspec": {
   "display_name": "Python 3 (ipykernel)",
   "language": "python",
   "name": "python3"
  },
  "language_info": {
   "codemirror_mode": {
    "name": "ipython",
    "version": 3
   },
   "file_extension": ".py",
   "mimetype": "text/x-python",
   "name": "python",
   "nbconvert_exporter": "python",
   "pygments_lexer": "ipython3",
   "version": "3.10.12"
  },
  "rise": {
   "enable_chalkboard": true,
   "theme": "sky",
   "transition": "zoom"
  }
 },
 "nbformat": 4,
 "nbformat_minor": 5
}
