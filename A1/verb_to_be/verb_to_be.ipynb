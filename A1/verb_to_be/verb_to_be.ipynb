{
 "cells": [
  {
   "cell_type": "code",
   "execution_count": null,
   "metadata": {},
   "outputs": [],
   "source": []
  },
  {
   "cell_type": "markdown",
   "metadata": {},
   "source": [
    "# The verb to be"
   ]
  },
  {
   "cell_type": "markdown",
   "metadata": {},
   "source": [
    "## Empatía y desempeño\n",
    "\n"
   ]
  },
  {
   "cell_type": "markdown",
   "metadata": {},
   "source": [
    "Empatía y desempeño soon dos virtudez que parecen completamente independientesy, en muchos sentidos, lo son. "
   ]
  },
  {
   "cell_type": "markdown",
   "metadata": {},
   "source": [
    "Sin embargo, son asombrosa y extraordinariamente interdependientes. "
   ]
  },
  {
   "cell_type": "markdown",
   "metadata": {},
   "source": [
    "Una de las mayores necesidades humanas es ser comprendido. "
   ]
  },
  {
   "cell_type": "markdown",
   "metadata": {},
   "source": [
    "Lo que el oxígene es para el cuerpo lo es la comprensión para el corazón. Esto nos da aire emocional y psicológico. "
   ]
  },
  {
   "cell_type": "markdown",
   "metadata": {},
   "source": [
    "El verbo to be es un verbo irregular, es decir, no sigue las reglas de conjugación. Pero también es el verbo más importante. "
   ]
  },
  {
   "cell_type": "markdown",
   "metadata": {},
   "source": [
    "¡Claro! Aquí tienes una secuencia de actividades para aprender el verbo \"to be\" en inglés, que incluye práctica de escritura, escucha, habla y lectura:\n"
   ]
  },
  {
   "cell_type": "markdown",
   "metadata": {},
   "source": [
    "\n",
    "### Actividad 1: Introducción al Verbo \"to be\"\n",
    "\n",
    "**Objetivo:** Presentar el verbo \"to be\" y su uso en afirmativas, negativas e interrogativas.\n",
    "\n",
    "1. **Escucha y Repite:**\n",
    "   - Comienza con una breve introducción oral del verbo \"to be\".\n",
    "   - Pronuncia frases afirmativas, negativas e interrogativas usando \"am,\" \"is,\" y \"are,\" y pide a los estudiantes que repitan después de ti.\n"
   ]
  },
  {
   "cell_type": "markdown",
   "metadata": {},
   "source": [
    "\n",
    "### Actividad 2: Práctica de Escritura\n",
    "\n",
    "**Objetivo:** Practicar la escritura del verbo \"to be\" en diferentes formas.\n",
    "\n",
    "1. **Completa las Oraciones:**\n",
    "   - Proporciona oraciones con espacios en blanco para que los estudiantes completen usando las formas correctas del verbo \"to be.\" Por ejemplo: \"She ___ a doctor.\"\n"
   ]
  },
  {
   "cell_type": "markdown",
   "metadata": {},
   "source": [
    "\n",
    "### Actividad 3: Práctica de Escucha\n",
    "\n",
    "**Objetivo:** Mejorar la comprensión auditiva del verbo \"to be.\"\n",
    "\n",
    "1. **Escucha y Empareja:**\n",
    "   - Lee oraciones afirmativas, negativas e interrogativas en voz alta y pide a los estudiantes que emparejen las oraciones con las imágenes correspondientes.\n",
    "\n",
    "### Actividad 4: Práctica de Habla\n",
    "\n",
    "**Objetivo:** Practicar la pronunciación y la construcción de oraciones con el verbo \"to be.\"\n",
    "\n",
    "1. **Conversaciones Simples:**\n",
    "   - Divide a los estudiantes en parejas o grupos pequeños y da a cada grupo una situación específica. Los estudiantes deben crear un diálogo corto utilizando el verbo \"to be\" para hablar sobre la situación asignada.\n",
    "\n",
    "### Actividad 5: Práctica de Lectura\n",
    "\n",
    "**Objetivo:** Mejorar las habilidades de lectura y comprensión del verbo \"to be.\"\n",
    "\n",
    "1. **Lectura en Parejas:**\n",
    "   - Proporciona a los estudiantes un texto corto que contenga varias instancias del verbo \"to be.\" Los estudiantes deben leer el texto en parejas y luego hacer preguntas entre ellos para asegurarse de que comprendieron el uso del verbo \"to be\" en el contexto.\n",
    "\n",
    "### Actividad 6: Aplicación Práctica\n",
    "\n",
    "**Objetivo:** Aplicar el conocimiento del verbo \"to be\" en situaciones del mundo real.\n",
    "\n",
    "1. **Situaciones Cotidianas:**\n",
    "   - Presenta situaciones cotidianas y pide a los estudiantes que creen oraciones utilizando el verbo \"to be\" para describir esas situaciones. Por ejemplo: \"I am happy in the morning.\"\n",
    "\n",
    "### Actividad 7: Evaluación\n",
    "\n",
    "**Objetivo:** Evaluar la comprensión y el uso del verbo \"to be\" en diversas formas.\n",
    "\n",
    "1. **Ejercicios de Evaluación:**\n",
    "   - Administra ejercicios escritos y orales que incluyan preguntas sobre el uso correcto del verbo \"to be\" en diferentes contextos (afirmativo, negativo, interrogativo).\n",
    "\n",
    "Recuerda adaptar estas actividades según el nivel y las necesidades específicas de los estudiantes. También es importante proporcionar retroalimentación regular para ayudarles a mejorar sus habilidades con el verbo \"to be\"."
   ]
  },
  {
   "cell_type": "markdown",
   "metadata": {},
   "source": [
    "# Por supuesto, aquí te dejo 20 frases para la actividad de \"Escucha y Repite\" sobre el verbo \"to be\":\n"
   ]
  },
  {
   "cell_type": "markdown",
   "metadata": {},
   "source": [
    "\n",
    "1. I am a student.\n",
    "2. You are my friend.\n",
    "3. He is a doctor.\n",
    "4. She is not tired.\n",
    "5. It is a sunny day.\n",
    "6. We are happy.\n",
    "7. They are teachers.\n",
    "8. Am I late?\n",
    "9. Are you ready?\n",
    "10. Is he your brother?\n",
    "11. Is she at home?\n",
    "12. Is it a cat?\n",
    "13. Are we going to the park?\n",
    "14. Are they coming to the party?: ¿Ellos/Ellas vienen a la fiesta?\n",
    "15. I am not hungry.\n",
    "16. You are not alone.\n",
    "17. He is not here.\n",
    "18. She is not my sister.\n",
    "19. It is not easy.\n",
    "20. We are not sure.\n"
   ]
  },
  {
   "cell_type": "markdown",
   "metadata": {},
   "source": [
    "\n",
    "Espero que estas frases sean útiles para tu actividad. ¡Buena suerte!"
   ]
  },
  {
   "cell_type": "markdown",
   "metadata": {},
   "source": [
    "dame 20 ejercicios de acuerdo a la actividad: ### Actividad 2: Práctica de Escritura\n",
    "\n",
    "*Objetivo:* Practicar la escritura del verbo \"to be\" en diferentes formas.\n",
    "\n",
    "1. *Completa las Oraciones:*\n",
    "   - Proporciona oraciones con espacios en blanco para que los estudiantes completen usando las formas correctas del verbo \"to be.\" Por ejemplo: \"She _ a doctor.\""
   ]
  },
  {
   "cell_type": "markdown",
   "metadata": {},
   "source": [
    "Claro, aquí tienes 20 ejercicios para la actividad de \"Completa las Oraciones\" sobre el verbo \"to be\":\n",
    "\n",
    "1. They __ my friends.\n",
    "2. I __ a teacher.\n",
    "3. She __ not happy.\n",
    "4. We __ at the park yesterday.\n",
    "5. Are you __ my classmate?\n",
    "6. He __ not interested in sports.\n",
    "7. It __ a great movie.\n",
    "8. You __ my best friend.\n",
    "9. Is she __ at the library?\n",
    "10. They __ not from Spain.\n",
    "11. We __ ready for the exam.\n",
    "12. It __ not a problem.\n",
    "13. Am I __ late for the meeting?\n",
    "14. She __ a talented singer.\n",
    "15. You __ not my sister.\n",
    "16. He __ a doctor, right?\n",
    "17. We __ not sure about the answer.\n",
    "18. They __ in the garden.\n",
    "19. Is it __ your bag?\n",
    "20. I __ not feeling well today.\n",
    "\n",
    "Espero que estos ejercicios sean útiles para tu actividad de práctica de escritura con el verbo \"to be\". ¡Buena suerte!"
   ]
  },
  {
   "cell_type": "code",
   "execution_count": null,
   "metadata": {},
   "outputs": [],
   "source": []
  },
  {
   "cell_type": "code",
   "execution_count": null,
   "metadata": {},
   "outputs": [],
   "source": []
  },
  {
   "cell_type": "code",
   "execution_count": null,
   "metadata": {},
   "outputs": [],
   "source": []
  }
 ],
 "metadata": {
  "language_info": {
   "name": "python"
  }
 },
 "nbformat": 4,
 "nbformat_minor": 2
}
